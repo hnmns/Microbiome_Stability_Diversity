{
 "cells": [
  {
   "cell_type": "code",
   "execution_count": 1,
   "metadata": {},
   "outputs": [],
   "source": [
    "###############################################################\n",
    "#\n",
    "# Consumer-Resource model with production.\n",
    "# Produces eigenvalue plots for symmetric and asymmetric P\n",
    "# matrices.\n",
    "# Each resource density = r\n",
    "# Each species abundance = s\n",
    "# Consumption matrix C = c*I  ### Completely specialized\n",
    "#\n",
    "################################################################\n",
    "\n",
    "# From Butler, O'Dwyer (2018)"
   ]
  },
  {
   "cell_type": "code",
   "execution_count": 2,
   "metadata": {},
   "outputs": [],
   "source": [
    "import numpy as np\n",
    "from numpy.random import normal, uniform\n",
    "from numpy.linalg import eigvals\n",
    "import math as mt\n",
    "\n",
    "from IPython.core.interactiveshell import InteractiveShell\n",
    "InteractiveShell.ast_node_interactivity = \"all\"     \n",
    "\n",
    "import matplotlib as mpl\n",
    "import matplotlib.pyplot as plt\n",
    "import matplotlib.ticker as plticker\n",
    "\n",
    "%matplotlib inline\n",
    "\n",
    "np.set_printoptions(precision=7)\n",
    "\n",
    "np.random.seed(999)"
   ]
  },
  {
   "cell_type": "markdown",
   "metadata": {},
   "source": [
    "# O'Dwyer Approach"
   ]
  },
  {
   "cell_type": "code",
   "execution_count": 3,
   "metadata": {},
   "outputs": [],
   "source": [
    "## Asymmetric P matrix ##\n",
    "\n",
    "def asymP(sig, n):\n",
    "\n",
    "    return abs(normal(0, sig, (n, n))) ### \"doubling-up\" prob density by taking abs(normally distributed)???\n",
    "                                        ### another distribution, but on the positive reals?\n",
    "    "
   ]
  },
  {
   "cell_type": "code",
   "execution_count": 4,
   "metadata": {},
   "outputs": [],
   "source": [
    "## Symmetric P matrix ##\n",
    "\n",
    "def symP(sig, n):\n",
    "    \n",
    "    P = np.empty((n, n))\n",
    "    for i in range(n):\n",
    "        for j in range(i + 1):\n",
    "            P[j][i] = P[i][j] = abs(normal(0, sig))\n",
    "    \n",
    "    return P"
   ]
  },
  {
   "cell_type": "code",
   "execution_count": 5,
   "metadata": {},
   "outputs": [],
   "source": [
    "### Vectorized Asymmetric P matrix\n",
    "def asymPvec(sig, n, k=1):\n",
    "    return abs(normal(0, sig, (k, n, n))) # again, a half-normal with mean=1"
   ]
  },
  {
   "cell_type": "code",
   "execution_count": 6,
   "metadata": {},
   "outputs": [],
   "source": [
    "### Vectorized Symmetric P matrix\n",
    "def symPvec(sig, n, k=1): # k, number of matrices to generate\n",
    "    P = abs(normal(0,sig,(k,n,n)))\n",
    "    P = np.maximum(P,np.transpose(P,(0,2,1))) #transpose each sub-P (only transpose last two dimensions)\n",
    "    ### Is max an issue? Favors less probable p-values, I guess. Not QUITE normally dist'd \n",
    "                            ### after abs and this maximum. Effectively increases sigma?\n",
    "    \n",
    "    return P"
   ]
  },
  {
   "cell_type": "code",
   "execution_count": 7,
   "metadata": {},
   "outputs": [],
   "source": [
    "def symPvec2(sig,n,k=1): ### This way does not use max, but slightly slower than symPvec\n",
    "    P = abs(normal(0,sig,(k,n,n)))\n",
    "    inds = np.tril_indices(n, k=-1)\n",
    "    P[:,inds[1],inds[0]] = P[:,inds[0],inds[1]]\n",
    "    \n",
    "    return P"
   ]
  },
  {
   "cell_type": "code",
   "execution_count": 8,
   "metadata": {
    "tags": []
   },
   "outputs": [],
   "source": [
    "# p = symPvec(1,4,2)\n",
    "# p.shape\n",
    "# p == np.transpose(p,(0,2,1)) # Vectorized P-generator works\n",
    "\n",
    "# p = symPvec2(1,4,2)\n",
    "# p == np.transpose(p,(0,2,1)) # other one also works\n"
   ]
  },
  {
   "cell_type": "markdown",
   "metadata": {},
   "source": [
    "## Eigenvalues, single fixed P"
   ]
  },
  {
   "cell_type": "code",
   "execution_count": 9,
   "metadata": {},
   "outputs": [],
   "source": [
    "### Original O'Dwyer method for determining/plotting stability\n",
    "   # Fix a symmetric P, sP, and an asymmetric P, aP.\n",
    "    # Pick uniform-random equilibria r and s, where unif bounds are chosen to guarantee positive mu and rho\n",
    "        #mu and rho are only implicit in r and s, could be calculated from Eq 6? in Appendix\n",
    "     # Evaluate Jacobian at r and s at each P, append eigenvalues\n",
    "    \n",
    "\n",
    "sev = np.array([])\n",
    "aev = np.array([]) \n",
    "\n",
    "## Parameters ##\n",
    "\n",
    "n   = 20      # number of species AND number of resrcs\n",
    "eps = 0.25    # efficiency, WHY SAME FOR EACH SPECIES, scales consumption\n",
    "sig = 1       # std deviation of production rates? Yes, also for abundances?\n",
    "c   = 1       # equal consumption rate, WHY SAME FOR EACH SPECIES\n",
    "\n",
    "### SEE METHODS FOR mu AND rho\n",
    "\n",
    "I = np.identity(n)\n",
    "\n",
    "## Consumption Matrix ##\n",
    "\n",
    "C = c * I\n",
    "\n",
    "## Production matrices ##\n",
    "\n",
    "sP = symP(sig, n)\n",
    "aP = asymP(sig, n)\n",
    "#sPvec = symPvec(sig, n)\n",
    "\n",
    "rlb = n * sig * mt.sqrt(2 / mt.pi) / (c * eps) # mu and rho are hidden, i.e. some choice of those vector\n",
    "                                                #produces this equilibrium\n",
    "\n",
    "\n",
    "for k in range(5000): ### originally 5000\n",
    "    ## Abundances ##\n",
    "    \n",
    "    r = uniform(rlb, 10 * rlb)           ### varying the densities at which Jacobian is evaluated\n",
    "    s = uniform(rlb / 10**4, rlb / 1000)\n",
    "    \n",
    "    ## Linearized System ##\n",
    "       ### Jacobian, L, eval'd at steady state\n",
    "    #     [ LA | aLB]\n",
    "    #aL = [---------]\n",
    "    #     [ LC | LD ]\n",
    "    LA  = -c * s * I\n",
    "    \n",
    "    sLB = sP - c * r * I ### the only partitions that differ between symmetric and asymmetric Production models\n",
    "    aLB = aP - c * r * I\n",
    "\n",
    "    LC = eps * c * s * I\n",
    "    LD = np.zeros((n, n)) # DON'T REEVALUATE EVERY ITERATION\n",
    "\n",
    "    sL  = np.vstack((np.hstack((LA, sLB)), np.hstack((LC, LD))))\n",
    "    aL  = np.vstack((np.hstack((LA, aLB)), np.hstack((LC, LD))))\n",
    "    \n",
    "    ## Eigenvalues of Linearized System ##\n",
    "    \n",
    "    sev = np.append(sev, eigvals(sL))\n",
    "    aev = np.append(aev, eigvals(aL))\n",
    "    \n",
    "# Why iterating with random populations rather than random P matrices at proper steady states?"
   ]
  },
  {
   "cell_type": "code",
   "execution_count": 10,
   "metadata": {
    "tags": []
   },
   "outputs": [],
   "source": [
    "# Below, figuring the derivation of 'rlb'\n",
    "# default PDF of normal, p_norm(x)\n",
    "# sub for mu=0, sigma=1\n",
    "# double due to half normal"
   ]
  },
  {
   "cell_type": "markdown",
   "metadata": {
    "tags": []
   },
   "source": [
    "$$ p_{norm}(x) = \\frac{1}{{\\sigma \\sqrt {2\\pi } }}e^{-\\frac{1}{2} (\\frac{x-\\mu}{\\sigma})^2} $$\n",
    "\n",
    "$$ p_{norm}(x) = \\frac{1}{{ \\sqrt {2\\pi } }}e^{-\\frac{1}{2} x^2} $$\n",
    "$$ p_{halfnorm}(x) = \\frac{2}{{ \\sqrt {2\\pi } }}e^{-\\frac{1}{2} x^2} $$\n",
    "$$ p_{halfnorm}(x) = \\sqrt{\\frac{2}{\\pi}}e^{-\\frac{1}{2} x^2} $$"
   ]
  },
  {
   "cell_type": "code",
   "execution_count": 11,
   "metadata": {
    "tags": []
   },
   "outputs": [],
   "source": [
    "# expectation of the above is np.sqrt(2/np.pi)"
   ]
  },
  {
   "cell_type": "markdown",
   "metadata": {
    "tags": []
   },
   "source": [
    "$$ rlb = \\frac{n  \\sigma  \\sqrt{\\frac{2}{\\pi}} } {c  \\epsilon} $$\n",
    "\n",
    "$$ rlb = \\frac{20  \\sqrt{\\frac{2}{\\pi}} } {0.25}$$\n",
    "\n",
    "$$ rlb = 80  \\sqrt{\\frac{2}{\\pi}} $$"
   ]
  },
  {
   "cell_type": "code",
   "execution_count": 12,
   "metadata": {
    "tags": []
   },
   "outputs": [],
   "source": [
    "# how get to rlb from expectation of halfnorm?"
   ]
  },
  {
   "cell_type": "code",
   "execution_count": 13,
   "metadata": {
    "tags": []
   },
   "outputs": [
    {
     "data": {
      "text/plain": [
       "63.83076486422923"
      ]
     },
     "execution_count": 13,
     "metadata": {},
     "output_type": "execute_result"
    }
   ],
   "source": [
    "80*np.sqrt(2/np.pi)"
   ]
  },
  {
   "cell_type": "code",
   "execution_count": 14,
   "metadata": {
    "tags": []
   },
   "outputs": [],
   "source": [
    "# #print(eigvals(sL),'\\n') #length 40\n",
    "# # why all same real part in symmetric P\n",
    "\n",
    "# # DOMINANT EIGENVALUE, domEig\n",
    "# test = eigvals(aL)\n",
    "# #print(test)\n",
    "# reals = np.real(test)\n",
    "# domEV_ind = np.argmax(np.abs(reals)) #lazy way, assume negative eigvals?\n",
    "# domEV = test[domEV_ind]\n",
    "# print(domEV)\n",
    "\n",
    "# print(len(sev))\n",
    "# print(len(aev))\n",
    "\n",
    "# symP(1,5)"
   ]
  },
  {
   "cell_type": "markdown",
   "metadata": {},
   "source": [
    "## Plot eigenvalue parts, frequency"
   ]
  },
  {
   "cell_type": "code",
   "execution_count": 15,
   "metadata": {},
   "outputs": [
    {
     "data": {
      "image/png": "[encoded data removed]",
      "text/plain": [
       "<Figure size 720x432 with 2 Axes>"
      ]
     },
     "metadata": {
      "needs_background": "light"
     },
     "output_type": "display_data"
    },
    {
     "data": {
      "image/png": "[encoded data removed]",
      "text/plain": [
       "<Figure size 720x432 with 2 Axes>"
      ]
     },
     "metadata": {
      "needs_background": "light"
     },
     "output_type": "display_data"
    }
   ],
   "source": [
    "## Plot eigenvalues of linearized system ##\n",
    "\n",
    "for i, q in enumerate([sev, aev]): # i index, q current value\n",
    "\n",
    "    x = q.real\n",
    "    y = q.imag\n",
    "\n",
    "    plt.rcParams[\"axes.edgecolor\"] = \"black\" \n",
    "    plt.rcParams[\"axes.linewidth\"] = 1 \n",
    "    \n",
    "    fig, ax = plt.subplots(figsize = (10, 6))\n",
    "\n",
    "    #cmap = plt.cm.viridis_r  ### old, gets an error\n",
    "    cmap = mpl.cm.get_cmap(\"plasma\").copy()\n",
    "    cmap.set_under(color = 'white') \n",
    "\n",
    "    plt.axvline(0, c='grey', linestyle='--', linewidth=1, ymin=0.07, ymax=0.93) ### stability threshold (Re = 0)\n",
    "\n",
    "    font = {'size' : 14}\n",
    "    plt.rc('font', **font)\n",
    "\n",
    "    plt.hexbin(x, y, bins=None, cmap=cmap, linewidths=0.1) ### bins = 'log' seems unhelpful???\n",
    "\n",
    "    plt.xlabel(r'Re($\\lambda$)')\n",
    "    plt.ylabel(r'Im($\\lambda$)')\n",
    "\n",
    "    plt.clim(10**(-8), 5.0) ### color limits, increase upper for better contrast ???\n",
    "    ### originally, (10**(-8), 2.0)\n",
    "\n",
    "    xmin, xmax = plt.xlim()\n",
    "    nxm = (xmax - xmin) / 10 ### def'n some padding/margins\n",
    "    plt.xlim((xmin - nxm, xmax + nxm))\n",
    "\n",
    "    \n",
    "    ### Adjusting Re axis tick marks\n",
    "    if i==0: ### symmetric P\n",
    "        loc = plticker.MultipleLocator(base=0.01) ### tick marks in increments of 'base'\n",
    "        ax.xaxis.set_major_locator(loc)\n",
    "        plt.title('Symmetric P (O\\'Dwyer)')\n",
    "    if i==1: ### asymetric P\n",
    "        loc = plticker.MultipleLocator(base=0.01) ### originally, base = 0.02\n",
    "        ax.xaxis.set_major_locator(loc)\n",
    "        plt.title('Asymmetric P (O\\'Dwyer)')\n",
    "\n",
    "        \n",
    "\n",
    "    ymin, ymax = plt.ylim()\n",
    "    nym = (ymax - ymin) / 3\n",
    "    plt.ylim((ymin - nym, ymax + nym))\n",
    "\n",
    "    cb = plt.colorbar(aspect=40, shrink=0.85, pad=0.07)\n",
    "    locs = cb.get_ticks()\n",
    "    tl = locs[-1] * 2 / 25\n",
    "    cb.set_ticks([tl, locs[-1] - tl])\n",
    "    cb.set_ticklabels(['Low Density', 'High Density'])\n",
    "        \n",
    "plt.show();"
   ]
  },
  {
   "cell_type": "markdown",
   "metadata": {},
   "source": [
    "## Frequency of stable n-size systems"
   ]
  },
  {
   "cell_type": "code",
   "execution_count": 16,
   "metadata": {},
   "outputs": [],
   "source": [
    "### Original O'Dwyer method for determining/plotting stability\n",
    "   # Do same as before but with k = 100 trials\n",
    "    \n",
    "    # I HAVE NOT yet bothered vectorizing the random 'r' and 's', but I could do that if it turns out\n",
    "         # to do anything in the regular for loop version (also pending O'Dwyer email response)\n",
    "    # Loop over various system sizes, n. For each size, the eigvals of k_test systems.\n",
    "    # Record fraction of total systems that are stable (for each system size, n)\n",
    "    \n",
    "k_test = 100\n",
    "ns_test = list(range(1,61))\n",
    "percents_stable_Odw = []\n",
    "\n",
    "\n",
    "#sev = np.array([])\n",
    "\n",
    "## Parameters ##\n",
    "\n",
    "# n   = 20      # number of species AND number of resrcs\n",
    "eps = 0.25    # efficiency, WHY SAME FOR EACH SPECIES, scales consumption\n",
    "sig = 1       # std deviation of production rates? Yes, also for abundances?\n",
    "c   = 1       # equal consumption rate, WHY SAME FOR EACH SPECIES\n",
    "\n",
    "for nn in ns_test:\n",
    "    \n",
    "    aev = np.array([]) # just make new eigval array for each n, easier to just reshape after appending\n",
    "                            # all eigvals for one system size (n) and append the stability_percent, then repeat\n",
    "\n",
    "    \n",
    "    ### SEE METHODS FOR mu AND rho\n",
    "\n",
    "    I = np.identity(nn)\n",
    "\n",
    "    ## Consumption Matrix ##\n",
    "\n",
    "    C = c * I\n",
    "\n",
    "    ## Production matrices ##\n",
    "\n",
    "    sP = symP(sig, nn)\n",
    "    aP = asymP(sig, nn)\n",
    "    #sPvec = symPvec(sig, n)\n",
    "\n",
    "    rlb = nn * sig * mt.sqrt(2 / mt.pi) / (c * eps) # mu and rho are hidden, i.e. some choice of those vector\n",
    "                                                    #produces this equilibrium\n",
    "\n",
    "    LD = np.zeros((nn, nn))\n",
    "\n",
    "    for k in range(k_test): ### originally 5000\n",
    "        ## Abundances ##\n",
    "\n",
    "        r = uniform(rlb, 10 * rlb)           ### varying the densities at which Jacobian is evaluated\n",
    "        s = uniform(rlb / 10**4, rlb / 1000)\n",
    "\n",
    "        ## Linearized System ##\n",
    "           ### Jacobian, L, eval'd at steady state\n",
    "        #     [ LA | aLB]\n",
    "        #aL = [---------]\n",
    "        #     [ LC | LD ]\n",
    "        LA  = -c * s * I\n",
    "\n",
    "        aLB = aP - c * r * I\n",
    "\n",
    "        LC = eps * c * s * I\n",
    "        LD = np.zeros((nn, nn))\n",
    "\n",
    "        aL  = np.vstack((np.hstack((LA, aLB)), np.hstack((LC, LD))))\n",
    "\n",
    "        ## Eigenvalues of Linearized System ##\n",
    "\n",
    "        aev = np.append(aev, eigvals(aL))\n",
    "    \n",
    "    aev = aev.reshape(k_test,2*nn)\n",
    "    pos_real_cts = np.sum(aev>0,1)\n",
    "    \n",
    "    percents_stable_Odw.append(len(pos_real_cts[pos_real_cts==0])/k_test)\n",
    "        "
   ]
  },
  {
   "cell_type": "code",
   "execution_count": 17,
   "metadata": {
    "tags": []
   },
   "outputs": [],
   "source": [
    "# percents_stable_Odw[-1]\n",
    "# aev.shape"
   ]
  },
  {
   "cell_type": "code",
   "execution_count": 18,
   "metadata": {},
   "outputs": [
    {
     "data": {
      "image/png": "[encoded data removed]",
      "text/plain": [
       "<Figure size 432x288 with 1 Axes>"
      ]
     },
     "metadata": {
      "needs_background": "light"
     },
     "output_type": "display_data"
    }
   ],
   "source": [
    "y_data = np.array(percents_stable_Odw)\n",
    "x_data = np.array(ns_test)\n",
    "\n",
    "# I forgot how to suppress matplotlib output automatically\n",
    "plt.plot(x_data,y_data, color=(0.9,0.2,0.7));\n",
    "plt.plot(x_data,y_data, 'b.');\n",
    "plt.title('Frequency of stability against system size (O\\'Dwyer)');\n",
    "plt.xlabel('n');\n",
    "plt.ylabel(r'$\\frac{\\# Stable Systems}{k}$');\n",
    "plt.tight_layout();\n",
    "# looks like logistic growth (decay, really)\n",
    "plt.show();\n",
    "\n",
    "\n",
    "# When using AN EVEN HIGHER SAMPLE SIZE (k=1000 vs. k=100 down below), still very chaotic-looking\n",
    "    # but with dip near n=[8,12]. Hrm...\n",
    "    # Also, very stable."
   ]
  },
  {
   "cell_type": "code",
   "execution_count": 19,
   "metadata": {},
   "outputs": [
    {
     "data": {
      "text/plain": [
       "9"
      ]
     },
     "execution_count": 19,
     "metadata": {},
     "output_type": "execute_result"
    }
   ],
   "source": [
    "x_data[np.argmin(y_data)] # Least chance of having stable system at this n, probably not an"
   ]
  },
  {
   "cell_type": "markdown",
   "metadata": {},
   "source": [
    "# 'Random P and Corresponding Equilibria' Approach"
   ]
  },
  {
   "cell_type": "code",
   "execution_count": 20,
   "metadata": {},
   "outputs": [],
   "source": [
    "###########################################################################################\n",
    "### Instead, consider randomizing the (n,n) P(roduction matrix) and eval'ing its Jacobian only at \n",
    "    ### the corresponding steady state.\n",
    "# Choose k = 5000\n",
    "# make (k,n,n) array (5000 P matrices)\n",
    "# make (k,n,1) array (5000 R_stars)\n",
    "# \"\"                 (5000 S_stars)"
   ]
  },
  {
   "cell_type": "markdown",
   "metadata": {},
   "source": [
    "## Setup for new approach"
   ]
  },
  {
   "cell_type": "code",
   "execution_count": 21,
   "metadata": {},
   "outputs": [],
   "source": [
    "def extract_block_diags(A,block_size):\n",
    "    '''\n",
    "    A, square matrix whose (square) block diagonals of shape (block_size,block_size) are to be extracted\n",
    "    \n",
    "    This function has zero error handling. Make sure block_size fits the matrix, or whatever.\n",
    "    '''\n",
    "    block_diags = np.lib.stride_tricks.sliding_window_view(A,(block_size,block_size))[::block_size,::block_size]\n",
    "    num_blocks = int(A.shape[0]/block_size)\n",
    "    block_inds = list(range(num_blocks))\n",
    "    \n",
    "    return block_diags[block_inds,block_inds,:,:]"
   ]
  },
  {
   "cell_type": "code",
   "execution_count": 22,
   "metadata": {},
   "outputs": [],
   "source": [
    "### According to Butler/O'Dwyer, for any CHOICE of (+) mu and rho, the formulae below will produce feasible Steady States"
   ]
  },
  {
   "cell_type": "markdown",
   "metadata": {},
   "source": [
    "$\\vec{R^*} = (C^T)^{-1}\\frac{1}{\\epsilon}(P^T \\vec{1} + \\vec{\\mu})$)"
   ]
  },
  {
   "cell_type": "code",
   "execution_count": 23,
   "metadata": {},
   "outputs": [],
   "source": [
    "### Resource-Competition Steady State vectors (R_star and S_star)\n",
    "# Why are Rstars in the range of r_i in [1,100]??? Any way to normalize/nondimensionalize the model?\n",
    "\n",
    "def R_star_gen(C,P,eps,mu): # P is actually 3-dimensional matrix (k nxn sub-P-matrices)\n",
    "    '''\n",
    "    Generates stack of steady state vectors R_star, where 0th dimension selects the sub-P to which \n",
    "    that particular R_star corresponds (i.e. R_star is the equilibrium for the Jacobian formed with that sub-p).\n",
    "    \n",
    "    No argument for number of sub-R_stars because that is inferred from 0th dimension of P argument.\n",
    "    '''\n",
    "    \n",
    "    k = P.shape[0]\n",
    "    n = P.shape[-1]\n",
    "    mu = np.tile(mu,(k,1,1))\n",
    "    \n",
    "    #C = np.tile(C,(k,1,1)) # OLD: stack C k times so that it can be dotted with each sub-Ps\n",
    "                                # np.dot() does not broadcast, I think. Have to manually add 3rd dimension\n",
    "    #A = np.linalg.inv(np.transpose(C,(0,2,1)))*(1/eps) # split up into A,v for readability\n",
    "    A = np.linalg.inv(C.T)*(1/eps) # A is just (k,n,n)\n",
    "    v = np.sum(np.transpose(P,(0,2,1)), 2).reshape(k,n,1) + mu #take row sums of P transpose, reshape to add \n",
    "    \n",
    "    # How to pairwise dot an array of 2D matrices with array of column vectors?\n",
    "    \n",
    "    R_star = np.tensordot(A,v,axes=([1],[1]))\n",
    "    R_star = R_star.reshape(n,k).T.reshape(k,n,1)\n",
    "    #np.tensordot(I,b,axes=([1],[1])).reshape(2,3).T.reshape(3,2,1)\n",
    "    return R_star"
   ]
  },
  {
   "cell_type": "code",
   "execution_count": 24,
   "metadata": {
    "tags": []
   },
   "outputs": [
    {
     "name": "stdout",
     "output_type": "stream",
     "text": [
      "[[[0.03831   0.3846966]\n",
      "  [0.5666755 1.1129824]]\n",
      "\n",
      " [[0.1696128 0.7400791]\n",
      "  [1.407711  1.0290507]]\n",
      "\n",
      " [[0.964867  0.1010801]\n",
      "  [1.0793384 1.4077477]]]\n"
     ]
    },
    {
     "data": {
      "text/plain": [
       "array([[0.6049855, 1.4976789],\n",
       "       [1.5773237, 1.7691298],\n",
       "       [2.0442054, 1.5088278]])"
      ]
     },
     "execution_count": 24,
     "metadata": {},
     "output_type": "execute_result"
    },
    {
     "data": {
      "text/plain": [
       "array([[[ 6.419942 ],\n",
       "        [ 9.9907157]],\n",
       "\n",
       "       [[10.3092949],\n",
       "        [11.0765191]],\n",
       "\n",
       "       [[12.1768216],\n",
       "        [10.0353112]]])"
      ]
     },
     "execution_count": 24,
     "metadata": {},
     "output_type": "execute_result"
    }
   ],
   "source": [
    "pip = asymPvec(1,2,3)\n",
    "print(pip)\n",
    "np.sum(np.transpose(pip,(0,2,1)),2)\n",
    "R_star_gen(np.identity(2),pip,0.25,np.ones(2).reshape(2,1))"
   ]
  },
  {
   "cell_type": "markdown",
   "metadata": {},
   "source": [
    "$\\vec{S^*} = [(R^{*}_{diag})C - P]^{-1} \\vec{\\rho}$\n"
   ]
  },
  {
   "cell_type": "code",
   "execution_count": 25,
   "metadata": {},
   "outputs": [],
   "source": [
    "def S_star_gen(C,P,R_star,rho):\n",
    "    k = P.shape[0]\n",
    "    n = P.shape[1]\n",
    "    \n",
    "    # How get (k,n,n) array of R_diags, where each of the k (n,n)'s is a diagonal array with the k-th R_star as its entries?\n",
    "    # fill main diagonal with flattened R_stars (it will be k*n x k*n), then extract the k (n,n) block main diagonal matrices\n",
    "    \n",
    "    # Now, we have extract_block_diags()\n",
    "    \n",
    "    R_diag = np.zeros((k*n,k*n))\n",
    "    np.fill_diagonal(R_diag, R_star.reshape(k*n,))\n",
    "    # now, R_diag is big array\n",
    "    R_diag = extract_block_diags(R_diag, n) # get each R_diag in (k,n,n)-shaped array\n",
    "    \n",
    "    ### FIX THIS LATER FOR NON-IDENTITY C ################################\n",
    "    #  RC = np.dot(R_diag, C) # real way would be sth like this\n",
    "    RC = R_diag\n",
    "    \n",
    "    A = np.linalg.inv(RC - P) # pairwise subtract RC and P\n",
    "    #S_star = np.dot(A, rho)  # in a perfect world, this is the answer\n",
    "    \n",
    "    # this time, we have many different sub-A and constant rho\n",
    "    S_star = np.tensordot(A,rho.reshape(1,n,1),axes=([2],[1])) #.reshape(n,k).T.reshape(k,n,1) # we do not live in a perfect world\n",
    "\n",
    "    return S_star.reshape(k,n,1)\n"
   ]
  },
  {
   "cell_type": "code",
   "execution_count": 26,
   "metadata": {
    "tags": []
   },
   "outputs": [],
   "source": [
    "# x = np.random.rand(4*3*2).reshape(4,3,2)\n",
    "# x\n",
    "# v = np.arange(2).reshape(1,2,1)\n",
    "# v\n",
    "\n",
    "# z = np.tensordot(x,v,axes=([2],[1]))\n",
    "# z\n",
    "# z.reshape(4,3,1)\n",
    "\n",
    "\n",
    "# X = np.identity(9)\n",
    "# d = extract_block_diags(X,3) # it work\n",
    "# d"
   ]
  },
  {
   "cell_type": "code",
   "execution_count": 27,
   "metadata": {
    "tags": []
   },
   "outputs": [],
   "source": [
    "# # Check that R_star_gen works???\n",
    "\n",
    "# v=(np.sum(np.transpose(sP_ex,(0,2,1)), 2).reshape(k,n,1) + np.tile(mu_ex,(k,1,1))) #10x20x1\n",
    "# A = np.linalg.inv(np.transpose(np.tile(C,(k,1,1)),(0,2,1)))*(1/eps) # 10x20x20\n",
    "\n",
    "# X = np.tensordot(A,v,axes=([2],[1]))\n",
    "# X.shape\n",
    "# X[0,:,1,:]\n",
    "\n",
    "# #np.sum(sP_ex[0,:,:].T,1).shape\n",
    "# #check against manual calculation of first R_star\n",
    "# #np.all(np.dot(np.linalg.inv(C)/eps,np.sum(sP_ex[0,:,:].T,1).reshape(20,1) + mu_ex) == X[0,:,0,:])\n",
    "\n",
    "# #np.all(np.dot(np.linalg.inv(C)/eps,np.sum(sP_ex[1,:,:].T,1).reshape(20,1) + mu_ex) == X[1,:,1,:])"
   ]
  },
  {
   "cell_type": "code",
   "execution_count": 28,
   "metadata": {
    "tags": []
   },
   "outputs": [],
   "source": [
    "### THIS IS (seems to be?) HOW YOU DOT A BUNCH OF MATRICES (only works for single matrix, many vectors)\n",
    "\n",
    "# b = np.random.rand(6).reshape(3,2,1)\n",
    "# b\n",
    "\n",
    "# I = np.identity(2) #2x2\n",
    "# b.shape # 3x2x1\n",
    "\n",
    "# out = np.tensordot(I,b,axes=([1],[1]))\n",
    "# #out\n",
    "# out = out.reshape(2,3)\n",
    "# #out\n",
    "# out = out.T.reshape(3,2,1)\n",
    "# out.shape\n",
    "# out\n",
    "\n"
   ]
  },
  {
   "cell_type": "markdown",
   "metadata": {},
   "source": [
    "## Testing eigvals of new vectorized system"
   ]
  },
  {
   "cell_type": "code",
   "execution_count": 29,
   "metadata": {},
   "outputs": [],
   "source": [
    "### Now, can generate k many P matrices, together with shape (k,n,n), and the corresponding R_stars and S_stars for Jacobian at equilibrium\n",
    "\n",
    "### MAKE eigenvalue generator INTO A FUNCTION\n",
    "\n",
    "sEVs = np.array([])\n",
    "aEVs = np.array([])\n",
    "\n",
    "## Parameters ##\n",
    "\n",
    "n   = 20      # number of species AND number of resrcs --> Jacobians will be (2*n,2*n)\n",
    "k = 750       # number of systems to generate\n",
    "eps = 0.25    # efficiency, WHY SAME FOR EACH SPECIES, scales consumption\n",
    "sig = 1      # std deviation of production rates? Yes, also for abundances?\n",
    "c   = 1       # equal consumption rate, WHY SAME FOR EACH SPECIES\n",
    "#mu = np.random.unif(0,1,n) \n",
    "mu = (np.ones(n)*0.5).reshape(n,1) # R_star_gen takes 2D mu\n",
    "#rho = np.random.unif(0,1,n)\n",
    "rho = (np.ones(n)*0.5).reshape(n,1)\n",
    "\n",
    "\n",
    "### SEE METHODS in O'Dwyer FOR mu AND rho formulae if needed\n",
    "\n",
    "I = np.identity(n)\n",
    "\n",
    "## Consumption Matrix ##\n",
    "C = c * I\n",
    "\n",
    "### Generating Random P-matrices, fixing mu and rho, and eval'ing Jacobian at corresponding equilibria\n",
    "    ### Then, find dominant eigenvalues.\n",
    "    ### Each system will contribute 2*n eigenvalues, so we can reshape eigval list to later determine how many systems had a stable equilibrium\n",
    "\n",
    "## Production matrices ##\n",
    "sP = symPvec2(sig, n, k)\n",
    "aP = asymPvec(sig, n, k)\n",
    "\n",
    "\n",
    "## Equilibrium Abundances ##\n",
    "sR_star = R_star_gen(C,sP, eps, mu)\n",
    "sS_star = S_star_gen(C,sP, sR_star, rho)\n",
    "\n",
    "aR_star = R_star_gen(C,aP, eps, mu)\n",
    "aS_star = S_star_gen(C,aP, aR_star, rho)\n",
    "\n",
    "\n",
    "## Linearized System ##\n",
    "   ### Jacobian, L, eval'd at steady state\n",
    "#     [ LA | LB ]\n",
    "#aL = [---------]\n",
    "#     [ LC | LD ]\n",
    "\n",
    "# Community Matrix for Symmetric P\n",
    "sLA  = -c * sS_star * I\n",
    "sLB = sP - c * sR_star * I\n",
    "sLC = eps * c * sS_star * I\n",
    "\n",
    "# Community Matrix for Asymmetric P\n",
    "aLA = -c * aS_star * I\n",
    "aLB = aP - c * aR_star * I\n",
    "aLC = eps * c * aS_star * I\n",
    "\n",
    "LD = np.zeros((k, n, n)) # same for both cases P\n",
    "\n",
    "\n",
    "sL  = np.concatenate((np.concatenate((sLA, sLB),2), np.concatenate((sLC, LD),2)), 1)\n",
    "# aL  = np.vstack((np.hstack((aLA, aLB)), np.hstack((aLC, LD))))\n",
    "aL  = np.concatenate((np.concatenate((aLA, aLB),2), np.concatenate((aLC, LD),2)), 1)\n",
    "\n",
    "\n",
    "## Eigenvalues of Linearized System ##\n",
    "\n",
    "sEVs = np.append(sEVs, eigvals(sL)) # just turns EVs from an array into a list???\n",
    "aEVs = np.append(aEVs, eigvals(aL))"
   ]
  },
  {
   "cell_type": "code",
   "execution_count": 30,
   "metadata": {
    "tags": []
   },
   "outputs": [],
   "source": [
    "# eigvals(sL).shape\n",
    "# sEVs.shape\n",
    "\n",
    "## What is going on with the tendency for eigvals ~=~ 0.4???"
   ]
  },
  {
   "cell_type": "markdown",
   "metadata": {},
   "source": [
    "## Function for eigvals of our random systems"
   ]
  },
  {
   "cell_type": "code",
   "execution_count": 31,
   "metadata": {},
   "outputs": [],
   "source": [
    "def eigval_gen(P,eps,mu,rho): # For now, just identity C, ADD AS ARGUMENT LATER\n",
    "    '''\n",
    "    Gets eigvals of system given P and parameters.\n",
    "    \n",
    "    Needs to be updated to take C as argument. For now, just uses identity matrix for C (perfect specialists).\n",
    "    Also, mu, rho, and epsilon.\n",
    "    '''\n",
    "    \n",
    "    EVs = np.array([])\n",
    "\n",
    "    ## Parameters ##\n",
    "    n = P.shape[-1]\n",
    "    k = P.shape[0]\n",
    "\n",
    "    ## Consumption Matrix ##\n",
    "    c = 1.0 # Keeps cool curve from 0-1, chaotic-looking when > 1\n",
    "    I = np.identity(n)\n",
    "    C = c * I\n",
    "\n",
    "    \n",
    "    ## Linearized System ##\n",
    "       ### Jacobian, L, eval'd at steady state\n",
    "    #     [ LA | aLB]\n",
    "    #aL = [---------]\n",
    "    #     [ LC | LD ]\n",
    "    LD = np.zeros((k, n, n))\n",
    "\n",
    "\n",
    "    ## Equilibrium Abundances ##\n",
    "    R_star = R_star_gen(C, P, eps, mu)\n",
    "    S_star = S_star_gen(C, P, R_star, rho)\n",
    "\n",
    "    # Community Matrix Partitions\n",
    "    LA  = -c * S_star * I\n",
    "    LB = P - c * R_star * I\n",
    "    LC = eps * c * S_star * I\n",
    "\n",
    "\n",
    "    L  = np.concatenate((np.concatenate((LA, LB),2), np.concatenate((LC, LD),2)), 1)\n",
    "\n",
    "\n",
    "    # EVs = np.append(EVs, eigvals(L)) # old\n",
    "    # print(P)\n",
    "    return eigvals(L)"
   ]
  },
  {
   "cell_type": "code",
   "execution_count": 32,
   "metadata": {},
   "outputs": [],
   "source": [
    "# old rand_eigval_gen() is minimized below this cell\n",
    "## new eigval_gen() just requires that you make your own P-matrices now.\n",
    "### That way, you can keep track of the P-matrices that led to the eigvals that you get."
   ]
  },
  {
   "cell_type": "code",
   "execution_count": 33,
   "metadata": {
    "tags": []
   },
   "outputs": [],
   "source": [
    "def rand_eigval_gen(n, k, sig = 1, symmetric=True): # For now, just identity C, ADD AS ARGUMENT LATER\n",
    "    '''\n",
    "    Takes same arguments as (a)symPvec(), but performs all of the eigenvalue calcs for each of the k matrices\n",
    "    \n",
    "    Needs to be updated to take C as argument. For now, just uses identity matrix for C (perfect specialists).\n",
    "    Also, mu, rho, and epsilon.\n",
    "    '''\n",
    "    \n",
    "    EVs = np.array([])\n",
    "\n",
    "    ## Parameters ##\n",
    "\n",
    "    # n   = 20      # number of species AND number of resrcs\n",
    "    # k = 750        # number of systems to generate\n",
    "    eps = 0.25    # efficiency, WHY SAME FOR EACH SPECIES, scales consumption\n",
    "    # sig = 25      # std deviation of production rates? Yes, also for abundances?\n",
    "    c = 1       # equal consumption rate, WHY SAME FOR EACH SPECIES\n",
    "    #mu = np.random.unif(0,1,n) \n",
    "    mu = (np.ones(n)*0.5).reshape(n,1) # R_star_gen takes 2D mu\n",
    "    #rho = np.random.unif(0,1,n)\n",
    "    rho = (np.ones(n)*0.5).reshape(n,1)\n",
    "    ### SEE METHODS FOR mu AND rho\n",
    "\n",
    "\n",
    "    ## Consumption Matrix ##\n",
    "    I = np.identity(n)\n",
    "    C = c * I\n",
    "    # C = np.identity(n)\n",
    "\n",
    "    \n",
    "    # only difference between symmetric=True and otherwise is the call to symPvec2() or asymPvec()\n",
    "        \n",
    "    ## Choice of Production matrices ##\n",
    "    if (symmetric):\n",
    "        P = symPvec2(sig, n, k)\n",
    "    else:\n",
    "        P = asymPvec(sig, n, k)\n",
    "    \n",
    "    ## Linearized System ##\n",
    "       ### Jacobian, L, eval'd at steady state\n",
    "    #     [ LA | aLB]\n",
    "    #aL = [---------]\n",
    "    #     [ LC | LD ]\n",
    "    LD = np.zeros((k, n, n))\n",
    "\n",
    "\n",
    "    ## Equilibrium Abundances ##\n",
    "    R_star = R_star_gen(C, P, eps, mu)\n",
    "    S_star = S_star_gen(C, P, R_star, rho)\n",
    "\n",
    "    # Community Matrix Partitions\n",
    "    LA  = -c * S_star * I\n",
    "    LB = P - c * R_star * I\n",
    "    LC = eps * c * S_star * I\n",
    "\n",
    "\n",
    "    L  = np.concatenate((np.concatenate((LA, LB),2), np.concatenate((LC, LD),2)), 1)\n",
    "\n",
    "\n",
    "    # EVs = np.append(EVs, eigvals(L)) # old\n",
    "    # print(P)\n",
    "    return eigvals(L)"
   ]
  },
  {
   "cell_type": "markdown",
   "metadata": {},
   "source": [
    "## Frequency of stable n-size systems"
   ]
  },
  {
   "cell_type": "code",
   "execution_count": 34,
   "metadata": {},
   "outputs": [],
   "source": [
    "# temporary fix to all of the P.shape prints\n",
    "\n",
    "# small systems (small n) almost Never unstable\n",
    "\n",
    "ns_test = list(range(2,41))\n",
    "percents_stable = []\n",
    "\n",
    "k_test=100\n",
    "eps = 0.25\n",
    "\n",
    "for nn in ns_test:\n",
    "    n_test = nn\n",
    "    # ev_ex = rand_eigval_gen(n_test,k_test,sig = 1, symmetric=False)\n",
    "    \n",
    "    P_ex = asymPvec(sig = 1, n = n_test, k=k_test)\n",
    "    mu_ex = (np.ones(n_test)*0.5).reshape(n_test,1)\n",
    "    rho_ex = (np.ones(n_test)*0.5).reshape(n_test,1)\n",
    "\n",
    "    ev_ex = eigval_gen(P_ex, eps, mu_ex, rho_ex)\n",
    "\n",
    "    \n",
    "    reals = ev_ex.real\n",
    "\n",
    "    \n",
    "    pos_real_cts = np.sum(reals>0,-1) # DUE TO COMPLEX CONJUGATES, REALLY ONLY HALF THIS MANY ??? I GUESS, BUT\n",
    "                            # EVERY EIGVAL HAS COMPLEX CONJUGATE, SO THE FREQUENCY CALC WORKS OUT JUST AS WELL.\n",
    "\n",
    "    percents_stable.append(len(pos_real_cts[pos_real_cts==0])/k_test) # ratio of stable systems to total systems (k)\n"
   ]
  },
  {
   "cell_type": "code",
   "execution_count": 35,
   "metadata": {},
   "outputs": [
    {
     "data": {
      "image/png": "[encoded data removed]",
      "text/plain": [
       "<Figure size 432x288 with 1 Axes>"
      ]
     },
     "metadata": {
      "needs_background": "light"
     },
     "output_type": "display_data"
    }
   ],
   "source": [
    "xdata = np.array(ns_test)\n",
    "ydata = np.array(percents_stable)\n",
    "\n",
    "\n",
    "# I forgot how to suppress matplotlib output automatically\n",
    "plt.plot(xdata,ydata, color=(0.85,0.1,0.5));\n",
    "plt.plot(xdata,ydata, 'b.');\n",
    "\n",
    "plt.title('Frequency of stability against system size');\n",
    "plt.xlabel('n');\n",
    "plt.ylabel(r'$\\frac{\\# Stable Systems}{k}$');\n",
    "plt.tight_layout();\n",
    "# looks like logistic growth (decay, really)\n",
    "plt.show();\n",
    "# presence of exponentials makes enough sense given the type of math going on\n",
    "# Fit with Negative binomial ( parameters )"
   ]
  },
  {
   "cell_type": "markdown",
   "metadata": {},
   "source": [
    "The above data have a form similar to\n",
    "$$ F(x) = a\\frac{e^{r(x-d)}}{c+e^{r(x-d)}}, $$\n",
    "with reals $r<0, a,c,d>0$."
   ]
  },
  {
   "cell_type": "markdown",
   "metadata": {},
   "source": [
    "### Fitting the peculiar curve"
   ]
  },
  {
   "cell_type": "code",
   "execution_count": 36,
   "metadata": {},
   "outputs": [],
   "source": [
    "from scipy.optimize import curve_fit"
   ]
  },
  {
   "cell_type": "code",
   "execution_count": 37,
   "metadata": {},
   "outputs": [],
   "source": [
    "def logistic(x, a, r, c, d): # Model Guess 1: Logistic Decay\n",
    "    y = a * (np.e**(r*(x-d)) / (c + np.e**(r*(x-d))))\n",
    "    return y\n",
    "\n",
    "# Model Guess 2: Negative Binomial (Failure Probability)"
   ]
  },
  {
   "cell_type": "code",
   "execution_count": 38,
   "metadata": {},
   "outputs": [
    {
     "name": "stdout",
     "output_type": "stream",
     "text": [
      "1.0275306602613261\n",
      "-0.3091454442234268\n",
      "0.8426471186664037\n",
      "17.551979177607542\n"
     ]
    }
   ],
   "source": [
    "guess = [1, -0.1, 0.9, 20] # guess from playing with desmos sliders\n",
    "parameters, covariance = curve_fit(logistic, xdata, ydata, p0 = guess) # least-squares default?\n",
    "fit_a = parameters[0]\n",
    "fit_r = parameters[1]\n",
    "fit_c = parameters[2]\n",
    "fit_d = parameters[3]\n",
    "print(fit_a)\n",
    "print(fit_r)\n",
    "print(fit_c)\n",
    "print(fit_d)"
   ]
  },
  {
   "cell_type": "code",
   "execution_count": 43,
   "metadata": {},
   "outputs": [
    {
     "data": {
      "image/png": "[encoded data removed]",
      "text/plain": [
       "<Figure size 432x288 with 1 Axes>"
      ]
     },
     "metadata": {
      "needs_background": "light"
     },
     "output_type": "display_data"
    }
   ],
   "source": [
    "fit_logistic_y = logistic(xdata, fit_a, fit_r, fit_c, fit_d)\n",
    "plt.plot(xdata, 100*ydata, 'k.', label='% stable');\n",
    "plt.plot(xdata, 100*fit_logistic_y, 'deepskyblue', label='logistic fit');\n",
    "plt.legend();\n"
   ]
  },
  {
   "cell_type": "markdown",
   "metadata": {},
   "source": [
    "### Back to plotting eigvals"
   ]
  },
  {
   "cell_type": "code",
   "execution_count": 45,
   "metadata": {},
   "outputs": [
    {
     "data": {
      "image/png": "[encoded data removed]",
      "text/plain": [
       "<Figure size 720x432 with 2 Axes>"
      ]
     },
     "metadata": {
      "needs_background": "light"
     },
     "output_type": "display_data"
    },
    {
     "data": {
      "image/png": "[encoded data removed]",
      "text/plain": [
       "<Figure size 720x432 with 2 Axes>"
      ]
     },
     "metadata": {
      "needs_background": "light"
     },
     "output_type": "display_data"
    }
   ],
   "source": [
    "### Plot Eigenvalues of Various Linearized Systems\n",
    "    ### (Eval'd at the respective steady states for single fixed mu and rho\n",
    "    \n",
    "# Loop the code below over a list of sigmas\n",
    "    # Subplots with left column symmetric, right asymmetric\n",
    "    # Make list, stability_probs. For each aEVs with different sig, append the\n",
    "      # ratio of matrices that have any Re(eigval)>0 to k.\n",
    "\n",
    "#sigs = [0.5,1,2,5,10]\n",
    "sigs = [0.5]\n",
    "# just have one pair (sEVs,aEVs) at a time for simplicity\n",
    "    # generate sEVs, aEVs with current sigma\n",
    "    # plot them\n",
    "    # append to stability_freq using aEVs\n",
    "\n",
    "n = 20      # number of species AND number of resrcs\n",
    "k = 750     # number of systems to generate\n",
    "\n",
    "# new\n",
    "sP = symPvec(sig=1, n=n, k=k)\n",
    "aP = asymPvec(sig=1, n=n, k=k)\n",
    "\n",
    "mu = (np.ones(n)*0.5).reshape(n,1)\n",
    "rho = (np.ones(n)*0.5).reshape(n,1)\n",
    "# \\new\n",
    "\n",
    "stability_freqs = [] # len(sigs)\n",
    "\n",
    "for j, s in enumerate(sigs):\n",
    "    # old\n",
    "    # sEVs = rand_eigval_gen(n, k, sig = s, symmetric=True)\n",
    "    # aEVs = rand_eigval_gen(n, k, sig = s, symmetric=False)\n",
    "    \n",
    "    # new\n",
    "    sEVs = eigval_gen(sP, eps, mu, rho)\n",
    "    aEVs = eigval_gen(aP, eps, mu, rho)\n",
    "    # \\new\n",
    "    \n",
    "    for i, q in enumerate([sEVs, aEVs]): # i index, q current value\n",
    "\n",
    "        x = q.real\n",
    "        y = q.imag\n",
    "        \n",
    "        \n",
    "        plt.rcParams[\"axes.edgecolor\"] = \"black\" \n",
    "        plt.rcParams[\"axes.linewidth\"] = 1 \n",
    "\n",
    "        fig, ax = plt.subplots(figsize = (10, 6))\n",
    "\n",
    "        #cmap = plt.cm.viridis_r  ### old, gets an error\n",
    "        cmap = mpl.cm.get_cmap(\"magma\").copy()\n",
    "        cmap.set_under(color = 'white') \n",
    "\n",
    "        plt.axvline(0, c='grey', linestyle='--', linewidth=1, ymin=0.07, ymax=0.93) ### stability threshold (Re = 0)\n",
    "\n",
    "        font = {'size' : 14}\n",
    "        plt.rc('font', **font)\n",
    "\n",
    "        \n",
    "        # plt.subplot(len(sigs),2,(j+i+1));\n",
    "        plt.hexbin(x, y, bins=None, cmap=cmap, linewidths=0.1) ### bins = 'log' seems unhelpful???\n",
    "\n",
    "        plt.xlabel(r'Re($\\lambda$)')\n",
    "        plt.ylabel(r'Im($\\lambda$)')\n",
    "\n",
    "\n",
    "        plt.clim(10**(-8), 5.0) ### color limits, increase upper for better contrast ???\n",
    "        ### originally, (10**(-8), 2.0)\n",
    "\n",
    "        xmin, xmax = plt.xlim()\n",
    "        nxm = (xmax - xmin) / 10 ### def'n some padding/margins\n",
    "        plt.xlim((xmin - nxm, xmax + nxm))\n",
    "\n",
    "\n",
    "        ### Adjusting Re axis tick marks\n",
    "        if i==0: ### symmetric P\n",
    "            loc = plticker.MultipleLocator(base=0.01) ### tick marks in increments of 'base'\n",
    "            # ax.xaxis.set_major_locator(loc)\n",
    "            plt.title(r'Symmetric P, $\\sigma={}$'.format(s))\n",
    "\n",
    "\n",
    "        if i==1: ### asymmetric P\n",
    "            loc = plticker.MultipleLocator(base=0.01) ### originally, base = 0.02\n",
    "            # ax.xaxis.set_major_locator(loc)\n",
    "            plt.title(r'Asymmetric P, $\\sigma={}$'.format(s))\n",
    "            \n",
    "        cb = plt.colorbar(aspect=40, shrink=0.85, pad=0.07)\n",
    "        locs = cb.get_ticks()\n",
    "        tl = locs[-1] * 2 / 25\n",
    "        cb.set_ticks([tl, locs[-1] - tl])\n",
    "        cb.set_ticklabels(['Low Density', 'High Density'])\n",
    "\n",
    "\n",
    "        ymin, ymax = plt.ylim()\n",
    "        nym = (ymax - ymin) / 3\n",
    "        plt.ylim((ymin - nym, ymax + nym))\n",
    "        \n",
    "        plt.tight_layout()\n",
    "    \n",
    "\n",
    "plt.show();"
   ]
  },
  {
   "cell_type": "markdown",
   "metadata": {},
   "source": [
    "# Arnoldi Measures"
   ]
  },
  {
   "cell_type": "markdown",
   "metadata": {},
   "source": [
    "## Misc."
   ]
  },
  {
   "cell_type": "code",
   "execution_count": 47,
   "metadata": {},
   "outputs": [],
   "source": [
    "def community_matr_gen(C,P,eps,mu,rho):\n",
    "    '''\n",
    "    Generate L, community matrix (Jacobian) of an O'Dwyer system described by given consumption matrix C, production matrix P, and mu, rho.\n",
    "    '''\n",
    "    \n",
    "    n = P.shape[-1]\n",
    "    k = P.shape[0]\n",
    "    I = np.identity(n)\n",
    "        \n",
    "    LD = np.zeros((k, n, n))\n",
    "\n",
    "    ## Equilibrium Abundances ##\n",
    "    R_star = R_star_gen(C, P, eps, mu)\n",
    "    S_star = S_star_gen(C, P, R_star, rho)\n",
    "    \n",
    "    # Community Matrix Partitions\n",
    "    CS = np.dot(C, S_star).T.reshape(k,n,1) # can use regular .T because first dimension is 1\n",
    "    CR = np.dot(C, R_star).T.reshape(k,n,1)\n",
    "    \n",
    "    LA  = -CS * I\n",
    "    LB = P - CR * I\n",
    "    LC = eps * CS * I\n",
    "\n",
    "    L  = np.concatenate((np.concatenate((LA, LB),2), np.concatenate((LC, LD),2)), 1)\n",
    "    \n",
    "    return L"
   ]
  },
  {
   "cell_type": "code",
   "execution_count": 212,
   "metadata": {},
   "outputs": [],
   "source": [
    "def dom_eigvals(A): # for A shape (k,2*n,2*n) ; returns entire eigval (complex, with sign)\n",
    "    if A.ndim == 2:\n",
    "        A = A.reshape(1,A.shape[0],A.shape[1])\n",
    "    \n",
    "    k = A.shape[0]\n",
    "        \n",
    "    evs = eigvals(A)\n",
    "    \n",
    "    dom_ev_ind = (np.argmax(abs(evs.real),-1))\n",
    "    dom_ev = evs[np.arange(0,k), dom_ev_ind]\n",
    "    \n",
    "    return dom_ev\n",
    "    "
   ]
  },
  {
   "cell_type": "code",
   "execution_count": 48,
   "metadata": {},
   "outputs": [
    {
     "data": {
      "text/plain": [
       "(3, 8, 8)"
      ]
     },
     "execution_count": 48,
     "metadata": {},
     "output_type": "execute_result"
    }
   ],
   "source": [
    "n = 4\n",
    "k = 3\n",
    "mu = (np.ones(n)*0.5).reshape(n,1)\n",
    "rho = (np.ones(n)*0.5).reshape(n,1)\n",
    "eps = 0.25\n",
    "C = np.identity(n)\n",
    "P = asymPvec(sig=1,n=n,k=k)\n",
    "\n",
    "Js = community_matr_gen(C,P,eps,mu,rho)\n",
    "Js.shape"
   ]
  },
  {
   "cell_type": "code",
   "execution_count": 50,
   "metadata": {},
   "outputs": [
    {
     "data": {
      "text/plain": [
       "array([[ True,  True,  True,  True,  True,  True,  True,  True]])"
      ]
     },
     "execution_count": 50,
     "metadata": {},
     "output_type": "execute_result"
    }
   ],
   "source": [
    "# Check that eigval_gen and community_matr_gen agree\n",
    "ev_ex = eigval_gen(P[0,:,:].reshape(1,4,4),eps,mu,rho)\n",
    "\n",
    "J_ex = community_matr_gen(C,P[0,:,:].reshape(1,4,4), eps,mu,rho)\n",
    "eigvals(J_ex) == ev_ex\n",
    "\n",
    "# it all seems to work just fine"
   ]
  },
  {
   "cell_type": "code",
   "execution_count": 45,
   "metadata": {
    "collapsed": true,
    "jupyter": {
     "outputs_hidden": true
    },
    "tags": []
   },
   "outputs": [
    {
     "data": {
      "text/plain": [
       "array([[0.1, 0. , 0. , 0. ],\n",
       "       [0. , 0.2, 0. , 0. ],\n",
       "       [0. , 0. , 0.3, 0. ],\n",
       "       [0. , 0. , 0. , 0.4]])"
      ]
     },
     "execution_count": 45,
     "metadata": {},
     "output_type": "execute_result"
    },
    {
     "data": {
      "text/plain": [
       "(3, 4, 1)"
      ]
     },
     "execution_count": 45,
     "metadata": {},
     "output_type": "execute_result"
    },
    {
     "data": {
      "text/plain": [
       "array([[163.3770767],\n",
       "       [ 81.7017645],\n",
       "       [ 43.1653586],\n",
       "       [ 42.0613639]])"
      ]
     },
     "execution_count": 45,
     "metadata": {},
     "output_type": "execute_result"
    },
    {
     "data": {
      "text/plain": [
       "array([[[16.3377077],\n",
       "        [16.3403529],\n",
       "        [12.9496076],\n",
       "        [16.8245456]],\n",
       "\n",
       "       [[10.2925863],\n",
       "        [14.1564322],\n",
       "        [12.6096163],\n",
       "        [11.3531752]],\n",
       "\n",
       "       [[12.938874 ],\n",
       "        [17.1243209],\n",
       "        [ 9.9906794],\n",
       "        [13.0628755]]])"
      ]
     },
     "execution_count": 45,
     "metadata": {},
     "output_type": "execute_result"
    },
    {
     "data": {
      "text/plain": [
       "array([[16.3377077],\n",
       "       [16.3403529],\n",
       "       [12.9496076],\n",
       "       [16.8245456]])"
      ]
     },
     "execution_count": 45,
     "metadata": {},
     "output_type": "execute_result"
    }
   ],
   "source": [
    "# CC = (np.arange(1,n**2+1)).reshape(n,n).T\n",
    "CC = (np.identity(n)*np.arange(1,5)/10).reshape(n,n).T\n",
    "CC\n",
    "RR = R_star_gen(CC, P, eps, mu)\n",
    "RR.shape\n",
    "RR[0,:,:]\n",
    "\n",
    "prod = np.dot(CC,RR)\n",
    "prod.T.reshape(k,n,1)\n",
    "np.dot(CC,RR[0,:,:])"
   ]
  },
  {
   "cell_type": "code",
   "execution_count": 46,
   "metadata": {
    "tags": []
   },
   "outputs": [],
   "source": [
    "### LESSON: Do not stack a matrix k times if its just the same one (when operating with another matrix)\n",
    "## Leave it as single and let numpy do heavy lifting\n",
    "\n",
    "# prod = np.tensordot(CC,RR,axes=([2],[1]))\n",
    "# prod.shape\n",
    "# np.dot(CC[0,:,:],RR[0,:,:])\n",
    "# np.dot(CC[1,:,:],RR[1,:,:])\n",
    "# np.dot(CC[2,:,:],RR[2,:,:])\n",
    "\n",
    "# prodnew = np.transpose(prod.reshape(k,n,k), (0,1,2))\n",
    "# prodnew.shape\n",
    "# indv = np.lib.stride_tricks.sliding_window_view(prodnew,(1,4,1))\n",
    "# indv.shape\n",
    "# indv"
   ]
  },
  {
   "cell_type": "code",
   "execution_count": 47,
   "metadata": {
    "tags": []
   },
   "outputs": [],
   "source": [
    "# np.sum(P_ex[0,0,:].reshape(40,1)*np.arange(1,41).reshape(40,1))\n",
    "# np.dot(P_ex,np.arange(1,41).reshape(40,1))"
   ]
  },
  {
   "cell_type": "code",
   "execution_count": 48,
   "metadata": {
    "collapsed": true,
    "jupyter": {
     "outputs_hidden": true
    },
    "tags": []
   },
   "outputs": [
    {
     "data": {
      "text/plain": [
       "array([[[16.3377077],\n",
       "        [16.3403529],\n",
       "        [12.9496076],\n",
       "        [16.8245456]],\n",
       "\n",
       "       [[10.2925863],\n",
       "        [14.1564322],\n",
       "        [12.6096163],\n",
       "        [11.3531752]],\n",
       "\n",
       "       [[12.938874 ],\n",
       "        [17.1243209],\n",
       "        [ 9.9906794],\n",
       "        [13.0628755]]])"
      ]
     },
     "execution_count": 48,
     "metadata": {},
     "output_type": "execute_result"
    },
    {
     "data": {
      "text/plain": [
       "array([[12.938874 ],\n",
       "       [17.1243209],\n",
       "       [ 9.9906794],\n",
       "       [13.0628755]])"
      ]
     },
     "execution_count": 48,
     "metadata": {},
     "output_type": "execute_result"
    }
   ],
   "source": [
    "R_star = R_star_gen(C, P, eps, mu)\n",
    "R_star\n",
    "np.dot(np.linalg.inv(C.T)/eps, (np.dot(P[2,:,:].T, np.ones(n).reshape(n,1)) + mu))"
   ]
  },
  {
   "cell_type": "markdown",
   "metadata": {},
   "source": [
    "## \"Resilience, reactivity and variability\" (2016)"
   ]
  },
  {
   "cell_type": "code",
   "execution_count": 215,
   "metadata": {},
   "outputs": [
    {
     "data": {
      "text/plain": [
       "(1000, 4, 4)"
      ]
     },
     "execution_count": 215,
     "metadata": {},
     "output_type": "execute_result"
    }
   ],
   "source": [
    "np.random.seed(999)\n",
    "n = 2\n",
    "k = 1000\n",
    "mu = (np.ones(n)*0.5).reshape(n,1)\n",
    "rho = (np.ones(n)*0.5).reshape(n,1)\n",
    "eps = 0.25\n",
    "C = np.identity(n)\n",
    "P = asymPvec(sig = 1, n = n, k = k)\n",
    "\n",
    "J = community_matr_gen(C,P,eps,mu,rho)\n",
    "J.shape"
   ]
  },
  {
   "cell_type": "markdown",
   "metadata": {
    "tags": []
   },
   "source": [
    "### Pre-Arnoldi sanity check"
   ]
  },
  {
   "cell_type": "code",
   "execution_count": 205,
   "metadata": {},
   "outputs": [
    {
     "data": {
      "text/plain": [
       "array([[ -0.1581244,  -0.       ,  -3.6407335,   1.4018909],\n",
       "       [ -0.       ,  -0.0539904,   0.314815 , -10.182911 ],\n",
       "       [  0.0395311,   0.       ,   0.       ,   0.       ],\n",
       "       [  0.       ,   0.0134976,   0.       ,   0.       ]])"
      ]
     },
     "execution_count": 205,
     "metadata": {},
     "output_type": "execute_result"
    }
   ],
   "source": [
    "# Check that Jacobians are correct, because the Arnoldi measures down below are a little strange.\n",
    "\n",
    "J[0,:,:]"
   ]
  },
  {
   "cell_type": "code",
   "execution_count": 206,
   "metadata": {},
   "outputs": [
    {
     "data": {
      "text/plain": [
       "array([[ 3.7678913],\n",
       "       [11.0413602]])"
      ]
     },
     "execution_count": 206,
     "metadata": {},
     "output_type": "execute_result"
    },
    {
     "data": {
      "text/plain": [
       "array([[0.1581244],\n",
       "       [0.0539904]])"
      ]
     },
     "execution_count": 206,
     "metadata": {},
     "output_type": "execute_result"
    }
   ],
   "source": [
    "# Equilibria\n",
    "R_star = R_star_gen(C,P,eps,mu)\n",
    "S_star = S_star_gen(C,P,R_star,rho)\n",
    "\n",
    "R_star[0,:,:]\n",
    "S_star[0,:,:]"
   ]
  },
  {
   "cell_type": "code",
   "execution_count": 211,
   "metadata": {},
   "outputs": [],
   "source": [
    "#R_star\n",
    "np.linalg.inv(C.T) * (1/eps) * (np.sum(P[0,:,:].T,-1) + mu)\n",
    "\n",
    "#S_star\n",
    "np.dot(np.linalg.inv(np.dot(np.diag(R_star[0,:,:].reshape(n)), C) - P[0,:,:]), rho)"
   ]
  },
  {
   "cell_type": "code",
   "execution_count": 202,
   "metadata": {},
   "outputs": [
    {
     "data": {
      "text/plain": [
       "array([[-0.1581244,  0.       ],\n",
       "       [ 0.       , -0.0539904]])"
      ]
     },
     "execution_count": 202,
     "metadata": {},
     "output_type": "execute_result"
    }
   ],
   "source": [
    "#LA\n",
    "np.diag(np.dot(-C,S_star[0,:,:]).reshape(2))"
   ]
  },
  {
   "cell_type": "code",
   "execution_count": 203,
   "metadata": {},
   "outputs": [
    {
     "data": {
      "text/plain": [
       "array([[ -3.6407335,   1.4018909],\n",
       "       [  0.314815 , -10.182911 ]])"
      ]
     },
     "execution_count": 203,
     "metadata": {},
     "output_type": "execute_result"
    }
   ],
   "source": [
    "#LB\n",
    "np.dot(-np.diag(R_star[0,:,:].reshape(2)), C) + P[0,:,:]"
   ]
  },
  {
   "cell_type": "code",
   "execution_count": 204,
   "metadata": {},
   "outputs": [
    {
     "data": {
      "text/plain": [
       "array([[0.0395311, 0.       ],\n",
       "       [0.       , 0.0134976]])"
      ]
     },
     "execution_count": 204,
     "metadata": {},
     "output_type": "execute_result"
    }
   ],
   "source": [
    "#LC\n",
    "eps*np.diag(S_star[0,:,:].reshape(2))*C.T"
   ]
  },
  {
   "cell_type": "code",
   "execution_count": 192,
   "metadata": {},
   "outputs": [
    {
     "data": {
      "text/plain": [
       "(1000, 2, 1)"
      ]
     },
     "execution_count": 192,
     "metadata": {},
     "output_type": "execute_result"
    }
   ],
   "source": [
    "S_star.shape"
   ]
  },
  {
   "cell_type": "markdown",
   "metadata": {},
   "source": [
    "### The 4 measures"
   ]
  },
  {
   "cell_type": "code",
   "execution_count": 50,
   "metadata": {},
   "outputs": [],
   "source": [
    "# 'A' will mean a (k,2*n,2*n) stack of community matrices (Jacobian evaluated at R_star,S_star)"
   ]
  },
  {
   "cell_type": "code",
   "execution_count": 188,
   "metadata": {},
   "outputs": [],
   "source": [
    "def asym_res(A):\n",
    "    if A.ndim == 2:\n",
    "        A = A.reshape(1,A.shape[0],A.shape[1])\n",
    "    \n",
    "    evs = eigvals(A)\n",
    "    k = A.shape[0]\n",
    "    \n",
    "    dom_ev_ind = (np.argmax(abs(eigvals(A).real),-1))\n",
    "    dom_ev = evs[np.arange(0,k), dom_ev_ind]\n",
    "    \n",
    "    AS = -dom_ev.real\n",
    "    \n",
    "    return AS"
   ]
  },
  {
   "cell_type": "code",
   "execution_count": 184,
   "metadata": {},
   "outputs": [
    {
     "data": {
      "text/plain": [
       "(1000,)"
      ]
     },
     "execution_count": 184,
     "metadata": {},
     "output_type": "execute_result"
    },
    {
     "data": {
      "text/plain": [
       "0.06884389068011572"
      ]
     },
     "execution_count": 184,
     "metadata": {},
     "output_type": "execute_result"
    }
   ],
   "source": [
    "AR= asym_res(J)\n",
    "AR.shape\n",
    "AR[0]"
   ]
  },
  {
   "cell_type": "markdown",
   "metadata": {},
   "source": [
    "$$\\mathcal{I}_D = \\frac{1}{(\\sup_{\\omega}||i\\omega - A)^{-1}||)}$$"
   ]
  },
  {
   "cell_type": "code",
   "execution_count": 308,
   "metadata": {},
   "outputs": [],
   "source": [
    "from scipy.optimize import minimize\n",
    "from scipy.optimize import minimize_scalar # for Brent\n",
    "\n",
    "# How to optimize omega for stack of A's in parallel?\n",
    "## Might just settle with for-looping the optimize calls"
   ]
  },
  {
   "cell_type": "code",
   "execution_count": 250,
   "metadata": {},
   "outputs": [
    {
     "data": {
      "text/plain": [
       "array([[ 0.-0.j,  0.-0.j],\n",
       "       [ 0.-0.j, 10.-2.j]])"
      ]
     },
     "execution_count": 250,
     "metadata": {},
     "output_type": "execute_result"
    }
   ],
   "source": [
    "X = np.empty([2,2]).astype(complex)\n",
    "X[1,1] = complex(10,2)\n",
    "X.conj().T"
   ]
  },
  {
   "cell_type": "code",
   "execution_count": 309,
   "metadata": {},
   "outputs": [],
   "source": [
    "def spectral_norm(A): # bc spectral radius is not a matrix norm\n",
    "    dom_ev = dom_eigvals(np.dot(A.conj().T, A)) # from Arnoldi (2016) Appendix A\n",
    "    \n",
    "    return np.sqrt(abs(dom_ev.real))[0] # TAKE ABS BECAUSE ? MAKES NO SENSE TO LEAVE AS NEGATIVE?"
   ]
  },
  {
   "cell_type": "code",
   "execution_count": 310,
   "metadata": {},
   "outputs": [],
   "source": [
    "# find omega that minimizes -||inverse(i*om-A)||_{spectral}\n",
    "\n",
    "# objective function\n",
    "A = J[0,:,:] # fix an A for this example\n",
    "def determ_invar_OBJ(om): # _OBJ to imply that it is objective fn version (multiplied by -1)\n",
    "    B = np.linalg.inv(complex(0,om) - A)  # call B the matrix whose spectral norm we aim to maximize\n",
    "    \n",
    "    spec_norm = spectral_norm(B)\n",
    "    \n",
    "    return -1 / spec_norm # negative because we are maximizing the non-negative version by minimizing this version"
   ]
  },
  {
   "cell_type": "code",
   "execution_count": 311,
   "metadata": {},
   "outputs": [
    {
     "name": "stdout",
     "output_type": "stream",
     "text": [
      "Optimization terminated successfully.\n",
      "         Current function value: -0.026784\n",
      "         Iterations: 69\n",
      "         Function evaluations: 162\n"
     ]
    }
   ],
   "source": [
    "# need the matrix A to be global constant in objective function, or else considered parameter\n",
    "## How fix this?\n",
    "\n",
    "guess = 1 # initial omega guess\n",
    "out1 = minimize(determ_invar_OBJ, guess, method='nelder-mead', options={'xatol': 1e-8, 'disp': True}) # Brent for 1 parameter?"
   ]
  },
  {
   "cell_type": "code",
   "execution_count": 312,
   "metadata": {
    "tags": []
   },
   "outputs": [
    {
     "data": {
      "text/plain": [
       "array([734003.55])"
      ]
     },
     "execution_count": 312,
     "metadata": {},
     "output_type": "execute_result"
    }
   ],
   "source": [
    "out1.x # kinda big, kinda wrong probably; WILDLY VARIES based on guess"
   ]
  },
  {
   "cell_type": "code",
   "execution_count": 313,
   "metadata": {
    "tags": []
   },
   "outputs": [],
   "source": [
    "# Brent\n",
    "guess = 1 # Brent does not take a guess?\n",
    "# out2 = minimize_scalar(determ_invar_OBJ, method='brent', options={'disp': True}) # display convergence message, not available??? It's in the docs, tho\n",
    "out2 = minimize_scalar(determ_invar_OBJ, method='brent')"
   ]
  },
  {
   "cell_type": "code",
   "execution_count": 314,
   "metadata": {
    "tags": []
   },
   "outputs": [
    {
     "data": {
      "text/plain": [
       "483443.6294856498"
      ]
     },
     "execution_count": 314,
     "metadata": {},
     "output_type": "execute_result"
    }
   ],
   "source": [
    "out2.x"
   ]
  },
  {
   "cell_type": "code",
   "execution_count": 323,
   "metadata": {
    "tags": []
   },
   "outputs": [],
   "source": [
    "temp = []\n",
    "for i in range(-1,2):\n",
    "    temp.append(determ_invar(A,out2.x+i*99999))\n",
    "temp # varies extremely slightly \n",
    "\n",
    "temp = np.array(temp)\n",
    "\n",
    "np.diff(temp)"
   ]
  },
  {
   "cell_type": "code",
   "execution_count": 218,
   "metadata": {
    "collapsed": true,
    "jupyter": {
     "outputs_hidden": true
    },
    "tags": []
   },
   "outputs": [
    {
     "data": {
      "text/plain": [
       "\u001b[1;31mType:\u001b[0m        module\n",
       "\u001b[1;31mString form:\u001b[0m <module 'scipy.optimize' from 'C:\\\\Users\\\\riley\\\\anaconda3\\\\lib\\\\site-packages\\\\scipy\\\\optimize\\\\__init__.py'>\n",
       "\u001b[1;31mFile:\u001b[0m        c:\\users\\riley\\anaconda3\\lib\\site-packages\\scipy\\optimize\\__init__.py\n",
       "\u001b[1;31mDocstring:\u001b[0m  \n",
       "=====================================================\n",
       "Optimization and root finding (:mod:`scipy.optimize`)\n",
       "=====================================================\n",
       "\n",
       ".. currentmodule:: scipy.optimize\n",
       "\n",
       "SciPy ``optimize`` provides functions for minimizing (or maximizing)\n",
       "objective functions, possibly subject to constraints. It includes\n",
       "solvers for nonlinear problems (with support for both local and global\n",
       "optimization algorithms), linear programing, constrained\n",
       "and nonlinear least-squares, root finding, and curve fitting.\n",
       "\n",
       "Common functions and objects, shared across different solvers, are:\n",
       "\n",
       ".. autosummary::\n",
       "   :toctree: generated/\n",
       "\n",
       "   show_options - Show specific options optimization solvers.\n",
       "   OptimizeResult - The optimization result returned by some optimizers.\n",
       "   OptimizeWarning - The optimization encountered problems.\n",
       "\n",
       "\n",
       "Optimization\n",
       "============\n",
       "\n",
       "Scalar functions optimization\n",
       "-----------------------------\n",
       "\n",
       ".. autosummary::\n",
       "   :toctree: generated/\n",
       "\n",
       "   minimize_scalar - Interface for minimizers of univariate functions\n",
       "\n",
       "The `minimize_scalar` function supports the following methods:\n",
       "\n",
       ".. toctree::\n",
       "\n",
       "   optimize.minimize_scalar-brent\n",
       "   optimize.minimize_scalar-bounded\n",
       "   optimize.minimize_scalar-golden\n",
       "\n",
       "Local (multivariate) optimization\n",
       "---------------------------------\n",
       "\n",
       ".. autosummary::\n",
       "   :toctree: generated/\n",
       "\n",
       "   minimize - Interface for minimizers of multivariate functions.\n",
       "\n",
       "The `minimize` function supports the following methods:\n",
       "\n",
       ".. toctree::\n",
       "\n",
       "   optimize.minimize-neldermead\n",
       "   optimize.minimize-powell\n",
       "   optimize.minimize-cg\n",
       "   optimize.minimize-bfgs\n",
       "   optimize.minimize-newtoncg\n",
       "   optimize.minimize-lbfgsb\n",
       "   optimize.minimize-tnc\n",
       "   optimize.minimize-cobyla\n",
       "   optimize.minimize-slsqp\n",
       "   optimize.minimize-trustconstr\n",
       "   optimize.minimize-dogleg\n",
       "   optimize.minimize-trustncg\n",
       "   optimize.minimize-trustkrylov\n",
       "   optimize.minimize-trustexact\n",
       "\n",
       "Constraints are passed to `minimize` function as a single object or\n",
       "as a list of objects from the following classes:\n",
       "\n",
       ".. autosummary::\n",
       "   :toctree: generated/\n",
       "\n",
       "   NonlinearConstraint - Class defining general nonlinear constraints.\n",
       "   LinearConstraint - Class defining general linear constraints.\n",
       "\n",
       "Simple bound constraints are handled separately and there is a special class\n",
       "for them:\n",
       "\n",
       ".. autosummary::\n",
       "   :toctree: generated/\n",
       "\n",
       "   Bounds - Bound constraints.\n",
       "\n",
       "Quasi-Newton strategies implementing `HessianUpdateStrategy`\n",
       "interface can be used to approximate the Hessian in `minimize`\n",
       "function (available only for the 'trust-constr' method). Available\n",
       "quasi-Newton methods implementing this interface are:\n",
       "\n",
       ".. autosummary::\n",
       "   :toctree: generated/\n",
       "\n",
       "   BFGS - Broyden-Fletcher-Goldfarb-Shanno (BFGS) Hessian update strategy.\n",
       "   SR1 - Symmetric-rank-1 Hessian update strategy.\n",
       "\n",
       "Global optimization\n",
       "-------------------\n",
       "\n",
       ".. autosummary::\n",
       "   :toctree: generated/\n",
       "\n",
       "   basinhopping - Basinhopping stochastic optimizer.\n",
       "   brute - Brute force searching optimizer.\n",
       "   differential_evolution - stochastic minimization using differential evolution.\n",
       "\n",
       "   shgo - simplicial homology global optimisation\n",
       "   dual_annealing - Dual annealing stochastic optimizer.\n",
       "\n",
       "\n",
       "Least-squares and curve fitting\n",
       "===============================\n",
       "\n",
       "Nonlinear least-squares\n",
       "-----------------------\n",
       "\n",
       ".. autosummary::\n",
       "   :toctree: generated/\n",
       "\n",
       "   least_squares - Solve a nonlinear least-squares problem with bounds on the variables.\n",
       "\n",
       "Linear least-squares\n",
       "--------------------\n",
       "\n",
       ".. autosummary::\n",
       "   :toctree: generated/\n",
       "\n",
       "   nnls - Linear least-squares problem with non-negativity constraint.\n",
       "   lsq_linear - Linear least-squares problem with bound constraints.\n",
       "\n",
       "Curve fitting\n",
       "-------------\n",
       "\n",
       ".. autosummary::\n",
       "   :toctree: generated/\n",
       "\n",
       "   curve_fit -- Fit curve to a set of points.\n",
       "\n",
       "Root finding\n",
       "============\n",
       "\n",
       "Scalar functions\n",
       "----------------\n",
       ".. autosummary::\n",
       "   :toctree: generated/\n",
       "\n",
       "   root_scalar - Unified interface for nonlinear solvers of scalar functions.\n",
       "   brentq - quadratic interpolation Brent method.\n",
       "   brenth - Brent method, modified by Harris with hyperbolic extrapolation.\n",
       "   ridder - Ridder's method.\n",
       "   bisect - Bisection method.\n",
       "   newton - Newton's method (also Secant and Halley's methods).\n",
       "   toms748 - Alefeld, Potra & Shi Algorithm 748.\n",
       "   RootResults - The root finding result returned by some root finders.\n",
       "\n",
       "The `root_scalar` function supports the following methods:\n",
       "\n",
       ".. toctree::\n",
       "\n",
       "   optimize.root_scalar-brentq\n",
       "   optimize.root_scalar-brenth\n",
       "   optimize.root_scalar-bisect\n",
       "   optimize.root_scalar-ridder\n",
       "   optimize.root_scalar-newton\n",
       "   optimize.root_scalar-toms748\n",
       "   optimize.root_scalar-secant\n",
       "   optimize.root_scalar-halley\n",
       "\n",
       "\n",
       "\n",
       "The table below lists situations and appropriate methods, along with\n",
       "*asymptotic* convergence rates per iteration (and per function evaluation)\n",
       "for successful convergence to a simple root(*).\n",
       "Bisection is the slowest of them all, adding one bit of accuracy for each\n",
       "function evaluation, but is guaranteed to converge.\n",
       "The other bracketing methods all (eventually) increase the number of accurate\n",
       "bits by about 50% for every function evaluation.\n",
       "The derivative-based methods, all built on `newton`, can converge quite quickly\n",
       "if the initial value is close to the root.  They can also be applied to\n",
       "functions defined on (a subset of) the complex plane.\n",
       "\n",
       "+-------------+----------+----------+-----------+-------------+-------------+----------------+\n",
       "| Domain of f | Bracket? |    Derivatives?      | Solvers     |        Convergence           |\n",
       "+             +          +----------+-----------+             +-------------+----------------+\n",
       "|             |          | `fprime` | `fprime2` |             | Guaranteed? |  Rate(s)(*)    |\n",
       "+=============+==========+==========+===========+=============+=============+================+\n",
       "| `R`         | Yes      | N/A      | N/A       | - bisection | - Yes       | - 1 \"Linear\"   |\n",
       "|             |          |          |           | - brentq    | - Yes       | - >=1, <= 1.62 |\n",
       "|             |          |          |           | - brenth    | - Yes       | - >=1, <= 1.62 |\n",
       "|             |          |          |           | - ridder    | - Yes       | - 2.0 (1.41)   |\n",
       "|             |          |          |           | - toms748   | - Yes       | - 2.7 (1.65)   |\n",
       "+-------------+----------+----------+-----------+-------------+-------------+----------------+\n",
       "| `R` or `C`  | No       | No       | No        | secant      | No          | 1.62 (1.62)    |\n",
       "+-------------+----------+----------+-----------+-------------+-------------+----------------+\n",
       "| `R` or `C`  | No       | Yes      | No        | newton      | No          | 2.00 (1.41)    |\n",
       "+-------------+----------+----------+-----------+-------------+-------------+----------------+\n",
       "| `R` or `C`  | No       | Yes      | Yes       | halley      | No          | 3.00 (1.44)    |\n",
       "+-------------+----------+----------+-----------+-------------+-------------+----------------+\n",
       "\n",
       ".. seealso::\n",
       "\n",
       "   `scipy.optimize.cython_optimize` -- Typed Cython versions of zeros functions\n",
       "\n",
       "Fixed point finding:\n",
       "\n",
       ".. autosummary::\n",
       "   :toctree: generated/\n",
       "\n",
       "   fixed_point - Single-variable fixed-point solver.\n",
       "\n",
       "Multidimensional\n",
       "----------------\n",
       "\n",
       ".. autosummary::\n",
       "   :toctree: generated/\n",
       "\n",
       "   root - Unified interface for nonlinear solvers of multivariate functions.\n",
       "\n",
       "The `root` function supports the following methods:\n",
       "\n",
       ".. toctree::\n",
       "\n",
       "   optimize.root-hybr\n",
       "   optimize.root-lm\n",
       "   optimize.root-broyden1\n",
       "   optimize.root-broyden2\n",
       "   optimize.root-anderson\n",
       "   optimize.root-linearmixing\n",
       "   optimize.root-diagbroyden\n",
       "   optimize.root-excitingmixing\n",
       "   optimize.root-krylov\n",
       "   optimize.root-dfsane\n",
       "\n",
       "Linear programming\n",
       "==================\n",
       "\n",
       ".. autosummary::\n",
       "   :toctree: generated/\n",
       "\n",
       "   linprog -- Unified interface for minimizers of linear programming problems.\n",
       "\n",
       "The `linprog` function supports the following methods:\n",
       "\n",
       ".. toctree::\n",
       "\n",
       "   optimize.linprog-simplex\n",
       "   optimize.linprog-interior-point\n",
       "   optimize.linprog-revised_simplex\n",
       "   optimize.linprog-highs-ipm\n",
       "   optimize.linprog-highs-ds\n",
       "   optimize.linprog-highs\n",
       "\n",
       "The simplex, interior-point, and revised simplex methods support callback\n",
       "functions, such as:\n",
       "\n",
       ".. autosummary::\n",
       "   :toctree: generated/\n",
       "\n",
       "   linprog_verbose_callback -- Sample callback function for linprog (simplex).\n",
       "\n",
       "Assignment problems\n",
       "===================\n",
       "\n",
       ".. autosummary::\n",
       "   :toctree: generated/\n",
       "\n",
       "   linear_sum_assignment -- Solves the linear-sum assignment problem.\n",
       "   quadratic_assignment -- Solves the quadratic assignment problem.\n",
       "\n",
       "The `quadratic_assignment` function supports the following methods:\n",
       "\n",
       ".. toctree::\n",
       "\n",
       "   optimize.qap-faq\n",
       "   optimize.qap-2opt\n",
       "\n",
       "Utilities\n",
       "=========\n",
       "\n",
       "Finite-difference approximation\n",
       "-------------------------------\n",
       "\n",
       ".. autosummary::\n",
       "   :toctree: generated/\n",
       "\n",
       "   approx_fprime - Approximate the gradient of a scalar function.\n",
       "   check_grad - Check the supplied derivative using finite differences.\n",
       "\n",
       "\n",
       "Line search\n",
       "-----------\n",
       "\n",
       ".. autosummary::\n",
       "   :toctree: generated/\n",
       "\n",
       "   bracket - Bracket a minimum, given two starting points.\n",
       "   line_search - Return a step that satisfies the strong Wolfe conditions.\n",
       "\n",
       "Hessian approximation\n",
       "---------------------\n",
       "\n",
       ".. autosummary::\n",
       "   :toctree: generated/\n",
       "\n",
       "   LbfgsInvHessProduct - Linear operator for L-BFGS approximate inverse Hessian.\n",
       "   HessianUpdateStrategy - Interface for implementing Hessian update strategies\n",
       "\n",
       "Benchmark problems\n",
       "------------------\n",
       "\n",
       ".. autosummary::\n",
       "   :toctree: generated/\n",
       "\n",
       "   rosen - The Rosenbrock function.\n",
       "   rosen_der - The derivative of the Rosenbrock function.\n",
       "   rosen_hess - The Hessian matrix of the Rosenbrock function.\n",
       "   rosen_hess_prod - Product of the Rosenbrock Hessian with a vector.\n",
       "\n",
       "Legacy functions\n",
       "================\n",
       "\n",
       "The functions below are not recommended for use in new scripts;\n",
       "all of these methods are accessible via a newer, more consistent\n",
       "interfaces, provided by the interfaces above.\n",
       "\n",
       "Optimization\n",
       "------------\n",
       "\n",
       "General-purpose multivariate methods:\n",
       "\n",
       ".. autosummary::\n",
       "   :toctree: generated/\n",
       "\n",
       "   fmin - Nelder-Mead Simplex algorithm.\n",
       "   fmin_powell - Powell's (modified) level set method.\n",
       "   fmin_cg - Non-linear (Polak-Ribiere) conjugate gradient algorithm.\n",
       "   fmin_bfgs - Quasi-Newton method (Broydon-Fletcher-Goldfarb-Shanno).\n",
       "   fmin_ncg - Line-search Newton Conjugate Gradient.\n",
       "\n",
       "Constrained multivariate methods:\n",
       "\n",
       ".. autosummary::\n",
       "   :toctree: generated/\n",
       "\n",
       "   fmin_l_bfgs_b - Zhu, Byrd, and Nocedal's constrained optimizer.\n",
       "   fmin_tnc - Truncated Newton code.\n",
       "   fmin_cobyla - Constrained optimization by linear approximation.\n",
       "   fmin_slsqp - Minimization using sequential least-squares programming.\n",
       "\n",
       "Univariate (scalar) minimization methods:\n",
       "\n",
       ".. autosummary::\n",
       "   :toctree: generated/\n",
       "\n",
       "   fminbound - Bounded minimization of a scalar function.\n",
       "   brent - 1-D function minimization using Brent method.\n",
       "   golden - 1-D function minimization using Golden Section method.\n",
       "\n",
       "Least-squares\n",
       "-------------\n",
       "\n",
       ".. autosummary::\n",
       "   :toctree: generated/\n",
       "\n",
       "   leastsq - Minimize the sum of squares of M equations in N unknowns.\n",
       "\n",
       "Root finding\n",
       "------------\n",
       "\n",
       "General nonlinear solvers:\n",
       "\n",
       ".. autosummary::\n",
       "   :toctree: generated/\n",
       "\n",
       "   fsolve - Non-linear multivariable equation solver.\n",
       "   broyden1 - Broyden's first method.\n",
       "   broyden2 - Broyden's second method.\n",
       "\n",
       "Large-scale nonlinear solvers:\n",
       "\n",
       ".. autosummary::\n",
       "   :toctree: generated/\n",
       "\n",
       "   newton_krylov\n",
       "   anderson\n",
       "\n",
       "Simple iteration solvers:\n",
       "\n",
       ".. autosummary::\n",
       "   :toctree: generated/\n",
       "\n",
       "   excitingmixing\n",
       "   linearmixing\n",
       "   diagbroyden\n",
       "\n",
       ":mod:`Additional information on the nonlinear solvers <scipy.optimize.nonlin>`\n"
      ]
     },
     "metadata": {},
     "output_type": "display_data"
    }
   ],
   "source": [
    "optimize?"
   ]
  },
  {
   "cell_type": "code",
   "execution_count": 284,
   "metadata": {},
   "outputs": [],
   "source": [
    "# Deterministic invariance\n",
    "def determ_invar(A, om):\n",
    "    # find omega=om that maximizes ||inverse(i*om-A)||_{spectral}, the frequency response\n",
    "    # instead, find omega that minimizes -||inverse(i*om-A)||_{spectral}  \n",
    "    \n",
    "    B = np.linalg.inv(complex(0,om) - A)  # call B the matrix whose spectral norm we aim to maximize\n",
    "    \n",
    "    spec_norm = spectral_norm(B)\n",
    "    \n",
    "    return 1 / spec_norm\n",
    "    "
   ]
  },
  {
   "cell_type": "markdown",
   "metadata": {},
   "source": [
    "$$\\mathcal{I}_S = \\frac{1}{2} ||-\\hat{A}^{-1}||^{-1}$$\n",
    "$$ \\hat{A} = A \\otimes I + I \\otimes A $$"
   ]
  },
  {
   "cell_type": "code",
   "execution_count": 163,
   "metadata": {},
   "outputs": [],
   "source": [
    "def stoch_invar(A): # Stochastic invariance\n",
    "    # NOT vectorized bc Kronecker product (at the moment)\n",
    "    I = np.identity(A.shape[-1])\n",
    "    A_hat = np.kron(A,I) + np.kron(I,A)\n",
    "    \n",
    "    temp = -np.linalg.inv(A_hat)\n",
    "    dom_real = np.max(abs(eigvals(temp).real))\n",
    "    \n",
    "    SI = 0.5 / dom_real\n",
    "    \n",
    "    return SI"
   ]
  },
  {
   "cell_type": "code",
   "execution_count": 164,
   "metadata": {},
   "outputs": [
    {
     "data": {
      "text/plain": [
       "0.037213522033455675"
      ]
     },
     "execution_count": 164,
     "metadata": {},
     "output_type": "execute_result"
    }
   ],
   "source": [
    "SI = stoch_invar(J[0,:,:]) # this takes a while even for one community matrix\n",
    "SI"
   ]
  },
  {
   "cell_type": "code",
   "execution_count": 165,
   "metadata": {},
   "outputs": [],
   "source": [
    "SI = []\n",
    "for i in range(k):\n",
    "    SI.append(stoch_invar(J[i,:,:]))"
   ]
  },
  {
   "cell_type": "code",
   "execution_count": 166,
   "metadata": {},
   "outputs": [
    {
     "data": {
      "text/plain": [
       "1000"
      ]
     },
     "execution_count": 166,
     "metadata": {},
     "output_type": "execute_result"
    }
   ],
   "source": [
    "len(SI)"
   ]
  },
  {
   "cell_type": "code",
   "execution_count": 167,
   "metadata": {},
   "outputs": [],
   "source": [
    "SI = np.array(SI)"
   ]
  },
  {
   "cell_type": "code",
   "execution_count": 168,
   "metadata": {},
   "outputs": [],
   "source": [
    "# Initial Resilience\n",
    "# def init_res(A): # include both real and imaginary parts, says the paper. Why only real eigenvalues???\n",
    "#     evs = eigvals(A + np.transpose(A,(0,2,1)))\n",
    "#     k = A.shape[0]\n",
    "    \n",
    "#     dom_ev_ind = np.argmax(abs(evs.real),1)\n",
    "#     dom_ev = evs[np.arange(0,k), dom_ev_ind]\n",
    "#     # print(dom_ev)\n",
    "    \n",
    "#     R0 = -0.5* dom_ev\n",
    "    \n",
    "#     return R0\n",
    "\n",
    "def init_res(A): # real part only, as implied but not defined in the paper. Property of A+A.T ???\n",
    "    \n",
    "    if A.ndim == 2:  # to account for passing a single community matrix A, shape (2*n,2*n)\n",
    "        A = A.reshape(1,A.shape[0],A.shape[1])\n",
    "    \n",
    "    evs = eigvals(A + np.transpose(A,(0,2,1)))\n",
    "    print('evs shape', evs.shape)\n",
    "    k = A.shape[0]\n",
    "    \n",
    "    dom_ev_ind = np.argmax(abs(evs.real),1)\n",
    "    dom_ev = evs[np.arange(0,k), dom_ev_ind].real # do this indexing to remember the sign of the dominant eigvals\n",
    "    \n",
    "    \n",
    "    R0 = -0.5* dom_ev\n",
    "    \n",
    "    return R0"
   ]
  },
  {
   "cell_type": "code",
   "execution_count": 169,
   "metadata": {
    "tags": []
   },
   "outputs": [
    {
     "name": "stdout",
     "output_type": "stream",
     "text": [
      "evs shape (1000, 4)\n"
     ]
    },
    {
     "data": {
      "text/plain": [
       "(1000,)"
      ]
     },
     "execution_count": 169,
     "metadata": {},
     "output_type": "execute_result"
    }
   ],
   "source": [
    "R0 = init_res(J)\n",
    "R0.shape\n"
   ]
  },
  {
   "cell_type": "code",
   "execution_count": null,
   "metadata": {
    "tags": []
   },
   "outputs": [],
   "source": [
    "J_temp = J + np.transpose(J, (0,2,1))"
   ]
  },
  {
   "cell_type": "code",
   "execution_count": null,
   "metadata": {
    "collapsed": true,
    "jupyter": {
     "outputs_hidden": true
    },
    "tags": []
   },
   "outputs": [
    {
     "data": {
      "text/plain": [
       "(5, 4)"
      ]
     },
     "execution_count": 128,
     "metadata": {},
     "output_type": "execute_result"
    }
   ],
   "source": [
    "ev_temp = eigvals(J_temp)\n",
    "ev_temp.shape"
   ]
  },
  {
   "cell_type": "code",
   "execution_count": null,
   "metadata": {
    "collapsed": true,
    "jupyter": {
     "outputs_hidden": true
    }
   },
   "outputs": [
    {
     "data": {
      "text/plain": [
       "array([[  7.1009835,  -7.2482117,  -3.276566 ,   2.9363642],\n",
       "       [ -9.2265337,  -7.3296911,   9.0891465,   7.1923546],\n",
       "       [-11.1951709,  -9.0304882,  11.0854919,   8.9184519],\n",
       "       [-14.6536044,  -9.6683624,  14.5563634,   9.5626086],\n",
       "       [ -8.2099854,  -5.3755646,   5.1762009,   8.0709224]])"
      ]
     },
     "execution_count": 130,
     "metadata": {},
     "output_type": "execute_result"
    }
   ],
   "source": [
    "ev_temp"
   ]
  },
  {
   "cell_type": "code",
   "execution_count": null,
   "metadata": {
    "collapsed": true,
    "jupyter": {
     "outputs_hidden": true
    }
   },
   "outputs": [
    {
     "data": {
      "text/plain": [
       "array([ 7.2482117,  9.2265337, 11.1951709, 14.6536044,  8.2099854])"
      ]
     },
     "execution_count": 139,
     "metadata": {},
     "output_type": "execute_result"
    }
   ],
   "source": [
    "np.max(abs(ev_temp).real, -1)"
   ]
  },
  {
   "cell_type": "code",
   "execution_count": null,
   "metadata": {
    "collapsed": true,
    "jupyter": {
     "outputs_hidden": true
    }
   },
   "outputs": [
    {
     "data": {
      "text/plain": [
       "array([3.6241058, 4.6132668, 5.5975855, 7.3268022, 4.1049927])"
      ]
     },
     "execution_count": 138,
     "metadata": {},
     "output_type": "execute_result"
    }
   ],
   "source": [
    "np.max(abs(ev_temp).real, -1)/2"
   ]
  },
  {
   "cell_type": "code",
   "execution_count": 108,
   "metadata": {
    "collapsed": true,
    "jupyter": {
     "outputs_hidden": true
    },
    "tags": []
   },
   "outputs": [
    {
     "data": {
      "text/plain": [
       "True"
      ]
     },
     "execution_count": 108,
     "metadata": {},
     "output_type": "execute_result"
    }
   ],
   "source": [
    "np.all(J[0,:,:] + J[0,:,:].T == (J + np.transpose(J,(0,2,1)))[0,:,:]) "
   ]
  },
  {
   "cell_type": "markdown",
   "metadata": {},
   "source": [
    "### R_0 vs. I_S plots"
   ]
  },
  {
   "cell_type": "code",
   "execution_count": 177,
   "metadata": {},
   "outputs": [
    {
     "data": {
      "image/png": "[encoded data removed]",
      "text/plain": [
       "<Figure size 432x288 with 1 Axes>"
      ]
     },
     "metadata": {
      "needs_background": "light"
     },
     "output_type": "display_data"
    }
   ],
   "source": [
    "plt.scatter(SI, R0);\n",
    "plt.xlabel(r'$\\mathcal{I}_S$');\n",
    "plt.ylabel(r'$\\mathcal{R}_0$');"
   ]
  },
  {
   "cell_type": "code",
   "execution_count": 176,
   "metadata": {},
   "outputs": [
    {
     "data": {
      "text/plain": [
       "1.5655552147674954"
      ]
     },
     "execution_count": 176,
     "metadata": {},
     "output_type": "execute_result"
    }
   ],
   "source": [
    "np.min(R0)"
   ]
  },
  {
   "cell_type": "code",
   "execution_count": 122,
   "metadata": {},
   "outputs": [
    {
     "data": {
      "text/plain": [
       "array([ 2.4295188+0.j       ,  0.9114107+0.j       ,\n",
       "       -0.0527478+0.2730224j, -0.0527478-0.2730224j,\n",
       "       -0.2871995+0.j       ])"
      ]
     },
     "execution_count": 122,
     "metadata": {},
     "output_type": "execute_result"
    },
    {
     "data": {
      "text/plain": [
       "array([ 4.9988901,  1.8959808, -0.9834953,  0.312489 , -0.3273957])"
      ]
     },
     "execution_count": 122,
     "metadata": {},
     "output_type": "execute_result"
    }
   ],
   "source": [
    "# the thing where eigval(A+A.T) has no complex eigenvalues\n",
    "X = np.random.rand(5,5) \n",
    "eigvals(X)\n",
    "eigvals(X+X.T)"
   ]
  },
  {
   "cell_type": "code",
   "execution_count": 66,
   "metadata": {},
   "outputs": [
    {
     "data": {
      "text/plain": [
       "True"
      ]
     },
     "execution_count": 66,
     "metadata": {},
     "output_type": "execute_result"
    }
   ],
   "source": [
    "# miscellaneous test\n",
    "np.all(np.linalg.inv(J)[67,:,:] == np.linalg.inv(J[67,:,:])) # wow, linalg.inv() just works on stacks"
   ]
  },
  {
   "cell_type": "markdown",
   "metadata": {},
   "source": [
    "## \"How ecosystems recover ...\" (2018)"
   ]
  },
  {
   "cell_type": "markdown",
   "metadata": {},
   "source": [
    "\"We showed that in large, complex communities, due to the presence\n",
    "of species with very different abundances, asymptotic resilience need not even be a good predictor \n",
    "of return rates at longer times.\"\n",
    "\n",
    "\"[...] asymptotic resilience should not be used as a proxy for the short-term recovery.\"\n",
    "\n",
    "(pg. 8 \"How ecosystems recover[...]\")"
   ]
  },
  {
   "cell_type": "code",
   "execution_count": 63,
   "metadata": {},
   "outputs": [],
   "source": [
    "### Arnoldi  \"How ecosystems recover...\"\n",
    "n = 20 #repeated\n",
    "import scipy as sp # for matrix exponential\n",
    "from scipy.linalg import expm"
   ]
  },
  {
   "cell_type": "code",
   "execution_count": 64,
   "metadata": {},
   "outputs": [],
   "source": [
    "# Return Rates\n",
    "def R_avg(x, t, u):\n",
    "    '''\n",
    "    Average rate of return at current displacement 'x' after time 't' since initial perturbation 'u'\n",
    "    '''\n",
    "    return -( np.log(np.linalg.norm(x,2)) - np.log(np.linalg.norm(u,2))) / t"
   ]
  },
  {
   "cell_type": "code",
   "execution_count": 65,
   "metadata": {},
   "outputs": [],
   "source": [
    "# Arnoldi Appendix E suggests def'n v with v_i std Gaussian, then normalize to u. Why Gaussian?? \n",
    "def u_gen_unif(n):\n",
    "    '''\n",
    "    Generate uniformly distributed unit-length  perturbation vector u.\n",
    "    \n",
    "    The direction is ostensibly the uniformly distributed value.\n",
    "    '''\n",
    "    v = np.random.normal(0,1,n) # so-called 'v' in Arnoldi\n",
    "    return v/np.linalg.norm(u,2) # does this provide uniformly distributed perturbation direction? They say so."
   ]
  },
  {
   "cell_type": "code",
   "execution_count": 66,
   "metadata": {},
   "outputs": [],
   "source": [
    "# Really, according to Arnoldi, perturbations should tend to have greater effect on more abundant species.\n",
    "# This is pretty subjective, I suppose? Is there empirical justification for this 'tendency'?"
   ]
  },
  {
   "cell_type": "code",
   "execution_count": 67,
   "metadata": {},
   "outputs": [],
   "source": [
    "# Perturbation covariance matrix, Cov, for uniform perturbation direction\n",
    "Cov_unif = np.identity(n)/n # for when equilibrium populations not being considered in perturbation distribution"
   ]
  },
  {
   "cell_type": "code",
   "execution_count": 68,
   "metadata": {},
   "outputs": [],
   "source": [
    "# Choose an example system for testing Arnoldi measures\n",
    "n_arn = 5\n",
    "k_arn = 2\n",
    "sig_arn = 1\n",
    "eps = 0.25\n",
    "c = 1\n",
    "I = np.identity(n_arn)*c\n",
    "mu_arn = np.ones(n_arn).reshape(n_arn,1) # important, must be column vector\n",
    "rho_arn = np.ones(n_arn).reshape(n_arn,1)\n",
    "\n",
    "aP_arn = asymPvec(sig_arn,n_arn,k_arn)\n",
    "C_arn = np.identity(n_arn)"
   ]
  },
  {
   "cell_type": "code",
   "execution_count": 69,
   "metadata": {},
   "outputs": [
    {
     "data": {
      "text/plain": [
       "array([[[21.37291],\n",
       "        [21.39909],\n",
       "        [23.45758],\n",
       "        [16.30727],\n",
       "        [ 9.44006]],\n",
       "\n",
       "       [[24.26847],\n",
       "        [16.46217],\n",
       "        [21.93636],\n",
       "        [17.39659],\n",
       "        [20.84921]]])"
      ]
     },
     "execution_count": 69,
     "metadata": {},
     "output_type": "execute_result"
    },
    {
     "data": {
      "text/plain": [
       "array([[[0.05537],\n",
       "        [0.06235],\n",
       "        [0.04888],\n",
       "        [0.07907],\n",
       "        [0.12859]],\n",
       "\n",
       "       [[0.05021],\n",
       "        [0.07179],\n",
       "        [0.0616 ],\n",
       "        [0.07525],\n",
       "        [0.05683]]])"
      ]
     },
     "execution_count": 69,
     "metadata": {},
     "output_type": "execute_result"
    }
   ],
   "source": [
    "R_arn = R_star_gen(C_arn, aP_arn, eps, mu_arn)\n",
    "R_arn\n",
    "S_arn = S_star_gen(C_arn, aP_arn, R_arn, rho_arn)\n",
    "S_arn"
   ]
  },
  {
   "cell_type": "code",
   "execution_count": 70,
   "metadata": {},
   "outputs": [
    {
     "data": {
      "text/plain": [
       "\u001b[1;31mSignature:\u001b[0m \u001b[0mS_star_gen\u001b[0m\u001b[1;33m(\u001b[0m\u001b[0mC\u001b[0m\u001b[1;33m,\u001b[0m \u001b[0mP\u001b[0m\u001b[1;33m,\u001b[0m \u001b[0mR_star\u001b[0m\u001b[1;33m,\u001b[0m \u001b[0mrho\u001b[0m\u001b[1;33m)\u001b[0m\u001b[1;33m\u001b[0m\u001b[1;33m\u001b[0m\u001b[0m\n",
       "\u001b[1;31mDocstring:\u001b[0m <no docstring>\n",
       "\u001b[1;31mFile:\u001b[0m      c:\\users\\riley\\appdata\\local\\temp\\ipykernel_11672\\2300352256.py\n",
       "\u001b[1;31mType:\u001b[0m      function\n"
      ]
     },
     "metadata": {},
     "output_type": "display_data"
    }
   ],
   "source": [
    "S_star_gen?"
   ]
  },
  {
   "cell_type": "code",
   "execution_count": 71,
   "metadata": {},
   "outputs": [],
   "source": [
    "LA  = -c * S_arn * I\n",
    "\n",
    "LB = aP_arn - c * R_arn * I\n",
    "\n",
    "LC = eps * c * S_arn * I\n",
    "LD = np.zeros((k_arn,n_arn, n_arn))\n",
    "\n",
    "L_top = np.concatenate((LA, LB), 2)\n",
    "L_bot = np.concatenate((LC, LD), 2)\n",
    "L_arn  = np.concatenate((L_top,L_bot), 1)"
   ]
  },
  {
   "cell_type": "code",
   "execution_count": null,
   "metadata": {},
   "outputs": [],
   "source": []
  },
  {
   "cell_type": "code",
   "execution_count": 72,
   "metadata": {},
   "outputs": [
    {
     "data": {
      "text/plain": [
       "array([[[21.37291],\n",
       "        [21.39909],\n",
       "        [23.45758],\n",
       "        [16.30727],\n",
       "        [ 9.44006]],\n",
       "\n",
       "       [[24.26847],\n",
       "        [16.46217],\n",
       "        [21.93636],\n",
       "        [17.39659],\n",
       "        [20.84921]]])"
      ]
     },
     "execution_count": 72,
     "metadata": {},
     "output_type": "execute_result"
    }
   ],
   "source": [
    "R_arn"
   ]
  },
  {
   "cell_type": "code",
   "execution_count": 73,
   "metadata": {},
   "outputs": [],
   "source": [
    "RS_star = np.concatenate((R_arn,S_arn), 1) #(k,2*n,1), an example equilibrium\n",
    "RS_star1, RS_star2 = RS_star\n",
    "\n",
    "LAM = np.sum(np.square(RS_star)) #lambda, from Arnoldi Appendix E\n",
    "Cov_prop = np.zeros((k_arn, 2*n_arn, 2*n_arn))\n",
    "di_C = np.diag_indices(2*n_arn)\n",
    "#Below LHS will be (k_arn, n_arn)\n",
    "Cov_prop[:,di_C[0],di_C[1]] = (np.square(RS_star)/LAM).reshape(k_arn,2*n_arn) ### From Arnoldi Appendix E, Covariance matrix when u_i prop. to N*_i"
   ]
  },
  {
   "cell_type": "code",
   "execution_count": 74,
   "metadata": {},
   "outputs": [],
   "source": [
    "#Appendix E says the following:\n",
    "def u_gen_prop(n, Nstar):\n",
    "    ''' \n",
    "    Generate random perturbation 'u' such that u_i proportional to N*_i (population-proportional perturbations).\n",
    "    '''\n",
    "    v = np.random.normal(0,1,2*n).T\n",
    "    D = np.diag(Nstar.reshape(2*n))\n",
    "    w = np.dot(D,v) # really just pairwise multiplication of Nstar and v\n",
    "    u = w/np.linalg.norm(w,2)\n",
    "    return u\n",
    "\n",
    "# This is a more suitable perturbation model: Expectation of u_i proportional to N*_i"
   ]
  },
  {
   "cell_type": "code",
   "execution_count": 75,
   "metadata": {},
   "outputs": [],
   "source": [
    "### Median approximations\n",
    "def disp_median(A,Cov,t): # community matrix A, Covariance matrix Cov, time t\n",
    "    # displacement = ||x(t)||\n",
    "    return np.sqrt(np.trace(expm(A*t)*Cov*expm(A.T*t)))\n",
    "\n",
    "def R_avg_median(A,Cov,t): \n",
    "    '''Median of the average return rates'''\n",
    "    return -(np.log(np.trace(expm(A*t)*Cov*expm(A.T*t))) - np.log(np.trace(Cov))) / (2*t)"
   ]
  },
  {
   "cell_type": "code",
   "execution_count": 76,
   "metadata": {},
   "outputs": [
    {
     "data": {
      "text/plain": [
       "0.549650347953982"
      ]
     },
     "execution_count": 76,
     "metadata": {},
     "output_type": "execute_result"
    },
    {
     "data": {
      "text/plain": [
       "0.21760114661947677"
      ]
     },
     "execution_count": 76,
     "metadata": {},
     "output_type": "execute_result"
    }
   ],
   "source": [
    "disp_med = disp_median(L_arn[0,:,:], Cov_prop[0,:,:], 1)\n",
    "disp_med\n",
    "\n",
    "R_avg_med = R_avg_median(L_arn[0,:,:], Cov_prop[0,:,:], 1)\n",
    "R_avg_med"
   ]
  },
  {
   "cell_type": "code",
   "execution_count": 77,
   "metadata": {},
   "outputs": [],
   "source": [
    "### Return time \n",
    "#c, chosen threshold distance from equilibrium\n",
    "# T(c) = min(t) such that ||x(t+s)|| <= c for all s>=0 #(does not displace back out of threshold once it reaches return time)\n",
    "\n",
    "# This will require a numerical solution"
   ]
  },
  {
   "cell_type": "code",
   "execution_count": 78,
   "metadata": {},
   "outputs": [],
   "source": [
    "### Numerical solution to a simple system\n",
    "# Careful of going back and re-running above blocks, reusing a lot of vars here\n",
    "n_arn = 2\n",
    "k_arn = 1\n",
    "sig_arn = 1\n",
    "eps = 0.25\n",
    "c = 1\n",
    "mu_arn = np.ones(n_arn).reshape(n_arn,1) # important, must be column vector\n",
    "rho_arn = np.ones(n_arn).reshape(n_arn,1)\n",
    "\n",
    "aP_arn = asymPvec(sig_arn,n_arn,k_arn)\n",
    "C_arn = np.identity(n_arn) * c\n",
    "\n",
    "R_arn = R_star_gen(C_arn, aP_arn, eps, mu_arn)\n",
    "S_arn = S_star_gen(C_arn, aP_arn, R_arn, rho_arn)\n",
    "RS_arn = np.concatenate((R_arn,S_arn),1)"
   ]
  },
  {
   "cell_type": "code",
   "execution_count": 79,
   "metadata": {},
   "outputs": [
    {
     "data": {
      "text/plain": [
       "\u001b[1;31mSignature:\u001b[0m \u001b[0mR_star_gen\u001b[0m\u001b[1;33m(\u001b[0m\u001b[0mC\u001b[0m\u001b[1;33m,\u001b[0m \u001b[0mP\u001b[0m\u001b[1;33m,\u001b[0m \u001b[0meps\u001b[0m\u001b[1;33m,\u001b[0m \u001b[0mmu\u001b[0m\u001b[1;33m)\u001b[0m\u001b[1;33m\u001b[0m\u001b[1;33m\u001b[0m\u001b[0m\n",
       "\u001b[1;31mDocstring:\u001b[0m\n",
       "..math::\n",
       "    $\\vec{R^*} = (C^T)^{-1}\\frac{1}{\\epsilon}(P^T \\vec{1} + \\vec{\\mu})$\n",
       "\n",
       "Generates stack of steady state vectors R_star, where 0th dimension selects the sub-P to which \n",
       "that particular R_star corresponds (i.e. R_star is the equilibrium for the Jacobian formed with that sub-p).\n",
       "\n",
       "No argument for number of sub-R_stars because that is inferred from 0th dimension of P argument.\n",
       "\u001b[1;31mFile:\u001b[0m      c:\\users\\riley\\appdata\\local\\temp\\ipykernel_11672\\401698696.py\n",
       "\u001b[1;31mType:\u001b[0m      function\n"
      ]
     },
     "metadata": {},
     "output_type": "display_data"
    }
   ],
   "source": [
    "R_star_gen?"
   ]
  },
  {
   "cell_type": "code",
   "execution_count": 80,
   "metadata": {},
   "outputs": [
    {
     "data": {
      "text/plain": [
       "array([[[10.67441],\n",
       "        [ 7.44102],\n",
       "        [ 0.11091],\n",
       "        [ 0.15213]]])"
      ]
     },
     "execution_count": 80,
     "metadata": {},
     "output_type": "execute_result"
    }
   ],
   "source": [
    "RS_arn"
   ]
  },
  {
   "cell_type": "code",
   "execution_count": 81,
   "metadata": {},
   "outputs": [
    {
     "data": {
      "text/plain": [
       "1.0"
      ]
     },
     "execution_count": 81,
     "metadata": {},
     "output_type": "execute_result"
    }
   ],
   "source": [
    "u_ex = u_gen_prop(n_arn,RS_arn.reshape(4))\n",
    "np.linalg.norm(u_ex,2) #cool?"
   ]
  },
  {
   "cell_type": "code",
   "execution_count": 82,
   "metadata": {},
   "outputs": [
    {
     "data": {
      "text/plain": [
       "array([ 0.74788, -0.66362,  0.00403, -0.01616])"
      ]
     },
     "execution_count": 82,
     "metadata": {},
     "output_type": "execute_result"
    }
   ],
   "source": [
    "u_ex"
   ]
  },
  {
   "cell_type": "code",
   "execution_count": 83,
   "metadata": {},
   "outputs": [],
   "source": [
    "# Just working with one example system, can get rid of \"Stacking\" for simplicity\n",
    "aP_arn = aP_arn.reshape(n_arn,n_arn)\n",
    "RS_arn = RS_arn.reshape(2*n_arn,1)"
   ]
  },
  {
   "cell_type": "code",
   "execution_count": 84,
   "metadata": {},
   "outputs": [
    {
     "data": {
      "text/plain": [
       "array([[1.2041 , 0.33129],\n",
       "       [0.4645 , 0.52897]])"
      ]
     },
     "execution_count": 84,
     "metadata": {},
     "output_type": "execute_result"
    },
    {
     "data": {
      "text/plain": [
       "array([[10.67441],\n",
       "       [ 7.44102],\n",
       "       [ 0.11091],\n",
       "       [ 0.15213]])"
      ]
     },
     "execution_count": 84,
     "metadata": {},
     "output_type": "execute_result"
    }
   ],
   "source": [
    "aP_arn\n",
    "RS_arn"
   ]
  },
  {
   "cell_type": "code",
   "execution_count": 85,
   "metadata": {},
   "outputs": [],
   "source": [
    "# Start with simple n=2 system for convenience starting out\n",
    "def ResrcProd(N, t, C, P, mu, rho, eps): # why t? Unused\n",
    "\n",
    "    R0, R1, S0, S1 = N # Ok, Resources are much more abundant\n",
    "\n",
    "    dNdt = [rho[0]-R0*(C[0,0]*S0 + C[0,1]*S1) + P[0,0]*S0 + P[0,1]*S1,\n",
    "            rho[1]-R1*(C[1,0]*S0 + C[1,1]*S1) + P[1,0]*S0 + P[1,1]*S1,\n",
    "            eps*S0*( (C.T)[0,0]*R0 + (C.T)[0,1]*R1 ) - S0*((P.T)[0,0] + (P.T)[0,1]) - mu[0]*S0,\n",
    "            eps*S1*( (C.T)[1,0]*R0 + (C.T)[1,1]*R1 ) - S1*((P.T)[1,0] + (P.T)[1,1]) - mu[1]*S1\n",
    "           ]\n",
    "\n",
    "    return dNdt"
   ]
  },
  {
   "cell_type": "code",
   "execution_count": 86,
   "metadata": {},
   "outputs": [],
   "source": [
    "step = ResrcProd(list(RS_arn.reshape(2*n_arn)), 1, C_arn, aP_arn, list(mu_arn.reshape(2)), list(rho_arn.reshape(2)), eps)"
   ]
  },
  {
   "cell_type": "code",
   "execution_count": 87,
   "metadata": {},
   "outputs": [
    {
     "data": {
      "text/plain": [
       "[4.163336342344337e-17, -8.326672684688674e-17, 2.7755575615628914e-17, 0.0]"
      ]
     },
     "execution_count": 87,
     "metadata": {},
     "output_type": "execute_result"
    },
    {
     "data": {
      "text/plain": [
       "4"
      ]
     },
     "execution_count": 87,
     "metadata": {},
     "output_type": "execute_result"
    }
   ],
   "source": [
    "step\n",
    "len(step)"
   ]
  },
  {
   "cell_type": "code",
   "execution_count": 88,
   "metadata": {},
   "outputs": [],
   "source": [
    "from scipy.integrate import odeint\n",
    "import pandas as pd # once we start numerical solutions, might make sense to switch to dataframes"
   ]
  },
  {
   "cell_type": "code",
   "execution_count": 89,
   "metadata": {},
   "outputs": [
    {
     "data": {
      "text/plain": [
       "array([[10.67441],\n",
       "       [ 7.44102],\n",
       "       [ 0.11091],\n",
       "       [ 0.15213]])"
      ]
     },
     "execution_count": 89,
     "metadata": {},
     "output_type": "execute_result"
    },
    {
     "data": {
      "text/plain": [
       "1.0"
      ]
     },
     "execution_count": 89,
     "metadata": {},
     "output_type": "execute_result"
    },
    {
     "data": {
      "text/plain": [
       "array([-0.78655, -0.61727, -0.01486, -0.00945])"
      ]
     },
     "execution_count": 89,
     "metadata": {},
     "output_type": "execute_result"
    }
   ],
   "source": [
    "# Numerical solution for (2,2) system\n",
    "\n",
    "t = np.linspace(0, 100, 1001) # time to simulate\n",
    "RS_arn\n",
    "u_2 = u_gen_prop(n_arn,RS_arn)\n",
    "np.linalg.norm(u_2,2) # works\n",
    "u_2 # proportions look good\n",
    "\n"
   ]
  },
  {
   "cell_type": "code",
   "execution_count": 90,
   "metadata": {},
   "outputs": [
    {
     "data": {
      "text/plain": [
       "array([-0.78655, -0.61727, -0.01486, -0.00945])"
      ]
     },
     "execution_count": 90,
     "metadata": {},
     "output_type": "execute_result"
    },
    {
     "data": {
      "text/plain": [
       "array([[10.67441],\n",
       "       [ 7.44102],\n",
       "       [ 0.11091],\n",
       "       [ 0.15213]])"
      ]
     },
     "execution_count": 90,
     "metadata": {},
     "output_type": "execute_result"
    },
    {
     "data": {
      "text/plain": [
       "[9.887859866983442,\n",
       " 6.823744437636767,\n",
       " 0.09605493773474132,\n",
       " 0.14268205256086416]"
      ]
     },
     "execution_count": 90,
     "metadata": {},
     "output_type": "execute_result"
    }
   ],
   "source": [
    "init_cond = list(u_2+RS_arn.reshape(2*n_arn))\n",
    "u_2\n",
    "RS_arn\n",
    "init_cond"
   ]
  },
  {
   "cell_type": "code",
   "execution_count": 91,
   "metadata": {},
   "outputs": [],
   "source": [
    "sol = odeint(ResrcProd, init_cond, t, args=(C_arn, aP_arn.reshape(2,2), list(mu_arn.reshape(2)), list(rho_arn.reshape(2)), eps))"
   ]
  },
  {
   "cell_type": "code",
   "execution_count": 92,
   "metadata": {},
   "outputs": [
    {
     "data": {
      "text/plain": [
       "(1001, 4)"
      ]
     },
     "execution_count": 92,
     "metadata": {},
     "output_type": "execute_result"
    }
   ],
   "source": [
    "sol.shape\n",
    "sol = np.array(sol)"
   ]
  },
  {
   "cell_type": "code",
   "execution_count": 93,
   "metadata": {},
   "outputs": [
    {
     "data": {
      "image/png": "[encoded data removed]",
      "text/plain": [
       "<Figure size 432x288 with 1 Axes>"
      ]
     },
     "metadata": {
      "needs_background": "light"
     },
     "output_type": "display_data"
    }
   ],
   "source": [
    "plt.plot(t, sol[:,0], 'r', label = 'R0');\n",
    "plt.plot(t, sol[:,1],'b', label = 'R1');\n",
    "plt.plot(t, sol[:,2],'r--', label = 'S0');\n",
    "plt.plot(t, sol[:,3],'b--', label = 'S1');\n",
    "plt.legend();\n",
    "\n",
    "plt.title('2-resource, 2-species asymmetric system')\n",
    "plt.xlabel('Time, t');\n",
    "plt.ylabel('Abundance');"
   ]
  },
  {
   "cell_type": "code",
   "execution_count": 94,
   "metadata": {},
   "outputs": [
    {
     "data": {
      "image/png": "[encoded data removed]",
      "text/plain": [
       "<Figure size 432x288 with 1 Axes>"
      ]
     },
     "metadata": {
      "needs_background": "light"
     },
     "output_type": "display_data"
    }
   ],
   "source": [
    "# giving the little guys a chance\n",
    "plt.plot(t, sol[:,2],'r--', label = 'S0');\n",
    "plt.plot(t, sol[:,3],'b--', label = 'S1');\n",
    "plt.legend();\n"
   ]
  },
  {
   "cell_type": "code",
   "execution_count": 97,
   "metadata": {},
   "outputs": [
    {
     "data": {
      "text/plain": [
       "[<matplotlib.lines.Line2D at 0x1b322e23640>]"
      ]
     },
     "execution_count": 97,
     "metadata": {},
     "output_type": "execute_result"
    },
    {
     "data": {
      "text/plain": [
       "Text(0.5, 1.0, 'Phase Plane, S0 vs. S1')"
      ]
     },
     "execution_count": 97,
     "metadata": {},
     "output_type": "execute_result"
    },
    {
     "data": {
      "image/png": "[encoded data removed]",
      "text/plain": [
       "<Figure size 432x288 with 1 Axes>"
      ]
     },
     "metadata": {
      "needs_background": "light"
     },
     "output_type": "display_data"
    }
   ],
   "source": [
    "plt.plot(sol[:,2], sol[:,3], 'g');\n",
    "plt.title('Phase Plane, S0 vs. S1');"
   ]
  },
  {
   "cell_type": "code",
   "execution_count": null,
   "metadata": {},
   "outputs": [],
   "source": [
    "### NEXT STEPS FOR ARNOLDI TOOLS:\n",
    "    ### Pick a threshold for the oscillations such that settles in ..."
   ]
  },
  {
   "cell_type": "code",
   "execution_count": 64,
   "metadata": {},
   "outputs": [
    {
     "data": {
      "text/plain": [
       "array([[ 9.95217],\n",
       "       [11.20718],\n",
       "       [ 0.11446],\n",
       "       [ 0.10963]])"
      ]
     },
     "execution_count": 64,
     "metadata": {},
     "output_type": "execute_result"
    },
    {
     "data": {
      "text/plain": [
       "array([[10.55582, 10.41076,  0.12575,  0.1442 ],\n",
       "       [10.53949, 10.38956,  0.12764,  0.14132],\n",
       "       [10.52122, 10.37158,  0.12949,  0.13843],\n",
       "       ...,\n",
       "       [ 9.95258, 11.20891,  0.11442,  0.10982],\n",
       "       [ 9.95264, 11.20869,  0.11442,  0.10983],\n",
       "       [ 9.95269, 11.20847,  0.11442,  0.10983]])"
      ]
     },
     "execution_count": 64,
     "metadata": {},
     "output_type": "execute_result"
    }
   ],
   "source": [
    "RS_arn\n",
    "sol"
   ]
  },
  {
   "cell_type": "code",
   "execution_count": 65,
   "metadata": {},
   "outputs": [
    {
     "data": {
      "text/plain": [
       "array([[ 9.95217],\n",
       "       [11.20718],\n",
       "       [ 0.11446],\n",
       "       [ 0.10963]])"
      ]
     },
     "execution_count": 65,
     "metadata": {},
     "output_type": "execute_result"
    }
   ],
   "source": [
    "RS_arn"
   ]
  },
  {
   "cell_type": "code",
   "execution_count": 418,
   "metadata": {},
   "outputs": [
    {
     "data": {
      "text/plain": [
       "array([[ 6.80554e+00,  1.80939e+01,  1.45924e-01,  6.91107e-02],\n",
       "       [ 6.69233e+00,  1.79805e+01,  5.99962e-02, -1.16109e-02],\n",
       "       [ 6.56440e+00,  1.78498e+01, -1.30474e-02, -6.33053e-02],\n",
       "       [ 6.42837e+00,  1.77091e+01, -7.56427e-02, -9.67523e-02],\n",
       "       [ 6.28896e+00,  1.75628e+01, -1.29777e-01, -1.18714e-01],\n",
       "       [ 6.14953e+00,  1.74138e+01, -1.77051e-01, -1.33430e-01],\n",
       "       [ 6.01244e+00,  1.72640e+01, -2.18750e-01, -1.43564e-01],\n",
       "       [ 5.87937e+00,  1.71143e+01, -2.55895e-01, -1.50790e-01],\n",
       "       [ 5.75148e+00,  1.69656e+01, -2.89300e-01, -1.56166e-01],\n",
       "       [ 5.62956e+00,  1.68184e+01, -3.19610e-01, -1.60361e-01],\n",
       "       [ 5.51410e+00,  1.66729e+01, -3.47336e-01, -1.63800e-01],\n",
       "       [ 5.40540e+00,  1.65294e+01, -3.72885e-01, -1.66753e-01],\n",
       "       [ 5.30360e+00,  1.63881e+01, -3.96577e-01, -1.69393e-01],\n",
       "       [ 5.20871e+00,  1.62489e+01, -4.18664e-01, -1.71830e-01],\n",
       "       [ 5.12067e+00,  1.61121e+01, -4.39348e-01, -1.74134e-01],\n",
       "       [ 5.03933e+00,  1.59777e+01, -4.58786e-01, -1.76352e-01],\n",
       "       [ 4.96449e+00,  1.58457e+01, -4.77102e-01, -1.78511e-01],\n",
       "       [ 4.89590e+00,  1.57163e+01, -4.94396e-01, -1.80631e-01],\n",
       "       [ 4.83329e+00,  1.55893e+01, -5.10745e-01, -1.82722e-01],\n",
       "       [ 4.77637e+00,  1.54649e+01, -5.26210e-01, -1.84793e-01],\n",
       "       [ 4.72483e+00,  1.53430e+01, -5.40843e-01, -1.86846e-01],\n",
       "       [ 4.67833e+00,  1.52237e+01, -5.54683e-01, -1.88884e-01],\n",
       "       [ 4.63655e+00,  1.51070e+01, -5.67764e-01, -1.90908e-01],\n",
       "       [ 4.59917e+00,  1.49929e+01, -5.80116e-01, -1.92919e-01],\n",
       "       [ 4.56585e+00,  1.48814e+01, -5.91764e-01, -1.94916e-01],\n",
       "       [ 4.53627e+00,  1.47725e+01, -6.02731e-01, -1.96898e-01],\n",
       "       [ 4.51013e+00,  1.46663e+01, -6.13040e-01, -1.98865e-01],\n",
       "       [ 4.48713e+00,  1.45626e+01, -6.22712e-01, -2.00816e-01],\n",
       "       [ 4.46697e+00,  1.44615e+01, -6.31770e-01, -2.02748e-01],\n",
       "       [ 4.44938e+00,  1.43630e+01, -6.40234e-01, -2.04662e-01],\n",
       "       [ 4.43412e+00,  1.42671e+01, -6.48126e-01, -2.06556e-01],\n",
       "       [ 4.42092e+00,  1.41738e+01, -6.55471e-01, -2.08429e-01],\n",
       "       [ 4.40957e+00,  1.40830e+01, -6.62290e-01, -2.10280e-01],\n",
       "       [ 4.39986e+00,  1.39947e+01, -6.68608e-01, -2.12107e-01],\n",
       "       [ 4.39159e+00,  1.39090e+01, -6.74449e-01, -2.13909e-01],\n",
       "       [ 4.38460e+00,  1.38257e+01, -6.79838e-01, -2.15686e-01],\n",
       "       [ 4.37870e+00,  1.37449e+01, -6.84799e-01, -2.17437e-01],\n",
       "       [ 4.37377e+00,  1.36665e+01, -6.89356e-01, -2.19159e-01],\n",
       "       [ 4.36966e+00,  1.35904e+01, -6.93535e-01, -2.20854e-01],\n",
       "       [ 4.36625e+00,  1.35168e+01, -6.97359e-01, -2.22519e-01],\n",
       "       [ 4.36345e+00,  1.34454e+01, -7.00852e-01, -2.24153e-01],\n",
       "       [ 4.36115e+00,  1.33764e+01, -7.04037e-01, -2.25758e-01],\n",
       "       [ 4.35928e+00,  1.33095e+01, -7.06937e-01, -2.27330e-01],\n",
       "       [ 4.35775e+00,  1.32449e+01, -7.09574e-01, -2.28871e-01],\n",
       "       [ 4.35651e+00,  1.31824e+01, -7.11967e-01, -2.30379e-01],\n",
       "       [ 4.35550e+00,  1.31221e+01, -7.14137e-01, -2.31855e-01],\n",
       "       [ 4.35467e+00,  1.30638e+01, -7.16103e-01, -2.33297e-01],\n",
       "       [ 4.35399e+00,  1.30076e+01, -7.17882e-01, -2.34706e-01],\n",
       "       [ 4.35340e+00,  1.29533e+01, -7.19491e-01, -2.36081e-01],\n",
       "       [ 4.35290e+00,  1.29010e+01, -7.20946e-01, -2.37422e-01],\n",
       "       [ 4.35245e+00,  1.28505e+01, -7.22261e-01, -2.38729e-01],\n",
       "       [ 4.35203e+00,  1.28019e+01, -7.23450e-01, -2.40002e-01],\n",
       "       [ 4.35162e+00,  1.27551e+01, -7.24525e-01, -2.41241e-01],\n",
       "       [ 4.35122e+00,  1.27100e+01, -7.25498e-01, -2.42446e-01],\n",
       "       [ 4.35081e+00,  1.26666e+01, -7.26379e-01, -2.43618e-01],\n",
       "       [ 4.35038e+00,  1.26248e+01, -7.27179e-01, -2.44756e-01],\n",
       "       [ 4.34994e+00,  1.25846e+01, -7.27905e-01, -2.45861e-01],\n",
       "       [ 4.34947e+00,  1.25460e+01, -7.28567e-01, -2.46933e-01],\n",
       "       [ 4.34897e+00,  1.25089e+01, -7.29171e-01, -2.47973e-01],\n",
       "       [ 4.34845e+00,  1.24732e+01, -7.29724e-01, -2.48980e-01],\n",
       "       [ 4.34790e+00,  1.24390e+01, -7.30231e-01, -2.49956e-01],\n",
       "       [ 4.34732e+00,  1.24061e+01, -7.30698e-01, -2.50901e-01],\n",
       "       [ 4.34671e+00,  1.23745e+01, -7.31131e-01, -2.51814e-01],\n",
       "       [ 4.34608e+00,  1.23441e+01, -7.31532e-01, -2.52698e-01],\n",
       "       [ 4.34543e+00,  1.23151e+01, -7.31905e-01, -2.53552e-01],\n",
       "       [ 4.34476e+00,  1.22872e+01, -7.32255e-01, -2.54377e-01],\n",
       "       [ 4.34407e+00,  1.22604e+01, -7.32583e-01, -2.55173e-01],\n",
       "       [ 4.34337e+00,  1.22347e+01, -7.32893e-01, -2.55942e-01],\n",
       "       [ 4.34266e+00,  1.22101e+01, -7.33186e-01, -2.56684e-01],\n",
       "       [ 4.34194e+00,  1.21866e+01, -7.33465e-01, -2.57399e-01],\n",
       "       [ 4.34122e+00,  1.21640e+01, -7.33730e-01, -2.58088e-01],\n",
       "       [ 4.34049e+00,  1.21423e+01, -7.33984e-01, -2.58752e-01],\n",
       "       [ 4.33977e+00,  1.21216e+01, -7.34228e-01, -2.59391e-01],\n",
       "       [ 4.33904e+00,  1.21018e+01, -7.34463e-01, -2.60007e-01],\n",
       "       [ 4.33832e+00,  1.20828e+01, -7.34689e-01, -2.60599e-01],\n",
       "       [ 4.33761e+00,  1.20646e+01, -7.34908e-01, -2.61169e-01],\n",
       "       [ 4.33690e+00,  1.20472e+01, -7.35119e-01, -2.61717e-01],\n",
       "       [ 4.33620e+00,  1.20305e+01, -7.35325e-01, -2.62244e-01],\n",
       "       [ 4.33552e+00,  1.20146e+01, -7.35524e-01, -2.62750e-01],\n",
       "       [ 4.33484e+00,  1.19993e+01, -7.35717e-01, -2.63236e-01],\n",
       "       [ 4.33419e+00,  1.19847e+01, -7.35905e-01, -2.63703e-01],\n",
       "       [ 4.33354e+00,  1.19708e+01, -7.36088e-01, -2.64152e-01],\n",
       "       [ 4.33291e+00,  1.19574e+01, -7.36267e-01, -2.64582e-01],\n",
       "       [ 4.33230e+00,  1.19447e+01, -7.36440e-01, -2.64995e-01],\n",
       "       [ 4.33171e+00,  1.19325e+01, -7.36609e-01, -2.65392e-01],\n",
       "       [ 4.33113e+00,  1.19208e+01, -7.36773e-01, -2.65772e-01],\n",
       "       [ 4.33057e+00,  1.19096e+01, -7.36933e-01, -2.66136e-01],\n",
       "       [ 4.33003e+00,  1.18990e+01, -7.37088e-01, -2.66486e-01],\n",
       "       [ 4.32950e+00,  1.18888e+01, -7.37239e-01, -2.66821e-01],\n",
       "       [ 4.32900e+00,  1.18791e+01, -7.37386e-01, -2.67142e-01],\n",
       "       [ 4.32851e+00,  1.18698e+01, -7.37529e-01, -2.67449e-01],\n",
       "       [ 4.32804e+00,  1.18609e+01, -7.37667e-01, -2.67744e-01],\n",
       "       [ 4.32759e+00,  1.18524e+01, -7.37802e-01, -2.68026e-01],\n",
       "       [ 4.32715e+00,  1.18443e+01, -7.37932e-01, -2.68296e-01],\n",
       "       [ 4.32673e+00,  1.18365e+01, -7.38059e-01, -2.68554e-01],\n",
       "       [ 4.32633e+00,  1.18291e+01, -7.38181e-01, -2.68802e-01],\n",
       "       [ 4.32594e+00,  1.18221e+01, -7.38299e-01, -2.69039e-01],\n",
       "       [ 4.32557e+00,  1.18153e+01, -7.38414e-01, -2.69266e-01],\n",
       "       [ 4.32522e+00,  1.18089e+01, -7.38525e-01, -2.69482e-01],\n",
       "       [ 4.32488e+00,  1.18027e+01, -7.38632e-01, -2.69690e-01],\n",
       "       [ 4.32455e+00,  1.17968e+01, -7.38735e-01, -2.69888e-01]])"
      ]
     },
     "execution_count": 418,
     "metadata": {},
     "output_type": "execute_result"
    }
   ],
   "source": [
    "sol_xs = np.tile(RS_arn.reshape(4), (len(t), 1)) - sol # running difference between each state variable and its respective equilibrium\n",
    "sol_xs"
   ]
  },
  {
   "cell_type": "code",
   "execution_count": 406,
   "metadata": {},
   "outputs": [
    {
     "ename": "NameError",
     "evalue": "name 'disps' is not defined",
     "output_type": "error",
     "traceback": [
      "\u001b[1;31m---------------------------------------------------------------------------\u001b[0m",
      "\u001b[1;31mNameError\u001b[0m                                 Traceback (most recent call last)",
      "\u001b[1;32m~\\AppData\\Local\\Temp/ipykernel_10768/214870843.py\u001b[0m in \u001b[0;36m<module>\u001b[1;34m\u001b[0m\n\u001b[1;32m----> 1\u001b[1;33m \u001b[0mdisps\u001b[0m\u001b[1;33m\u001b[0m\u001b[1;33m\u001b[0m\u001b[0m\n\u001b[0m",
      "\u001b[1;31mNameError\u001b[0m: name 'disps' is not defined"
     ]
    }
   ],
   "source": []
  },
  {
   "cell_type": "code",
   "execution_count": 402,
   "metadata": {},
   "outputs": [],
   "source": [
    "# plt.plot(t, sol[:,0], 'r', sol[:,1],'b', sol[:,2],'r--', sol[:,3],'b--');"
   ]
  },
  {
   "cell_type": "code",
   "execution_count": null,
   "metadata": {},
   "outputs": [],
   "source": [
    "######################################\n",
    "######## Back to O'Dwyer Plots #######\n",
    "######################################"
   ]
  },
  {
   "cell_type": "code",
   "execution_count": 132,
   "metadata": {},
   "outputs": [
    {
     "data": {
      "image/png": "[encoded data removed]",
      "text/plain": [
       "<Figure size 432x288 with 1 Axes>"
      ]
     },
     "metadata": {
      "needs_background": "light"
     },
     "output_type": "display_data"
    },
    {
     "data": {
      "image/png": "[encoded data removed]",
      "text/plain": [
       "<Figure size 432x288 with 1 Axes>"
      ]
     },
     "metadata": {
      "needs_background": "light"
     },
     "output_type": "display_data"
    }
   ],
   "source": [
    "### Plot Grid Representing Production Matrix P ###\n",
    "\n",
    "for i, M in enumerate([sP, aP]):\n",
    "    \n",
    "    c_map = mpl.colors.LinearSegmentedColormap.from_list('my_colormap',\n",
    "                                               ['white', 'green'],\n",
    "                                               256)\n",
    "    plt.rcParams[\"axes.edgecolor\"] = \"black\"\n",
    "    plt.rcParams[\"axes.linewidth\"] = 1\n",
    "\n",
    "    fig, ax = plt.subplots()\n",
    "\n",
    "    img = plt.imshow(M, interpolation='nearest',\n",
    "                    cmap=c_map)\n",
    "\n",
    "    ax.xaxis.set_major_formatter(plt.NullFormatter())\n",
    "    ax.yaxis.set_major_formatter(plt.NullFormatter())\n",
    "    plt.tick_params(axis = 'both',          \n",
    "                    which = 'both',      \n",
    "                    bottom = 'off',      \n",
    "                    top = 'off',         \n",
    "                    labelbottom = 'off',\n",
    "                    left = 'off',\n",
    "                    right = 'off')\n",
    "\n",
    "    ax.grid(False)\n",
    "plt.show();"
   ]
  },
  {
   "cell_type": "code",
   "execution_count": 133,
   "metadata": {},
   "outputs": [
    {
     "data": {
      "image/png": "[encoded data removed]",
      "text/plain": [
       "<Figure size 432x288 with 1 Axes>"
      ]
     },
     "metadata": {
      "needs_background": "light"
     },
     "output_type": "display_data"
    }
   ],
   "source": [
    "### Plot grid representing consumption C ###\n",
    "\n",
    "C = c*I\n",
    "\n",
    "for M in [C]:\n",
    "    c_map = mpl.colors.LinearSegmentedColormap.from_list('my_colormap',\n",
    "                                               ['white', 'navy'],\n",
    "                                               256)\n",
    "    plt.rcParams[\"axes.edgecolor\"] = \"black\"\n",
    "    plt.rcParams[\"axes.linewidth\"] = 1\n",
    "\n",
    "    fig, ax = plt.subplots()\n",
    "\n",
    "    img = plt.imshow(M, interpolation='nearest',\n",
    "                        cmap=c_map)\n",
    "\n",
    "\n",
    "    ax.xaxis.set_major_formatter(plt.NullFormatter())\n",
    "    ax.yaxis.set_major_formatter(plt.NullFormatter())\n",
    "    plt.tick_params(axis='both',          \n",
    "                    which='both',      \n",
    "                    bottom='off',      \n",
    "                    top='off',         \n",
    "                    labelbottom='off',\n",
    "                    left='off',\n",
    "                    right='off')\n",
    "\n",
    "    ax.grid(False)\n"
   ]
  },
  {
   "cell_type": "code",
   "execution_count": null,
   "metadata": {},
   "outputs": [],
   "source": [
    "### Diversity Indices\n",
    "\n",
    "#def alpha_???(N): # population vector N\n",
    "    "
   ]
  }
 ],
 "metadata": {
  "kernelspec": {
   "display_name": "Python 3 (ipykernel)",
   "language": "python",
   "name": "python3"
  },
  "language_info": {
   "codemirror_mode": {
    "name": "ipython",
    "version": 3
   },
   "file_extension": ".py",
   "mimetype": "text/x-python",
   "name": "python",
   "nbconvert_exporter": "python",
   "pygments_lexer": "ipython3",
   "version": "3.9.7"
  }
 },
 "nbformat": 4,
 "nbformat_minor": 4
}
