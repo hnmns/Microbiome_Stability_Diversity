{
 "cells": [
  {
   "cell_type": "code",
   "execution_count": 28,
   "metadata": {},
   "outputs": [],
   "source": [
    "###############################################################\n",
    "#\n",
    "# Consumer-Resource model with production.\n",
    "# Produces eigenvalue plots for symmetric and asymmetric P\n",
    "# matrices.\n",
    "# Each resource density = r\n",
    "# Each species abundance = s\n",
    "# Consumption matrix C = c*I  ### Completely specialized\n",
    "#\n",
    "################################################################\n",
    "\n",
    "### RK Edits usually come after single '###'"
   ]
  },
  {
   "cell_type": "code",
   "execution_count": 1,
   "metadata": {},
   "outputs": [],
   "source": [
    "import numpy as np\n",
    "from numpy.random import normal, uniform\n",
    "from numpy.linalg import eigvals\n",
    "import math as mt\n",
    "\n",
    "from IPython.core.interactiveshell import InteractiveShell\n",
    "InteractiveShell.ast_node_interactivity = \"all\"     \n",
    "\n",
    "import matplotlib as mpl\n",
    "import matplotlib.pyplot as plt\n",
    "import matplotlib.ticker as plticker\n",
    "\n",
    "%matplotlib inline\n",
    "\n",
    "np.set_printoptions(precision=5)"
   ]
  },
  {
   "cell_type": "code",
   "execution_count": null,
   "metadata": {},
   "outputs": [],
   "source": [
    "## Asymmetric P matrix ##\n",
    "\n",
    "def asymP(sig, n):\n",
    "\n",
    "    return abs(normal(0, sig, (n, n))) ### \"doubling-up\" prob density by taking abs(normally distributed)???\n",
    "                                        ### another distribution, but on the positive reals?"
   ]
  },
  {
   "cell_type": "code",
   "execution_count": null,
   "metadata": {},
   "outputs": [],
   "source": [
    "## Symmetric P matrix ##\n",
    "\n",
    "def symP(sig, n):\n",
    "    \n",
    "    P = np.empty((n, n))\n",
    "    for i in range(n):\n",
    "        for j in range(i + 1):\n",
    "            P[j][i] = P[i][j] = abs(normal(0, sig))\n",
    "    \n",
    "    return P"
   ]
  },
  {
   "cell_type": "code",
   "execution_count": null,
   "metadata": {},
   "outputs": [],
   "source": []
  },
  {
   "cell_type": "code",
   "execution_count": null,
   "metadata": {},
   "outputs": [],
   "source": [
    "### Vectorized Asymmetric P matrix\n",
    "def asymPvec(sig, n, k=1):\n",
    "    return abs(normal(0, sig, (k, n, n))) # again, a half-normal with mean=1"
   ]
  },
  {
   "cell_type": "code",
   "execution_count": 4,
   "metadata": {},
   "outputs": [],
   "source": [
    "### Vectorized Symmetric P matrix\n",
    "def symPvec(sig, n, k=1): # k, number of matrices to generate\n",
    "    P = abs(normal(0,sig,(k,n,n)))\n",
    "    P = np.maximum(P,np.transpose(P,(0,2,1))) #transpose each sub-P (only transpose last two dimensions)\n",
    "    ### Is max an issue? Favors less probable p-values, I guess. Not QUITE normally dist'd \n",
    "                            ### after abs and this maximum. Effectively increases sigma?\n",
    "    \n",
    "    return P"
   ]
  },
  {
   "cell_type": "code",
   "execution_count": 6,
   "metadata": {},
   "outputs": [],
   "source": [
    "def symPvec2(sig,n,k=1): ### This way does not use max, but slightly slower than symPvec\n",
    "    P = abs(normal(0,sig,(k,n,n)))\n",
    "    inds = np.tril_indices(n, k=-1)\n",
    "    P[:,inds[1],inds[0]] = P[:,inds[0],inds[1]]\n",
    "    \n",
    "    return P"
   ]
  },
  {
   "cell_type": "code",
   "execution_count": 26,
   "metadata": {},
   "outputs": [],
   "source": [
    "# p = symPvec(1,4,2)\n",
    "# p.shape\n",
    "# p == np.transpose(p,(0,2,1)) # Vectorized P-generator works\n",
    "\n",
    "# p = symPvec2(1,4,2)\n",
    "# p == np.transpose(p,(0,2,1)) # other one also works\n"
   ]
  },
  {
   "cell_type": "code",
   "execution_count": 12,
   "metadata": {},
   "outputs": [],
   "source": [
    "### Original O'Dwyer method for determining stability\n",
    "   # Fix a symmetric P, sP, and an asymmetric P, aP.\n",
    "    # Pick uniform-random equilibria r and s, where unif bounds are chosen to guarantee positive mu and rho\n",
    "        #mu and rho are only implicit in r and s, could be calculated from Eq 6? in Appendix\n",
    "     # Evaluate Jacobian at r and s at each P, append eigenvalues\n",
    "    \n",
    "\n",
    "sev = np.array([])\n",
    "aev = np.array([]) \n",
    "\n",
    "## Parameters ##\n",
    "\n",
    "n   = 20      # number of species AND number of resrcs\n",
    "eps = 0.25    # efficiency, WHY SAME FOR EACH SPECIES, scales consumption\n",
    "sig = 1       # std deviation of production rates? Yes, also for abundances?\n",
    "c   = 1       # equal consumption rate, WHY SAME FOR EACH SPECIES\n",
    "\n",
    "### SEE METHODS FOR mu AND rho\n",
    "\n",
    "I = np.identity(n)\n",
    "\n",
    "## Consumption Matrix ##\n",
    "\n",
    "C = c * I\n",
    "\n",
    "## Production matrices ##\n",
    "\n",
    "sP = symP(sig, n)\n",
    "aP = asymP(sig, n)\n",
    "#sPvec = symPvec(sig, n)\n",
    "\n",
    "rlb = n * sig * mt.sqrt(2 / mt.pi) / (c * eps) # mu and rho are hidden, i.e. some choice of those vector\n",
    "                                                #produces this equilibrium\n",
    "\n",
    "\n",
    "for k in range(5000): ### originally 5000\n",
    "    ## Abundances ##\n",
    "    \n",
    "    r = uniform(rlb, 10 * rlb)           ### varying the densities at which Jacobian is evaluated\n",
    "    s = uniform(rlb / 10**4, rlb / 1000)\n",
    "    \n",
    "    ## Linearized System ##\n",
    "       ### Jacobian, L, eval'd at steady state\n",
    "    #     [ LA | aLB]\n",
    "    #aL = [---------]\n",
    "    #     [ LC | LD ]\n",
    "    LA  = -c * s * I\n",
    "    \n",
    "    sLB = sP - c * r * I ### the only partitions that differ between symmetric and asymmetric Production models\n",
    "    aLB = aP - c * r * I\n",
    "\n",
    "    LC = eps * c * s * I\n",
    "    LD = np.zeros((n, n)) # DON'T REEVALUATE EVERY ITERATION\n",
    "\n",
    "    sL  = np.vstack((np.hstack((LA, sLB)), np.hstack((LC, LD))))\n",
    "    aL  = np.vstack((np.hstack((LA, aLB)), np.hstack((LC, LD))))\n",
    "    \n",
    "    ## Eigenvalues of Linearized System ##\n",
    "    \n",
    "    sev = np.append(sev, eigvals(sL))\n",
    "    aev = np.append(aev, eigvals(aL))\n",
    "    \n",
    "# Why iterating with random populations rather than random P matrices at proper steady states"
   ]
  },
  {
   "cell_type": "code",
   "execution_count": 27,
   "metadata": {},
   "outputs": [],
   "source": [
    "# rlb\n",
    "# r"
   ]
  },
  {
   "cell_type": "code",
   "execution_count": 10,
   "metadata": {},
   "outputs": [],
   "source": [
    "# #print(eigvals(sL),'\\n') #length 40\n",
    "# # why all same real part in symmetric P\n",
    "\n",
    "# # DOMINANT EIGENVALUE, domEig\n",
    "# test = eigvals(aL)\n",
    "# #print(test)\n",
    "# reals = np.real(test)\n",
    "# domEV_ind = np.argmax(np.abs(reals)) #lazy way, assume negative eigvals?\n",
    "# domEV = test[domEV_ind]\n",
    "# print(domEV)\n",
    "\n",
    "# print(len(sev))\n",
    "# print(len(aev))\n",
    "\n",
    "# symP(1,5)"
   ]
  },
  {
   "cell_type": "code",
   "execution_count": 13,
   "metadata": {},
   "outputs": [
    {
     "data": {
      "image/png": "[encoded data removed]",
      "text/plain": [
       "<Figure size 720x432 with 2 Axes>"
      ]
     },
     "metadata": {
      "needs_background": "light"
     },
     "output_type": "display_data"
    },
    {
     "data": {
      "image/png": "[encoded data removed]",
      "text/plain": [
       "<Figure size 720x432 with 2 Axes>"
      ]
     },
     "metadata": {
      "needs_background": "light"
     },
     "output_type": "display_data"
    }
   ],
   "source": [
    "## Plot eigenvalues of linearized system ##\n",
    "\n",
    "for i, q in enumerate([sev, aev]): # i index, q current value\n",
    "\n",
    "    x = q.real\n",
    "    y = q.imag\n",
    "\n",
    "    plt.rcParams[\"axes.edgecolor\"] = \"black\" \n",
    "    plt.rcParams[\"axes.linewidth\"] = 1 \n",
    "    \n",
    "    fig, ax = plt.subplots(figsize = (10, 6))\n",
    "\n",
    "    #cmap = plt.cm.viridis_r  ### old, gets an error\n",
    "    cmap = mpl.cm.get_cmap(\"plasma\").copy()\n",
    "    cmap.set_under(color = 'white') \n",
    "\n",
    "    plt.axvline(0, c='grey', linestyle='--', linewidth=1, ymin=0.07, ymax=0.93) ### stability threshold (Re = 0)\n",
    "\n",
    "    font = {'size' : 14}\n",
    "    plt.rc('font', **font)\n",
    "\n",
    "    plt.hexbin(x, y, bins=None, cmap=cmap, linewidths=0.1) ### bins = 'log' seems unhelpful???\n",
    "\n",
    "    plt.xlabel(r'Re($\\lambda$)')\n",
    "    plt.ylabel(r'Im($\\lambda$)')\n",
    "\n",
    "    plt.clim(10**(-8), 5.0) ### color limits, increase upper for better contrast ???\n",
    "    ### originally, (10**(-8), 2.0)\n",
    "\n",
    "    xmin, xmax = plt.xlim()\n",
    "    nxm = (xmax - xmin) / 10 ### def'n some padding/margins\n",
    "    plt.xlim((xmin - nxm, xmax + nxm))\n",
    "\n",
    "    \n",
    "    ### Adjusting Re axis tick marks\n",
    "    if i==0: ### symmetric P\n",
    "        loc = plticker.MultipleLocator(base=0.01) ### tick marks in increments of 'base'\n",
    "        ax.xaxis.set_major_locator(loc)            \n",
    "    if i==1: ### asymetric P\n",
    "        loc = plticker.MultipleLocator(base=0.01) ### originally, base = 0.02\n",
    "        ax.xaxis.set_major_locator(loc)\n",
    "        \n",
    "\n",
    "    ymin, ymax = plt.ylim()\n",
    "    nym = (ymax - ymin) / 3\n",
    "    plt.ylim((ymin - nym, ymax + nym))\n",
    "\n",
    "    cb = plt.colorbar(aspect=40, shrink=0.85, pad=0.07)\n",
    "    locs = cb.get_ticks()\n",
    "    tl = locs[-1] * 2 / 25\n",
    "    cb.set_ticks([tl, locs[-1] - tl])\n",
    "    cb.set_ticklabels(['Low Density', 'High Density'])\n",
    "        \n",
    "plt.show();"
   ]
  },
  {
   "cell_type": "code",
   "execution_count": null,
   "metadata": {},
   "outputs": [],
   "source": [
    "### Instead, consider randomizing the P(roduction matrix) and eval'ing its Jacobian only at \n",
    "    ### its corresponding steady state.\n",
    "# choose k = 5000\n",
    "#make 5000xnxn array (5000 P matrices)\n",
    "#make 5000xnx1 array (5000 Rstars)\n",
    "# \"\"                 (5000 Sstars)"
   ]
  },
  {
   "cell_type": "code",
   "execution_count": null,
   "metadata": {},
   "outputs": [],
   "source": []
  },
  {
   "cell_type": "code",
   "execution_count": null,
   "metadata": {},
   "outputs": [],
   "source": [
    "def extract_block_diags(A,block_size):\n",
    "    '''\n",
    "    A, square matrix whose (square) block diagonals of shape (block_size,block_size) are to be extracted\n",
    "    \n",
    "    This function has zero error handling. Make sure block_size fits the matrix, or whatever.\n",
    "    '''\n",
    "    block_diags = np.lib.stride_tricks.sliding_window_view(A,(block_size,block_size))[::block_size,::block_size]\n",
    "    num_blocks = int(A.shape[0]/block_size)\n",
    "    block_inds = list(range(num_blocks))\n",
    "    \n",
    "    return block_diags[block_inds,block_inds,:,:]"
   ]
  },
  {
   "cell_type": "markdown",
   "metadata": {},
   "source": [
    "$\\vec{R^*} = (C^T)^{-1}\\frac{1}{\\epsilon}(P^T \\vec{1} + \\vec{\\mu})$)\n"
   ]
  },
  {
   "cell_type": "code",
   "execution_count": 43,
   "metadata": {},
   "outputs": [
    {
     "data": {
      "text/plain": [
       "(10, 20, 1)"
      ]
     },
     "execution_count": 43,
     "metadata": {},
     "output_type": "execute_result"
    }
   ],
   "source": [
    "### Resource-Competition Steady State vectors (R_star and S_star)\n",
    "# Why are Rstars in the range of r_i in [1,100]??? Any way to normalize/nondimensionalize the model?\n",
    "\n",
    "### According to Butler/O'Dwyer, for any CHOICE of (+) mu and rho, these Fns will produce feasible Steady States\n",
    "\n",
    "sP_ex = symPvec(sig=1,n=20,k=10)\n",
    "\n",
    "def R_star_gen(C,P,eps,mu): # P is actually 3-dimensional matrix (k nxn sub-P-matrices)\n",
    "    r'''\n",
    "    ..math::\n",
    "        $\\vec{R^*} = (C^T)^{-1}\\frac{1}{\\epsilon}(P^T \\vec{1} + \\vec{\\mu})$\n",
    "    \n",
    "    Generates stack of steady state vectors R_star, where 0th dimension selects the sub-P to which \n",
    "    that particular R_star corresponds (i.e. R_star is the equilibrium for the Jacobian formed with that sub-p).\n",
    "    \n",
    "    No argument for number of sub-R_stars because that is inferred from 0th dimension of P argument.\n",
    "    '''\n",
    "    \n",
    "    k = P.shape[0]\n",
    "    n = P.shape[1]\n",
    "    mu = np.tile(mu,(k,1,1))\n",
    "    \n",
    "    #C = np.tile(C,(k,1,1)) # OLD: stack C k times so that it can be dotted with each sub-Ps\n",
    "                                # np.dot() does not broadcast, I think. Have to manually add 3rd dimension\n",
    "        \n",
    "    #A = np.linalg.inv(np.transpose(C,(0,2,1)))*(1/eps) # split up into A,v for readability\n",
    "    A = np.linalg.inv(C.T)*(1/eps) # A is just nxn\n",
    "    v = np.sum(np.transpose(P,(0,2,1)), 2).reshape(k,n,1) + mu #take row sums of P transpose, reshape to add \n",
    "    \n",
    "    # How to pairwise dot an array of 2D matrices with array of column vectors?\n",
    "    # R_star = np.dot(A,v) # OLD, for stacked C\n",
    "    \n",
    "    R_star = np.tensordot(A,v,axes=([1],[1])).reshape(n,k).T.reshape(k,n,1)\n",
    "    #np.tensordot(I,b,axes=([1],[1])).reshape(2,3).T.reshape(3,2,1)\n",
    "    return R_star\n",
    "#mu = eps * Rstar (when specialized C)\n",
    "\n",
    "\n",
    "mu_ex = np.ones(n).reshape(20,1)\n",
    "\n",
    "R_star_ex = R_star_gen(C,sP_ex,eps,(mu_ex*1))\n",
    "R_star_ex.shape"
   ]
  },
  {
   "cell_type": "markdown",
   "metadata": {},
   "source": [
    "$\\vec{S^*} = [(R^{*}_{diag})C - P]^{-1} \\vec{\\rho}$\n"
   ]
  },
  {
   "cell_type": "code",
   "execution_count": 30,
   "metadata": {},
   "outputs": [
    {
     "name": "stdout",
     "output_type": "stream",
     "text": [
      "(10, 20, 20)\n"
     ]
    },
    {
     "data": {
      "text/plain": [
       "(10, 20, 1)"
      ]
     },
     "execution_count": 30,
     "metadata": {},
     "output_type": "execute_result"
    }
   ],
   "source": [
    "def S_star_gen(C,P,R_star,rho):\n",
    "    k = P.shape[0]\n",
    "    n = P.shape[1]\n",
    "    \n",
    "    # How get (k,n,n) array of R_diags, each k a diagonal array with R_star k as its entries?\n",
    "    # fill main diagonal with flattened R_stars (it will be k*n x k*n), then extract the k nxn block main diagonal matrices\n",
    "        # HOW EXTRACT BLOCK DIAGONALS IN NUMPY??????\n",
    "        # Try sliding windows with slicing\n",
    "    \n",
    "        # Now, we have extract_block_diags()\n",
    "    \n",
    "    R_diag = np.zeros((k*n,k*n))\n",
    "    np.fill_diagonal(R_diag, R_star.reshape(k*n,))\n",
    "    # now, R_diag is big array\n",
    "    R_diag = extract_block_diags(R_diag, n) # get each R_diag in (k,n,n)-shaped array\n",
    "    \n",
    "    ### FIX THIS LATER FOR NON-IDENTITY C ################################\n",
    "    #  RC = np.dot(R_diag, C) # real way would be sth like this\n",
    "    RC = R_diag\n",
    "    \n",
    "    A = np.linalg.inv(RC - P) # pairwise subtract RC and P\n",
    "    print(A.shape)\n",
    "    #S_star = np.dot(A, rho)  # in a perfect world, this is the answer\n",
    "    \n",
    "    # this time, we have many different sub-A and constant rho\n",
    "    S_star = np.tensordot(A,rho.reshape(1,n,1),axes=([2],[1])) #.reshape(n,k).T.reshape(k,n,1) # we do not live in a perfect world\n",
    "\n",
    "    return S_star.reshape(k,n,1)\n",
    "\n",
    "rho_ex = np.ones(n).reshape(20,1)\n",
    "S_star_ex = S_star_gen(C,sP_ex,R_star_ex,rho_ex)\n",
    "\n",
    "S_star_ex.shape"
   ]
  },
  {
   "cell_type": "code",
   "execution_count": 48,
   "metadata": {},
   "outputs": [],
   "source": [
    "# x = np.random.rand(4*3*2).reshape(4,3,2)\n",
    "# x\n",
    "# v = np.arange(2).reshape(1,2,1)\n",
    "# v\n",
    "\n",
    "# z = np.tensordot(x,v,axes=([2],[1]))\n",
    "# z\n",
    "# z.reshape(4,3,1)\n",
    "\n",
    "\n",
    "# X = np.identity(9)\n",
    "# d = extract_block_diags(X,3) # it work\n",
    "# d"
   ]
  },
  {
   "cell_type": "code",
   "execution_count": 38,
   "metadata": {},
   "outputs": [],
   "source": []
  },
  {
   "cell_type": "code",
   "execution_count": 18,
   "metadata": {},
   "outputs": [],
   "source": [
    "# # Check that R_star_gen works???\n",
    "\n",
    "# v=(np.sum(np.transpose(sP_ex,(0,2,1)), 2).reshape(k,n,1) + np.tile(mu_ex,(k,1,1))) #10x20x1\n",
    "# A = np.linalg.inv(np.transpose(np.tile(C,(k,1,1)),(0,2,1)))*(1/eps) # 10x20x20\n",
    "\n",
    "# X = np.tensordot(A,v,axes=([2],[1]))\n",
    "# X.shape\n",
    "# X[0,:,1,:]\n",
    "\n",
    "# #np.sum(sP_ex[0,:,:].T,1).shape\n",
    "# #check against manual calculation of first R_star\n",
    "# #np.all(np.dot(np.linalg.inv(C)/eps,np.sum(sP_ex[0,:,:].T,1).reshape(20,1) + mu_ex) == X[0,:,0,:])\n",
    "\n",
    "# #np.all(np.dot(np.linalg.inv(C)/eps,np.sum(sP_ex[1,:,:].T,1).reshape(20,1) + mu_ex) == X[1,:,1,:])"
   ]
  },
  {
   "cell_type": "code",
   "execution_count": 19,
   "metadata": {},
   "outputs": [],
   "source": [
    "# b = np.random.rand(6).reshape(3,2,1)\n",
    "# b\n",
    "\n",
    "# I = np.identity(2) #2x2\n",
    "# b.shape # 3x2x1\n",
    "\n",
    "# out = np.tensordot(I,b,axes=([1],[1]))\n",
    "# #out\n",
    "# out = out.reshape(2,3)\n",
    "# #out\n",
    "# out = out.T.reshape(3,2,1)\n",
    "# out.shape\n",
    "# out\n",
    "\n",
    "# ### THIS IS HOW YOU DOT A BUNCH OF MATRICES (only works for same matrix tho, only vary vector)"
   ]
  },
  {
   "cell_type": "code",
   "execution_count": 61,
   "metadata": {},
   "outputs": [
    {
     "name": "stdout",
     "output_type": "stream",
     "text": [
      "(750, 20, 20)\n",
      "(750, 20, 20)\n"
     ]
    }
   ],
   "source": [
    "### Now, can generate k P matrices shape (k,n,n) and the corresponding R/S_stars for Jacobian at equilibrium\n",
    "\n",
    "### MAKE INTO A FUNCTION\n",
    "\n",
    "sEVs = np.array([])\n",
    "aEVs = np.array([])\n",
    "\n",
    "## Parameters ##\n",
    "\n",
    "n   = 20      # number of species AND number of resrcs\n",
    "k = 750        # number of systems to generate\n",
    "eps = 0.25    # efficiency, WHY SAME FOR EACH SPECIES, scales consumption\n",
    "sig = 25      # std deviation of production rates? Yes, also for abundances?\n",
    "c   = 1       # equal consumption rate, WHY SAME FOR EACH SPECIES\n",
    "#mu = np.random.unif(0,1,n) \n",
    "mu = (np.ones(n)*0.5).reshape(n,1) # R_star_gen takes 2D mu\n",
    "#rho = np.random.unif(0,1,n)\n",
    "rho = (np.ones(n)*0.5).reshape(n,1)\n",
    "\n",
    "\n",
    "### SEE METHODS FOR mu AND rho\n",
    "\n",
    "I = np.identity(n)\n",
    "\n",
    "## Consumption Matrix ##\n",
    "\n",
    "C = c * I\n",
    "\n",
    "### Generating Random P-matrices, fixing mu and rho, and eval'ing Jacobian at corresponding equilibrium\n",
    "    ### Then find dominant eigenvalues.\n",
    "\n",
    "LD = np.zeros((k, n, n)) # DON'T REEVALUATE EVERY ITERATION\n",
    "\n",
    "## Production matrices ##\n",
    "sP = symPvec2(sig, n, k) # VECTORIZE the return value/FNs arg to return 'k' such matrices (better than for loop) \n",
    "aP = asymPvec(sig, n, k)\n",
    "\n",
    "\n",
    "## Equilibrium Abundances ##\n",
    "sR_star = R_star_gen(C,sP, eps, mu)\n",
    "sS_star = S_star_gen(C,sP, sR_star, rho)\n",
    "\n",
    "aR_star = R_star_gen(C,aP, eps, mu)\n",
    "aS_star = S_star_gen(C,aP, aR_star, rho)\n",
    "\n",
    "\n",
    "## Linearized System ##\n",
    "   ### Jacobian, L, eval'd at steady state\n",
    "#     [ LA | aLB]\n",
    "#aL = [---------]\n",
    "#     [ LC | LD ]\n",
    "\n",
    "# Community Matrix for Symmetric P\n",
    "sLA  = -c * sS_star * I\n",
    "sLB = sP - c * sR_star * I\n",
    "sLC = eps * c * sS_star * I\n",
    "\n",
    "# Community Matrix for Asymmetric P\n",
    "aLA = -c * aS_star * I\n",
    "aLB = aP - c * aR_star * I\n",
    "aLC = eps * c * aS_star * I\n",
    "\n",
    "\n",
    "sL  = np.concatenate((np.concatenate((sLA, sLB),2), np.concatenate((sLC, LD),2)), 1)\n",
    "# aL  = np.vstack((np.hstack((aLA, aLB)), np.hstack((aLC, LD))))\n",
    "aL  = np.concatenate((np.concatenate((aLA, aLB),2), np.concatenate((aLC, LD),2)), 1)\n",
    "\n",
    "\n",
    "## Eigenvalues of Linearized System ##\n",
    "\n",
    "sEVs = np.append(sEVs, eigvals(sL)) # just turns EVs from an array into a list???\n",
    "aEVs = np.append(aEVs, eigvals(aL))"
   ]
  },
  {
   "cell_type": "code",
   "execution_count": null,
   "metadata": {},
   "outputs": [],
   "source": [
    "eigvals(sL).shape"
   ]
  },
  {
   "cell_type": "code",
   "execution_count": 71,
   "metadata": {},
   "outputs": [
    {
     "data": {
      "text/plain": [
       "(30000,)"
      ]
     },
     "execution_count": 71,
     "metadata": {},
     "output_type": "execute_result"
    }
   ],
   "source": [
    "sEVs.shape"
   ]
  },
  {
   "cell_type": "code",
   "execution_count": 52,
   "metadata": {},
   "outputs": [
    {
     "name": "stdout",
     "output_type": "stream",
     "text": [
      "Symmetric P:\n"
     ]
    },
    {
     "data": {
      "text/plain": [
       "(30000,)"
      ]
     },
     "execution_count": 52,
     "metadata": {},
     "output_type": "execute_result"
    },
    {
     "data": {
      "text/plain": [
       "0.44503880703134063"
      ]
     },
     "execution_count": 52,
     "metadata": {},
     "output_type": "execute_result"
    },
    {
     "name": "stdout",
     "output_type": "stream",
     "text": [
      "\n",
      "Asymmetric P:\n"
     ]
    },
    {
     "data": {
      "text/plain": [
       "(30000,)"
      ]
     },
     "execution_count": 52,
     "metadata": {},
     "output_type": "execute_result"
    },
    {
     "data": {
      "text/plain": [
       "0.4393991119897604"
      ]
     },
     "execution_count": 52,
     "metadata": {},
     "output_type": "execute_result"
    }
   ],
   "source": [
    "print(\"Symmetric P:\")\n",
    "sEVs.shape\n",
    "np.max(np.abs(sEVs))\n",
    "print(\"\\nAsymmetric P:\")\n",
    "aEVs.shape\n",
    "np.max(np.abs(aEVs))\n",
    "\n",
    "## What is going on with the tendency for eigvals ~=~ 0.4???"
   ]
  },
  {
   "cell_type": "code",
   "execution_count": null,
   "metadata": {},
   "outputs": [],
   "source": [
    "# small systems (small n) almost Never unstable\n",
    " # house of cards?\n",
    "ns_test = list(range(1,41))\n",
    "percents_stable = []\n",
    "\n",
    "for nn in ns_test:\n",
    "    n_test = nn\n",
    "    k_test=100\n",
    "    ev_ex = rand_eigval_gen(n_test,k_test,sig = 1, symmetric=False)\n",
    "    reals = ev_ex.real\n",
    "\n",
    "\n",
    "    #reals.shape\n",
    "\n",
    "    # MEANINGLESS, loses the eigvals associations with their respective systems\n",
    "    pos_real_cts = np.sum(reals>0,-1) # DUE TO COMPLEX CONJUGATES, REALLY ONLY HALF THIS MANY ??? I GUESS, BUT\n",
    "                            # EVERY EIGVAL HAS COMPLEX CONJUGATE, SO THE FREQUENCY CALC WORKS OUT JUST AS WELL.\n",
    "\n",
    "\n",
    "    # plot stability as n increases? Past n=~30, NO STABLE SYSTEMS\n",
    "\n",
    "    percents_stable.append(len(pos_real_cts[pos_real_cts==0])/k_test) # ratio of stable systems to total systems (k)\n",
    "    \n",
    "    \n",
    "# WHERE IS ALL THE PRINTING COMING FROM????????\n",
    " # (k,n,n), so it must be P, but where is P.shape printed?"
   ]
  },
  {
   "cell_type": "code",
   "execution_count": 267,
   "metadata": {},
   "outputs": [
    {
     "data": {
      "image/png": "[encoded data removed]",
      "text/plain": [
       "<Figure size 432x288 with 1 Axes>"
      ]
     },
     "metadata": {
      "needs_background": "light"
     },
     "output_type": "display_data"
    }
   ],
   "source": [
    "xdata = np.array(ns_test)\n",
    "ydata = np.array(percents_stable)\n",
    "\n",
    "\n",
    "# I forgot how to suppress matplotlib output automatically\n",
    "plt.plot(xdata,ydata, color=(0.85,0.1,0.5));\n",
    "plt.title('Frequency of stability against system size');\n",
    "plt.xlabel('n');\n",
    "plt.ylabel(r'$\\frac{\\# Stable Systems}{k}$');\n",
    "plt.tight_layout();\n",
    "# looks like logistic growth (decay, really)\n",
    "plt.show();\n",
    "# presence of exponentials makes enough sense given the type of math going on"
   ]
  },
  {
   "cell_type": "markdown",
   "metadata": {},
   "source": [
    "Has a form similar to\n",
    "$$ F(x) = \\frac{e^{rx}}{c+e^{rx}}, $$\n",
    "with reals $r<0, c>0$."
   ]
  },
  {
   "cell_type": "code",
   "execution_count": 245,
   "metadata": {},
   "outputs": [
    {
     "data": {
      "text/plain": [
       "[10]"
      ]
     },
     "execution_count": 245,
     "metadata": {},
     "output_type": "execute_result"
    }
   ],
   "source": [
    "listo = []\n",
    "listo.append(10)\n",
    "listo"
   ]
  },
  {
   "cell_type": "code",
   "execution_count": 198,
   "metadata": {},
   "outputs": [
    {
     "data": {
      "text/plain": [
       "2"
      ]
     },
     "execution_count": 198,
     "metadata": {},
     "output_type": "execute_result"
    }
   ],
   "source": []
  },
  {
   "cell_type": "code",
   "execution_count": 248,
   "metadata": {},
   "outputs": [],
   "source": [
    "def rand_eigval_gen(n, k, sig = 1, symmetric=True): # For now, just identity C, ADD AS ARGUMENT LATER\n",
    "    '''\n",
    "    Takes same arguments as (a)symPvec(), but performs all of the eigenvalue calcs for each of the k matrices\n",
    "    \n",
    "    Needs to be updated to take C as argument. For now, just uses identity matrix for C (perfect specialists).\n",
    "    Also, mu, rho, and epsilon.\n",
    "    '''\n",
    "    \n",
    "    EVs = np.array([])\n",
    "\n",
    "    ## Parameters ##\n",
    "\n",
    "    # n   = 20      # number of species AND number of resrcs\n",
    "    # k = 750        # number of systems to generate\n",
    "    eps = 0.25    # efficiency, WHY SAME FOR EACH SPECIES, scales consumption\n",
    "    # sig = 25      # std deviation of production rates? Yes, also for abundances?\n",
    "    c = 1       # equal consumption rate, WHY SAME FOR EACH SPECIES\n",
    "    #mu = np.random.unif(0,1,n) \n",
    "    mu = (np.ones(n)*0.5).reshape(n,1) # R_star_gen takes 2D mu\n",
    "    #rho = np.random.unif(0,1,n)\n",
    "    rho = (np.ones(n)*0.5).reshape(n,1)\n",
    "    ### SEE METHODS FOR mu AND rho\n",
    "\n",
    "\n",
    "    ## Consumption Matrix ##\n",
    "    I = np.identity(n)\n",
    "    C = c * I\n",
    "    # C = np.identity(n)\n",
    "\n",
    "    \n",
    "    # only difference between symmetric=True and otherwise is the call to symPvec2() or asymPvec()\n",
    "        \n",
    "    ## Choice of Production matrices ##\n",
    "    if (symmetric):\n",
    "        P = symPvec2(sig, n, k) # VECTORIZE the return value/FNs arg to return 'k' such matrices (better than for loop)\n",
    "    else:\n",
    "        P = asymPvec(sig, n, k)\n",
    "    \n",
    "    ## Linearized System ##\n",
    "       ### Jacobian, L, eval'd at steady state\n",
    "    #     [ LA | aLB]\n",
    "    #aL = [---------]\n",
    "    #     [ LC | LD ]\n",
    "    LD = np.zeros((k, n, n))\n",
    "\n",
    "\n",
    "    ## Equilibrium Abundances ##\n",
    "    R_star = R_star_gen(C, P, eps, mu)\n",
    "    S_star = S_star_gen(C, P, R_star, rho)\n",
    "\n",
    "    # Community Matrix Partitions\n",
    "    LA  = -c * S_star * I\n",
    "    LB = P - c * R_star * I\n",
    "    LC = eps * c * S_star * I\n",
    "\n",
    "\n",
    "    L  = np.concatenate((np.concatenate((LA, LB),2), np.concatenate((LC, LD),2)), 1)\n",
    "\n",
    "\n",
    "    # EVs = np.append(EVs, eigvals(L)) # old\n",
    "    # print(P)\n",
    "    return eigvals(L)"
   ]
  },
  {
   "cell_type": "code",
   "execution_count": 107,
   "metadata": {},
   "outputs": [
    {
     "name": "stdout",
     "output_type": "stream",
     "text": [
      "(3, 5, 5)\n"
     ]
    },
    {
     "data": {
      "text/plain": [
       "array([-0.01906+0.35357j, -0.01906-0.35357j, -0.01667+0.41755j,\n",
       "       -0.01667-0.41755j, -0.01671+0.40382j, -0.01671-0.40382j,\n",
       "       -0.02161+0.37739j, -0.02161-0.37739j, -0.01808+0.3858j ,\n",
       "       -0.01808-0.3858j ])"
      ]
     },
     "execution_count": 107,
     "metadata": {},
     "output_type": "execute_result"
    }
   ],
   "source": [
    "dom_ev_ind = np.argmax(np.abs(ev_ex.real))\n",
    "ev_ex[dom_ev_ind]"
   ]
  },
  {
   "cell_type": "code",
   "execution_count": 104,
   "metadata": {},
   "outputs": [
    {
     "data": {
      "text/plain": [
       "51.345"
      ]
     },
     "execution_count": 104,
     "metadata": {},
     "output_type": "execute_result"
    }
   ],
   "source": []
  },
  {
   "cell_type": "code",
   "execution_count": null,
   "metadata": {},
   "outputs": [],
   "source": []
  },
  {
   "cell_type": "code",
   "execution_count": 54,
   "metadata": {},
   "outputs": [],
   "source": [
    "# cmap = mpl.cm.get_cmap(\"magma\").copy()\n",
    "# cmap.set_under(color = 'white') \n",
    "# plt.hexbin(sEVs.real, sEVs.imag, bins=None, cmap=cmap, linewidths=0.1) ### bins = 'log' seems unhelpful???\n"
   ]
  },
  {
   "cell_type": "code",
   "execution_count": 99,
   "metadata": {},
   "outputs": [
    {
     "data": {
      "text/plain": [
       "<matplotlib.lines.Line2D at 0x15faea911c0>"
      ]
     },
     "execution_count": 99,
     "metadata": {},
     "output_type": "execute_result"
    },
    {
     "data": {
      "text/plain": [
       "<matplotlib.collections.PolyCollection at 0x15fae88ed30>"
      ]
     },
     "execution_count": 99,
     "metadata": {},
     "output_type": "execute_result"
    },
    {
     "data": {
      "text/plain": [
       "Text(0.5, 0, 'Re($\\\\lambda$)')"
      ]
     },
     "execution_count": 99,
     "metadata": {},
     "output_type": "execute_result"
    },
    {
     "data": {
      "text/plain": [
       "Text(0, 0.5, 'Im($\\\\lambda$)')"
      ]
     },
     "execution_count": 99,
     "metadata": {},
     "output_type": "execute_result"
    },
    {
     "data": {
      "text/plain": [
       "(-0.0004178519372788017, 5.7634749969489896e-05)"
      ]
     },
     "execution_count": 99,
     "metadata": {},
     "output_type": "execute_result"
    },
    {
     "data": {
      "text/plain": [
       "Text(0.5, 1.0, 'Symmetric P, $\\\\sigma=0.5$')"
      ]
     },
     "execution_count": 99,
     "metadata": {},
     "output_type": "execute_result"
    },
    {
     "data": {
      "text/plain": [
       "(-0.8160021419017582, 0.8160021419017582)"
      ]
     },
     "execution_count": 99,
     "metadata": {},
     "output_type": "execute_result"
    },
    {
     "data": {
      "text/plain": [
       "<matplotlib.lines.Line2D at 0x15faf2db730>"
      ]
     },
     "execution_count": 99,
     "metadata": {},
     "output_type": "execute_result"
    },
    {
     "data": {
      "text/plain": [
       "<matplotlib.collections.PolyCollection at 0x15faf57aaf0>"
      ]
     },
     "execution_count": 99,
     "metadata": {},
     "output_type": "execute_result"
    },
    {
     "data": {
      "text/plain": [
       "Text(0.5, 0, 'Re($\\\\lambda$)')"
      ]
     },
     "execution_count": 99,
     "metadata": {},
     "output_type": "execute_result"
    },
    {
     "data": {
      "text/plain": [
       "Text(0, 0.5, 'Im($\\\\lambda$)')"
      ]
     },
     "execution_count": 99,
     "metadata": {},
     "output_type": "execute_result"
    },
    {
     "data": {
      "text/plain": [
       "(-0.013054923070876637, 0.012633010808455528)"
      ]
     },
     "execution_count": 99,
     "metadata": {},
     "output_type": "execute_result"
    },
    {
     "data": {
      "text/plain": [
       "Text(0.5, 1.0, 'Asymmetric P, $\\\\sigma=0.5$')"
      ]
     },
     "execution_count": 99,
     "metadata": {},
     "output_type": "execute_result"
    },
    {
     "data": {
      "text/plain": [
       "(-0.8151304359015668, 0.8151304359015668)"
      ]
     },
     "execution_count": 99,
     "metadata": {},
     "output_type": "execute_result"
    },
    {
     "data": {
      "text/plain": [
       "<AxesSubplot:>"
      ]
     },
     "execution_count": 99,
     "metadata": {},
     "output_type": "execute_result"
    },
    {
     "data": {
      "text/plain": [
       "<matplotlib.lines.Line2D at 0x15fae8387f0>"
      ]
     },
     "execution_count": 99,
     "metadata": {},
     "output_type": "execute_result"
    },
    {
     "data": {
      "text/plain": [
       "<matplotlib.collections.PolyCollection at 0x15fb07b9dc0>"
      ]
     },
     "execution_count": 99,
     "metadata": {},
     "output_type": "execute_result"
    },
    {
     "data": {
      "text/plain": [
       "Text(0.5, 0, 'Re($\\\\lambda$)')"
      ]
     },
     "execution_count": 99,
     "metadata": {},
     "output_type": "execute_result"
    },
    {
     "data": {
      "text/plain": [
       "Text(0, 0.5, 'Im($\\\\lambda$)')"
      ]
     },
     "execution_count": 99,
     "metadata": {},
     "output_type": "execute_result"
    },
    {
     "data": {
      "text/plain": [
       "(-0.0004178519372788017, 5.7634749969489896e-05)"
      ]
     },
     "execution_count": 99,
     "metadata": {},
     "output_type": "execute_result"
    },
    {
     "data": {
      "text/plain": [
       "Text(0.5, 1.0, 'Symmetric P, $\\\\sigma=1$')"
      ]
     },
     "execution_count": 99,
     "metadata": {},
     "output_type": "execute_result"
    },
    {
     "data": {
      "text/plain": [
       "(-0.8160021419017582, 0.8160021419017582)"
      ]
     },
     "execution_count": 99,
     "metadata": {},
     "output_type": "execute_result"
    },
    {
     "data": {
      "text/plain": [
       "<matplotlib.lines.Line2D at 0x15fb0847ac0>"
      ]
     },
     "execution_count": 99,
     "metadata": {},
     "output_type": "execute_result"
    },
    {
     "data": {
      "text/plain": [
       "<matplotlib.collections.PolyCollection at 0x15faf448f10>"
      ]
     },
     "execution_count": 99,
     "metadata": {},
     "output_type": "execute_result"
    },
    {
     "data": {
      "text/plain": [
       "Text(0.5, 0, 'Re($\\\\lambda$)')"
      ]
     },
     "execution_count": 99,
     "metadata": {},
     "output_type": "execute_result"
    },
    {
     "data": {
      "text/plain": [
       "Text(0, 0.5, 'Im($\\\\lambda$)')"
      ]
     },
     "execution_count": 99,
     "metadata": {},
     "output_type": "execute_result"
    },
    {
     "data": {
      "text/plain": [
       "(-0.013054923070876637, 0.012633010808455528)"
      ]
     },
     "execution_count": 99,
     "metadata": {},
     "output_type": "execute_result"
    },
    {
     "data": {
      "text/plain": [
       "Text(0.5, 1.0, 'Asymmetric P, $\\\\sigma=1$')"
      ]
     },
     "execution_count": 99,
     "metadata": {},
     "output_type": "execute_result"
    },
    {
     "data": {
      "text/plain": [
       "(-0.8151304359015668, 0.8151304359015668)"
      ]
     },
     "execution_count": 99,
     "metadata": {},
     "output_type": "execute_result"
    },
    {
     "data": {
      "text/plain": [
       "<AxesSubplot:>"
      ]
     },
     "execution_count": 99,
     "metadata": {},
     "output_type": "execute_result"
    },
    {
     "data": {
      "text/plain": [
       "<matplotlib.lines.Line2D at 0x15faf47bd30>"
      ]
     },
     "execution_count": 99,
     "metadata": {},
     "output_type": "execute_result"
    },
    {
     "data": {
      "text/plain": [
       "<matplotlib.collections.PolyCollection at 0x15faf45d5e0>"
      ]
     },
     "execution_count": 99,
     "metadata": {},
     "output_type": "execute_result"
    },
    {
     "data": {
      "text/plain": [
       "Text(0.5, 0, 'Re($\\\\lambda$)')"
      ]
     },
     "execution_count": 99,
     "metadata": {},
     "output_type": "execute_result"
    },
    {
     "data": {
      "text/plain": [
       "Text(0, 0.5, 'Im($\\\\lambda$)')"
      ]
     },
     "execution_count": 99,
     "metadata": {},
     "output_type": "execute_result"
    },
    {
     "data": {
      "text/plain": [
       "(-0.0004178519372788017, 5.7634749969489896e-05)"
      ]
     },
     "execution_count": 99,
     "metadata": {},
     "output_type": "execute_result"
    },
    {
     "data": {
      "text/plain": [
       "Text(0.5, 1.0, 'Symmetric P, $\\\\sigma=2$')"
      ]
     },
     "execution_count": 99,
     "metadata": {},
     "output_type": "execute_result"
    },
    {
     "data": {
      "text/plain": [
       "(-0.8160021419017582, 0.8160021419017582)"
      ]
     },
     "execution_count": 99,
     "metadata": {},
     "output_type": "execute_result"
    },
    {
     "data": {
      "text/plain": [
       "<matplotlib.lines.Line2D at 0x15fae8cf130>"
      ]
     },
     "execution_count": 99,
     "metadata": {},
     "output_type": "execute_result"
    },
    {
     "data": {
      "text/plain": [
       "<matplotlib.collections.PolyCollection at 0x15fb1a22850>"
      ]
     },
     "execution_count": 99,
     "metadata": {},
     "output_type": "execute_result"
    },
    {
     "data": {
      "text/plain": [
       "Text(0.5, 0, 'Re($\\\\lambda$)')"
      ]
     },
     "execution_count": 99,
     "metadata": {},
     "output_type": "execute_result"
    },
    {
     "data": {
      "text/plain": [
       "Text(0, 0.5, 'Im($\\\\lambda$)')"
      ]
     },
     "execution_count": 99,
     "metadata": {},
     "output_type": "execute_result"
    },
    {
     "data": {
      "text/plain": [
       "(-0.013054923070876637, 0.012633010808455528)"
      ]
     },
     "execution_count": 99,
     "metadata": {},
     "output_type": "execute_result"
    },
    {
     "data": {
      "text/plain": [
       "Text(0.5, 1.0, 'Asymmetric P, $\\\\sigma=2$')"
      ]
     },
     "execution_count": 99,
     "metadata": {},
     "output_type": "execute_result"
    },
    {
     "data": {
      "text/plain": [
       "(-0.8151304359015668, 0.8151304359015668)"
      ]
     },
     "execution_count": 99,
     "metadata": {},
     "output_type": "execute_result"
    },
    {
     "data": {
      "text/plain": [
       "<AxesSubplot:>"
      ]
     },
     "execution_count": 99,
     "metadata": {},
     "output_type": "execute_result"
    },
    {
     "data": {
      "text/plain": [
       "<matplotlib.lines.Line2D at 0x15faead73a0>"
      ]
     },
     "execution_count": 99,
     "metadata": {},
     "output_type": "execute_result"
    },
    {
     "data": {
      "text/plain": [
       "<matplotlib.collections.PolyCollection at 0x15faea156d0>"
      ]
     },
     "execution_count": 99,
     "metadata": {},
     "output_type": "execute_result"
    },
    {
     "data": {
      "text/plain": [
       "Text(0.5, 0, 'Re($\\\\lambda$)')"
      ]
     },
     "execution_count": 99,
     "metadata": {},
     "output_type": "execute_result"
    },
    {
     "data": {
      "text/plain": [
       "Text(0, 0.5, 'Im($\\\\lambda$)')"
      ]
     },
     "execution_count": 99,
     "metadata": {},
     "output_type": "execute_result"
    },
    {
     "data": {
      "text/plain": [
       "(-0.0004178519372788017, 5.7634749969489896e-05)"
      ]
     },
     "execution_count": 99,
     "metadata": {},
     "output_type": "execute_result"
    },
    {
     "data": {
      "text/plain": [
       "Text(0.5, 1.0, 'Symmetric P, $\\\\sigma=5$')"
      ]
     },
     "execution_count": 99,
     "metadata": {},
     "output_type": "execute_result"
    },
    {
     "data": {
      "text/plain": [
       "(-0.8160021419017582, 0.8160021419017582)"
      ]
     },
     "execution_count": 99,
     "metadata": {},
     "output_type": "execute_result"
    },
    {
     "data": {
      "text/plain": [
       "<matplotlib.lines.Line2D at 0x15faea44dc0>"
      ]
     },
     "execution_count": 99,
     "metadata": {},
     "output_type": "execute_result"
    },
    {
     "data": {
      "text/plain": [
       "<matplotlib.collections.PolyCollection at 0x15fb19f8a90>"
      ]
     },
     "execution_count": 99,
     "metadata": {},
     "output_type": "execute_result"
    },
    {
     "data": {
      "text/plain": [
       "Text(0.5, 0, 'Re($\\\\lambda$)')"
      ]
     },
     "execution_count": 99,
     "metadata": {},
     "output_type": "execute_result"
    },
    {
     "data": {
      "text/plain": [
       "Text(0, 0.5, 'Im($\\\\lambda$)')"
      ]
     },
     "execution_count": 99,
     "metadata": {},
     "output_type": "execute_result"
    },
    {
     "data": {
      "text/plain": [
       "(-0.013054923070876637, 0.012633010808455528)"
      ]
     },
     "execution_count": 99,
     "metadata": {},
     "output_type": "execute_result"
    },
    {
     "data": {
      "text/plain": [
       "Text(0.5, 1.0, 'Asymmetric P, $\\\\sigma=5$')"
      ]
     },
     "execution_count": 99,
     "metadata": {},
     "output_type": "execute_result"
    },
    {
     "data": {
      "text/plain": [
       "(-0.8151304359015668, 0.8151304359015668)"
      ]
     },
     "execution_count": 99,
     "metadata": {},
     "output_type": "execute_result"
    },
    {
     "data": {
      "text/plain": [
       "<AxesSubplot:>"
      ]
     },
     "execution_count": 99,
     "metadata": {},
     "output_type": "execute_result"
    },
    {
     "data": {
      "text/plain": [
       "<matplotlib.lines.Line2D at 0x15fb0656610>"
      ]
     },
     "execution_count": 99,
     "metadata": {},
     "output_type": "execute_result"
    },
    {
     "data": {
      "text/plain": [
       "<matplotlib.collections.PolyCollection at 0x15fae8b4be0>"
      ]
     },
     "execution_count": 99,
     "metadata": {},
     "output_type": "execute_result"
    },
    {
     "data": {
      "text/plain": [
       "Text(0.5, 0, 'Re($\\\\lambda$)')"
      ]
     },
     "execution_count": 99,
     "metadata": {},
     "output_type": "execute_result"
    },
    {
     "data": {
      "text/plain": [
       "Text(0, 0.5, 'Im($\\\\lambda$)')"
      ]
     },
     "execution_count": 99,
     "metadata": {},
     "output_type": "execute_result"
    },
    {
     "data": {
      "text/plain": [
       "(-0.0004178519372788017, 5.7634749969489896e-05)"
      ]
     },
     "execution_count": 99,
     "metadata": {},
     "output_type": "execute_result"
    },
    {
     "data": {
      "text/plain": [
       "Text(0.5, 1.0, 'Symmetric P, $\\\\sigma=10$')"
      ]
     },
     "execution_count": 99,
     "metadata": {},
     "output_type": "execute_result"
    },
    {
     "data": {
      "text/plain": [
       "(-0.8160021419017582, 0.8160021419017582)"
      ]
     },
     "execution_count": 99,
     "metadata": {},
     "output_type": "execute_result"
    },
    {
     "data": {
      "text/plain": [
       "<matplotlib.lines.Line2D at 0x15fb1e44850>"
      ]
     },
     "execution_count": 99,
     "metadata": {},
     "output_type": "execute_result"
    },
    {
     "data": {
      "text/plain": [
       "<matplotlib.collections.PolyCollection at 0x15fb1e6acd0>"
      ]
     },
     "execution_count": 99,
     "metadata": {},
     "output_type": "execute_result"
    },
    {
     "data": {
      "text/plain": [
       "Text(0.5, 0, 'Re($\\\\lambda$)')"
      ]
     },
     "execution_count": 99,
     "metadata": {},
     "output_type": "execute_result"
    },
    {
     "data": {
      "text/plain": [
       "Text(0, 0.5, 'Im($\\\\lambda$)')"
      ]
     },
     "execution_count": 99,
     "metadata": {},
     "output_type": "execute_result"
    },
    {
     "data": {
      "text/plain": [
       "(-0.013054923070876637, 0.012633010808455528)"
      ]
     },
     "execution_count": 99,
     "metadata": {},
     "output_type": "execute_result"
    },
    {
     "data": {
      "text/plain": [
       "Text(0.5, 1.0, 'Asymmetric P, $\\\\sigma=10$')"
      ]
     },
     "execution_count": 99,
     "metadata": {},
     "output_type": "execute_result"
    },
    {
     "data": {
      "text/plain": [
       "(-0.8151304359015668, 0.8151304359015668)"
      ]
     },
     "execution_count": 99,
     "metadata": {},
     "output_type": "execute_result"
    },
    {
     "data": {
      "text/plain": [
       "<AxesSubplot:>"
      ]
     },
     "execution_count": 99,
     "metadata": {},
     "output_type": "execute_result"
    },
    {
     "data": {
      "image/png": "[encoded data removed]",
      "text/plain": [
       "<Figure size 720x432 with 2 Axes>"
      ]
     },
     "metadata": {
      "needs_background": "light"
     },
     "output_type": "display_data"
    },
    {
     "data": {
      "image/png": "[encoded data removed]",
      "text/plain": [
       "<Figure size 720x432 with 1 Axes>"
      ]
     },
     "metadata": {
      "needs_background": "light"
     },
     "output_type": "display_data"
    },
    {
     "data": {
      "image/png": "[encoded data removed]",
      "text/plain": [
       "<Figure size 720x432 with 2 Axes>"
      ]
     },
     "metadata": {
      "needs_background": "light"
     },
     "output_type": "display_data"
    },
    {
     "data": {
      "image/png": "[encoded data removed]",
      "text/plain": [
       "<Figure size 720x432 with 2 Axes>"
      ]
     },
     "metadata": {
      "needs_background": "light"
     },
     "output_type": "display_data"
    },
    {
     "data": {
      "image/png": "[encoded data removed]",
      "text/plain": [
       "<Figure size 720x432 with 2 Axes>"
      ]
     },
     "metadata": {
      "needs_background": "light"
     },
     "output_type": "display_data"
    },
    {
     "data": {
      "image/png": "[encoded data removed]",
      "text/plain": [
       "<Figure size 720x432 with 1 Axes>"
      ]
     },
     "metadata": {
      "needs_background": "light"
     },
     "output_type": "display_data"
    },
    {
     "data": {
      "image/png": "[encoded data removed]",
      "text/plain": [
       "<Figure size 720x432 with 2 Axes>"
      ]
     },
     "metadata": {
      "needs_background": "light"
     },
     "output_type": "display_data"
    },
    {
     "data": {
      "image/png": "[encoded data removed]",
      "text/plain": [
       "<Figure size 720x432 with 2 Axes>"
      ]
     },
     "metadata": {
      "needs_background": "light"
     },
     "output_type": "display_data"
    },
    {
     "data": {
      "image/png": "[encoded data removed]",
      "text/plain": [
       "<Figure size 720x432 with 2 Axes>"
      ]
     },
     "metadata": {
      "needs_background": "light"
     },
     "output_type": "display_data"
    },
    {
     "data": {
      "image/png": "[encoded data removed]",
      "text/plain": [
       "<Figure size 720x432 with 1 Axes>"
      ]
     },
     "metadata": {
      "needs_background": "light"
     },
     "output_type": "display_data"
    }
   ],
   "source": [
    "### Plot Eigenvalues of Various Linearized Systems\n",
    "    ### (Eval'd at the respective steady states for single fixed mu and rho\n",
    "    \n",
    "# Loop the code below over a list of sigmas\n",
    "    # Subplots with left column symmetric, right asymmetric\n",
    "    # Make list, stability_probs. For each aEVs with different sig, append the\n",
    "      # ratio of matrices that have any Re(lam)>0 to k.\n",
    "\n",
    "sigs = [0.5,1,2,5,10]\n",
    "# just have one pair (sEVs,aEVs) at a time for simplicity\n",
    "    # generate sEVs, aEVs with current sigma\n",
    "    # plot them\n",
    "    # append to stability_freq using aEVs\n",
    "\n",
    "n = 20      # number of species AND number of resrcs\n",
    "k = 750     # number of systems to generate\n",
    "\n",
    "stability_freqs = [] # len(sigs)\n",
    "\n",
    "for j, s in enumerate(sigs):\n",
    "    \n",
    "    sEVs = rand_eigval_gen(n, k, sig = s, symmetric=True)\n",
    "    aEVs = rand_eigval_gen(n, k, sig = s, symmetric=False)\n",
    "    \n",
    "    for i, q in enumerate([sEVs, aEVs]): # i index, q current value\n",
    "\n",
    "        x = q.real\n",
    "        y = q.imag\n",
    "\n",
    "        plt.rcParams[\"axes.edgecolor\"] = \"black\" \n",
    "        plt.rcParams[\"axes.linewidth\"] = 1 \n",
    "\n",
    "        fig, ax = plt.subplots(figsize = (10, 6))\n",
    "\n",
    "        #cmap = plt.cm.viridis_r  ### old, gets an error\n",
    "        cmap = mpl.cm.get_cmap(\"magma\").copy()\n",
    "        cmap.set_under(color = 'white') \n",
    "\n",
    "        plt.axvline(0, c='grey', linestyle='--', linewidth=1, ymin=0.07, ymax=0.93) ### stability threshold (Re = 0)\n",
    "\n",
    "        font = {'size' : 14}\n",
    "        plt.rc('font', **font)\n",
    "\n",
    "        plt.hexbin(x, y, bins=None, cmap=cmap, linewidths=0.1) ### bins = 'log' seems unhelpful???\n",
    "\n",
    "        plt.xlabel(r'Re($\\lambda$)')\n",
    "        plt.ylabel(r'Im($\\lambda$)')\n",
    "\n",
    "        plt.clim(10**(-8), 5.0) ### color limits, increase upper for better contrast ???\n",
    "        ### originally, (10**(-8), 2.0)\n",
    "\n",
    "        xmin, xmax = plt.xlim()\n",
    "        nxm = (xmax - xmin) / 10 ### def'n some padding/margins\n",
    "        plt.xlim((xmin - nxm, xmax + nxm))\n",
    "\n",
    "\n",
    "        ### Adjusting Re axis tick marks\n",
    "        if i==0: ### symmetric P\n",
    "            loc = plticker.MultipleLocator(base=0.01) ### tick marks in increments of 'base'\n",
    "            ax.xaxis.set_major_locator(loc)\n",
    "            plt.title(r'Symmetric P, $\\sigma={}$'.format(s))\n",
    "\n",
    "        if i==1: ### asymmetric P\n",
    "            loc = plticker.MultipleLocator(base=0.01) ### originally, base = 0.02\n",
    "            ax.xaxis.set_major_locator(loc)\n",
    "            plt.title(r'Asymmetric P, $\\sigma={}$'.format(s))\n",
    "\n",
    "\n",
    "        ymin, ymax = plt.ylim()\n",
    "        nym = (ymax - ymin) / 3\n",
    "        plt.ylim((ymin - nym, ymax + nym))\n",
    "\n",
    "        cb = plt.colorbar(aspect=40, shrink=0.85, pad=0.07)\n",
    "        locs = cb.get_ticks()\n",
    "        tl = locs[-1] * 2 / 25\n",
    "        cb.set_ticks([tl, locs[-1] - tl])\n",
    "        cb.set_ticklabels(['Low Density', 'High Density'])\n",
    "\n",
    "    # plt.show();\n",
    "    \n",
    "    plt.subplot(2*len(sigs),2,(i+j+1))\n"
   ]
  },
  {
   "cell_type": "code",
   "execution_count": 60,
   "metadata": {},
   "outputs": [
    {
     "data": {
      "text/plain": [
       "10"
      ]
     },
     "execution_count": 60,
     "metadata": {},
     "output_type": "execute_result"
    }
   ],
   "source": [
    "sig"
   ]
  },
  {
   "cell_type": "code",
   "execution_count": 48,
   "metadata": {},
   "outputs": [
    {
     "data": {
      "text/plain": [
       "(400,)"
      ]
     },
     "execution_count": 48,
     "metadata": {},
     "output_type": "execute_result"
    },
    {
     "data": {
      "text/plain": [
       "(400,)"
      ]
     },
     "execution_count": 48,
     "metadata": {},
     "output_type": "execute_result"
    }
   ],
   "source": [
    "sEVs.real.shape\n",
    "sEVs.imag.shape"
   ]
  },
  {
   "cell_type": "code",
   "execution_count": 221,
   "metadata": {},
   "outputs": [
    {
     "data": {
      "text/plain": [
       "array([False, False, False, ..., False, False, False])"
      ]
     },
     "execution_count": 221,
     "metadata": {},
     "output_type": "execute_result"
    },
    {
     "data": {
      "text/plain": [
       "0.04237"
      ]
     },
     "execution_count": 221,
     "metadata": {},
     "output_type": "execute_result"
    },
    {
     "data": {
      "text/plain": [
       "0.95763"
      ]
     },
     "execution_count": 221,
     "metadata": {},
     "output_type": "execute_result"
    },
    {
     "data": {
      "text/plain": [
       "1.0"
      ]
     },
     "execution_count": 221,
     "metadata": {},
     "output_type": "execute_result"
    }
   ],
   "source": [
    "### This just gives percent of total eigenvalues that suggest (in)stability\n",
    "    ### Would have to keep them separated by the sub-P that they came from to determine the \"probability\" of stability\n",
    "aEVs_reals = aEVs.real\n",
    "ratio_unstable = np.sum(aEVs_reals>0)/aEVs.size\n",
    "ratio_stable = np.sum(aEVs_reals<0)/aEVs.size\n",
    "ratio_unstable\n",
    "ratio_stable\n",
    "ratio_unstable+ratio_stable"
   ]
  },
  {
   "cell_type": "code",
   "execution_count": 215,
   "metadata": {},
   "outputs": [
    {
     "data": {
      "text/plain": [
       "array([-0.0049 , -0.0049 , -0.00529, ..., -0.00604, -0.00571, -0.00571])"
      ]
     },
     "execution_count": 215,
     "metadata": {},
     "output_type": "execute_result"
    }
   ],
   "source": [
    "aEVs.real"
   ]
  },
  {
   "cell_type": "code",
   "execution_count": 20,
   "metadata": {},
   "outputs": [],
   "source": [
    "###########################################################\n",
    "############ Start of Stability Measures ##################\n",
    "###########################################################"
   ]
  },
  {
   "cell_type": "code",
   "execution_count": 64,
   "metadata": {},
   "outputs": [],
   "source": [
    "### Arnoldi Stability Measures\n",
    "n = 20 #repeated\n",
    "import scipy as sp # for matrix exponential\n",
    "\n",
    "# Return Rates\n",
    "def R_avg(x, t, u): #requires, current displacement 'x', current time 't', perturbation 'u'\n",
    "    return -( np.log(np.linalg.norm(x,2)) - np.log(np.linalg.norm(u,2))) / t"
   ]
  },
  {
   "cell_type": "code",
   "execution_count": 65,
   "metadata": {},
   "outputs": [],
   "source": [
    "### Generate uniformly distributed unit-length  perturbation 'u' ; does this still count as 'uniform'???\n",
    "\n",
    "# Arnoldi Appendix E suggests def'n v with v_i std Gaussian, then normalize to u. Why Gaussian?? \n",
    "def u_gen_unif(n):\n",
    "    #u = np.random.uniform(-1, 1, n)\n",
    "    u = np.random.normal(0,1,n) # so-called 'v' in Arnoldi\n",
    "    return u/np.linalg.norm(u,2) # does this provide uniformly distributed pert direction? They say so. \n",
    "# Really, according to Arnoldi, perturbations should tend to have greater effect on more abundant species.\n",
    "# This is pretty subjective, I suppose? Is there empirical justification for this 'tendency'?\n",
    "\n",
    "# Perturbation covariance matrix Cov, for uniform perturbation direction\n",
    "Cov_unif = np.identity(n)/n # for when equil. populations not being considered in perturbation distribution"
   ]
  },
  {
   "cell_type": "code",
   "execution_count": 67,
   "metadata": {},
   "outputs": [],
   "source": [
    "### Generate 'u' such that u_i proportional to N*_i\n",
    "Nstar = np.random.rand(n) #just an example Nstar\n",
    "Nstar = Nstar/np.linalg.norm(Nstar,2)\n",
    "\n",
    "LAM = np.sum(np.square(Nstar)) #lambda, from Arnoldi Appendix E\n",
    "Cov_prop = np.diag(np.square(Nstar)/LAM) ### From Arnoldi Appendix E, Covariance matrix when u_i prop. to N*_i\n",
    "\n",
    "#Appendix E says the following:\n",
    "def u_gen_prop(n, Nstar): # Generate perturbation from a population-proportional distribution\n",
    "    v = np.random.normal(0,1,n)\n",
    "    D = np.diag(Nstar)\n",
    "    w = D*v # really just pairwise multiplication of Nstar and v\n",
    "    u = w/np.linalg.norm(w,2)\n",
    "    return u\n",
    "\n",
    "# This is a more suitable perturbation model: Expectation of u_i proportional to N*_i"
   ]
  },
  {
   "cell_type": "code",
   "execution_count": null,
   "metadata": {},
   "outputs": [],
   "source": [
    "### Median approximations\n",
    "def disp_median(A,Cov,t): # community matrix A, Covariance matrix Cov, time t\n",
    "    # displacement = ||x(t)||\n",
    "    return np.sqrt(np.trace(sp.linalg.expm(A*t)*Cov*sp.linalg.expm(A.T*t)))\n",
    "\n",
    "def R_avg_median(A,Cov,t): # average return rate\n",
    "    return -(np.log(np.trace(sp.linalg.expm(A*t)*Cov*sp.linalg.expm(A.T*t))) - np.log(np.trace(Cov))) / (2*t)"
   ]
  },
  {
   "cell_type": "code",
   "execution_count": null,
   "metadata": {},
   "outputs": [],
   "source": [
    "equil = np.concatenate((R_star_ex[0,:,:],S_star_ex[0,:,:]))\n",
    "\n",
    "equil.shape"
   ]
  },
  {
   "cell_type": "code",
   "execution_count": 74,
   "metadata": {},
   "outputs": [
    {
     "data": {
      "text/plain": [
       "1.0"
      ]
     },
     "execution_count": 74,
     "metadata": {},
     "output_type": "execute_result"
    }
   ],
   "source": [
    "u_ex = u_gen_prop(n,equil)\n",
    "np.linalg.norm(u_ex,2) #cool\n",
    "LAM_ex = np.sum(np.square(equil))\n",
    "Cov_ex = np.diag(np.square(equil)/LAM)"
   ]
  },
  {
   "cell_type": "code",
   "execution_count": 192,
   "metadata": {},
   "outputs": [],
   "source": [
    "### Return time\n",
    "#c, chosen threshold distance from equilibrium\n",
    "# T(c) = min(t) such that ||x(t+s)|| <= c for all s>=0 #(does not displace back out of threshold once it reaches return time)"
   ]
  },
  {
   "cell_type": "code",
   "execution_count": 132,
   "metadata": {
    "scrolled": false
   },
   "outputs": [
    {
     "data": {
      "image/png": "[encoded data removed]",
      "text/plain": [
       "<Figure size 432x288 with 1 Axes>"
      ]
     },
     "metadata": {
      "needs_background": "light"
     },
     "output_type": "display_data"
    },
    {
     "data": {
      "image/png": "[encoded data removed]",
      "text/plain": [
       "<Figure size 432x288 with 1 Axes>"
      ]
     },
     "metadata": {
      "needs_background": "light"
     },
     "output_type": "display_data"
    }
   ],
   "source": [
    "### Plot Grid Representing Production Matrix P ###\n",
    "\n",
    "for i, M in enumerate([sP, aP]):\n",
    "    \n",
    "    c_map = mpl.colors.LinearSegmentedColormap.from_list('my_colormap',\n",
    "                                               ['white', 'green'],\n",
    "                                               256)\n",
    "    plt.rcParams[\"axes.edgecolor\"] = \"black\"\n",
    "    plt.rcParams[\"axes.linewidth\"] = 1\n",
    "\n",
    "    fig, ax = plt.subplots()\n",
    "\n",
    "    img = plt.imshow(M, interpolation='nearest',\n",
    "                    cmap=c_map)\n",
    "\n",
    "    ax.xaxis.set_major_formatter(plt.NullFormatter())\n",
    "    ax.yaxis.set_major_formatter(plt.NullFormatter())\n",
    "    plt.tick_params(axis = 'both',          \n",
    "                    which = 'both',      \n",
    "                    bottom = 'off',      \n",
    "                    top = 'off',         \n",
    "                    labelbottom = 'off',\n",
    "                    left = 'off',\n",
    "                    right = 'off')\n",
    "\n",
    "    ax.grid(False)\n",
    "plt.show();"
   ]
  },
  {
   "cell_type": "code",
   "execution_count": 133,
   "metadata": {},
   "outputs": [
    {
     "data": {
      "image/png": "[encoded data removed]",
      "text/plain": [
       "<Figure size 432x288 with 1 Axes>"
      ]
     },
     "metadata": {
      "needs_background": "light"
     },
     "output_type": "display_data"
    }
   ],
   "source": [
    "### Plot grid representing consumption C ###\n",
    "\n",
    "C = c*I\n",
    "\n",
    "for M in [C]:\n",
    "    c_map = mpl.colors.LinearSegmentedColormap.from_list('my_colormap',\n",
    "                                               ['white', 'navy'],\n",
    "                                               256)\n",
    "    plt.rcParams[\"axes.edgecolor\"] = \"black\"\n",
    "    plt.rcParams[\"axes.linewidth\"] = 1\n",
    "\n",
    "    fig, ax = plt.subplots()\n",
    "\n",
    "    img = plt.imshow(M, interpolation='nearest',\n",
    "                        cmap=c_map)\n",
    "\n",
    "\n",
    "    ax.xaxis.set_major_formatter(plt.NullFormatter())\n",
    "    ax.yaxis.set_major_formatter(plt.NullFormatter())\n",
    "    plt.tick_params(axis='both',          \n",
    "                    which='both',      \n",
    "                    bottom='off',      \n",
    "                    top='off',         \n",
    "                    labelbottom='off',\n",
    "                    left='off',\n",
    "                    right='off')\n",
    "\n",
    "    ax.grid(False)\n"
   ]
  },
  {
   "cell_type": "code",
   "execution_count": null,
   "metadata": {},
   "outputs": [],
   "source": [
    "### Diversity Indices\n",
    "\n",
    "def alpha_???(N): # population vector N\n",
    "    "
   ]
  }
 ],
 "metadata": {
  "kernelspec": {
   "display_name": "Python 3 (ipykernel)",
   "language": "python",
   "name": "python3"
  },
  "language_info": {
   "codemirror_mode": {
    "name": "ipython",
    "version": 3
   },
   "file_extension": ".py",
   "mimetype": "text/x-python",
   "name": "python",
   "nbconvert_exporter": "python",
   "pygments_lexer": "ipython3",
   "version": "3.9.7"
  }
 },
 "nbformat": 4,
 "nbformat_minor": 2
}
